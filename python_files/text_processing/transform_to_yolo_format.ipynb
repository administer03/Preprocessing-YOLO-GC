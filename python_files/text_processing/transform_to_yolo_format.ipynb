{
 "cells": [
  {
   "cell_type": "code",
   "execution_count": 45,
   "metadata": {},
   "outputs": [],
   "source": [
    "import matplotlib.pyplot as plt\n",
    "import numpy as np\n",
    "import glob\n",
    "import os\n",
    "import tqdm\n",
    "import cv2"
   ]
  },
  {
   "cell_type": "code",
   "execution_count": 2,
   "metadata": {},
   "outputs": [],
   "source": [
    "# path = '../../data/jpg/global_F814W_InvertY/'\n",
    "path_sub_train = '../../data/ds9_dataset/labels_sub_txt/train/'\n",
    "path_sub_test = '../../data/ds9_dataset/labels_sub_txt/test/'\n",
    "sub_folder_train = glob.glob(os.path.join(path_sub_train, \"*\"))\n",
    "sub_folder_test = glob.glob(os.path.join(path_sub_test, \"*\"))"
   ]
  },
  {
   "cell_type": "code",
   "execution_count": 3,
   "metadata": {},
   "outputs": [
    {
     "data": {
      "text/plain": [
       "['../../data/ds9_dataset/labels_sub_txt/train\\\\ASINH',\n",
       " '../../data/ds9_dataset/labels_sub_txt/train\\\\Linear',\n",
       " '../../data/ds9_dataset/labels_sub_txt/train\\\\Log',\n",
       " '../../data/ds9_dataset/labels_sub_txt/train\\\\Power',\n",
       " '../../data/ds9_dataset/labels_sub_txt/train\\\\SINH',\n",
       " '../../data/ds9_dataset/labels_sub_txt/train\\\\Sqrt',\n",
       " '../../data/ds9_dataset/labels_sub_txt/train\\\\Squarded']"
      ]
     },
     "execution_count": 3,
     "metadata": {},
     "output_type": "execute_result"
    }
   ],
   "source": [
    "sub_folder_train"
   ]
  },
  {
   "cell_type": "code",
   "execution_count": 15,
   "metadata": {},
   "outputs": [],
   "source": [
    "# revers origin image coordinate is important, make sure that the origin is at the bottom left corner same as the DS9 coordinate\n",
    "# ref by https://stackoverflow.com/questions/43584463/change-origin-of-image-coordinate-system-to-bottom-left-instead-of-default-top-l"
   ]
  },
  {
   "cell_type": "code",
   "execution_count": 5,
   "metadata": {},
   "outputs": [],
   "source": [
    "# reverse the origin of the y-axis of the image\n",
    "def reverse_origin(image):\n",
    "    plt.imshow(image, origin='lower')\n",
    "    plt.show()\n",
    "    \n",
    "\n",
    "# display the image\n",
    "def display_image(image):\n",
    "    plt.imshow(image)\n",
    "    plt.show()\n",
    "# image = plt.imread(files_name[0])\n",
    "# display_image((image))"
   ]
  },
  {
   "cell_type": "code",
   "execution_count": 16,
   "metadata": {},
   "outputs": [],
   "source": [
    "# display image in file_\n",
    "index = 0\n",
    "img = plt.imread(files_name[index])\n"
   ]
  },
  {
   "cell_type": "code",
   "execution_count": 17,
   "metadata": {},
   "outputs": [],
   "source": [
    "# read text in position file\n",
    "# path_ = \"../../data/jpg/labels_global_F814W_InvertY/\"\n",
    "path_ = \"../../data/data_augmentation/gray/x_y_coordinate/\"\n",
    "file_ = glob.glob(os.path.join(path_, \"*\"))\n",
    "with open(file_[index], \"r\") as f:\n",
    "    items_list = f.readlines()\n",
    "    items_list = [item.strip().split(\" \") for item in items_list]\n"
   ]
  },
  {
   "cell_type": "code",
   "execution_count": 18,
   "metadata": {},
   "outputs": [
    {
     "data": {
      "text/plain": [
       "(0, [])"
      ]
     },
     "execution_count": 18,
     "metadata": {},
     "output_type": "execute_result"
    }
   ],
   "source": [
    "len(items_list), items_list"
   ]
  },
  {
   "cell_type": "code",
   "execution_count": 6,
   "metadata": {},
   "outputs": [],
   "source": [
    "# plot scatter in image using position file by x_min = x-w, x_max = x+w, y_min = y-h, y_max = y+h\n",
    "def plot_scatter(items_list, img):\n",
    "    \"\"\"\n",
    "    items_list: list of items in position file\n",
    "    img: image\n",
    "    \"\"\"\n",
    "    for item in items_list:\n",
    "        x = float(item[1])\n",
    "        y = float(item[2])\n",
    "        w = float(item[3])\n",
    "        h = float(item[4])\n",
    "        x_min = x - w\n",
    "        x_max = x + w\n",
    "        y_min = y - h\n",
    "        y_max = y + h\n",
    "        plt.scatter(x_min, y_min, c='r')\n",
    "        plt.scatter(x_max, y_max, c='r')\n",
    "        plt.scatter(x_min, y_max, c='r')\n",
    "        plt.scatter(x_max, y_min, c='r')\n",
    "        plt.scatter(x, y, c='b')\n",
    "    plt.imshow(img)\n",
    "    plt.show()\n",
    "\n",
    "# plot_scatter(items_list, img)"
   ]
  },
  {
   "cell_type": "code",
   "execution_count": 7,
   "metadata": {},
   "outputs": [],
   "source": [
    "# display bounding box by using position file x_min = x-h, x_max = x+h, y_min = y-w, y_max = y+w\n",
    "def plot_bounding_box(items_list, img):\n",
    "    \"\"\"\n",
    "    items_list: list of items in position file\n",
    "    img: image\n",
    "    \"\"\"\n",
    "    plt.rcParams['figure.figsize'] = [15, 15]\n",
    "    for item in items_list:\n",
    "        x = float(item[1])\n",
    "        y = float(item[2])\n",
    "        w = float(item[3])\n",
    "        h = float(item[4])\n",
    "        x_min = x - w\n",
    "        x_max = x + w\n",
    "        y_min = y - h\n",
    "        y_max = y + h\n",
    "        plt.plot([x_min, x_max], [y_min, y_min], c='r')\n",
    "        plt.plot([x_min, x_max], [y_max, y_max], c='r')\n",
    "        plt.plot([x_min, x_min], [y_min, y_max], c='r')\n",
    "        plt.plot([x_max, x_max], [y_min, y_max], c='r')\n",
    "    plt.imshow(img)\n",
    "    plt.show()\n",
    "\n",
    "# plot_bounding_box(items_list, img)"
   ]
  },
  {
   "cell_type": "markdown",
   "metadata": {},
   "source": [
    "# do it with loop"
   ]
  },
  {
   "cell_type": "code",
   "execution_count": 54,
   "metadata": {},
   "outputs": [],
   "source": [
    "def convert(size, box):\n",
    "    dw = 1./size[0]\n",
    "    dh = 1./size[1]\n",
    "    x = (box[0] + box[1])/2.0\n",
    "    y = (box[2] + box[3])/2.0\n",
    "    w = box[1] - box[0]\n",
    "    h = box[3] - box[2]\n",
    "    x = x*dw\n",
    "    w = w*dw\n",
    "    y = y*dh\n",
    "    h = h*dh\n",
    "    # return x,y,w,h with float 4 digits\n",
    "    return (round(x, 4), round(y, 4), round(w, 4), round(h, 4))"
   ]
  },
  {
   "cell_type": "code",
   "execution_count": 57,
   "metadata": {},
   "outputs": [],
   "source": [
    "# convert the positon from pixel to YOLO format following the format file: labels x_center y_center width height\n",
    "# calculate x_min = x-w, x_max = x+w, y_min = y-h, y_max = y+h\n",
    "def convert_position_to_YOLO_format(items_list, img, name_to_write , path):\n",
    "    \"\"\"\n",
    "    items_list: list of items in position file\n",
    "    img: image\n",
    "    \"\"\"\n",
    "    try:\n",
    "        height, width, _ = img.shape\n",
    "    except:\n",
    "        height, width = img.shape\n",
    "    if items_list != []:\n",
    "        for item in items_list:\n",
    "            x = float(item[1])\n",
    "            y = float(item[2])\n",
    "            w = float(item[3])\n",
    "            h = float(item[4])\n",
    "            x_min = (x - w) \n",
    "            x_max = (x + w) \n",
    "            y_min = (y - h) \n",
    "            y_max = (y + h) \n",
    "            new_pos = convert((width, height), (x_min, x_max, y_min, y_max))\n",
    "            # open file to write in Yolo_labels_global_F814W_InvertY by file_\n",
    "            with open(path + name_to_write, \"a\") as f:\n",
    "                if item[0] == \"Cluster\":\n",
    "                    # print(\"0\", new_pos[0], new_pos[1], new_pos[2], new_pos[3])\n",
    "                    f.write(\"0\" + \" \" + str(new_pos[0]) + \" \" + str(new_pos[1]) + \" \" + str(new_pos[2]) + \" \" + str(new_pos[3]) + \"\\n\")\n",
    "                else:\n",
    "                    # print(\"1\", new_pos[0], new_pos[1], new_pos[2], new_pos[3])\n",
    "                    # f.write(\"1\" + \" \" + str(new_pos[0]) + \" \" + str(new_pos[1]) + \" \" + str(new_pos[2]) + \" \" + str(new_pos[3]) + \"\\n\")\n",
    "                    \n",
    "                    # don't write anything if the item is not a cluster\n",
    "                    pass\n",
    "            f.close()\n",
    "    else:\n",
    "        with open(path + name_to_write, \"a\") as f:\n",
    "            f.write(\"\")\n",
    "        f.close()\n",
    "                \n",
    "# convert_position_to_YOLO_format(items_list, img)\n"
   ]
  },
  {
   "cell_type": "code",
   "execution_count": 13,
   "metadata": {},
   "outputs": [
    {
     "name": "stdout",
     "output_type": "stream",
     "text": [
      "Processing file:  hst_10190_12_acs_wfc_f814w_j90o12_drc_1\n",
      "Processing file:  hst_10190_12_acs_wfc_f814w_j90o12_drc_10\n",
      "Processing file:  hst_10190_12_acs_wfc_f814w_j90o12_drc_11\n",
      "Processing file:  hst_10190_12_acs_wfc_f814w_j90o12_drc_12\n",
      "Processing file:  hst_10190_12_acs_wfc_f814w_j90o12_drc_13\n",
      "Processing file:  hst_10190_12_acs_wfc_f814w_j90o12_drc_14\n",
      "Processing file:  hst_10190_12_acs_wfc_f814w_j90o12_drc_15\n",
      "Processing file:  hst_10190_12_acs_wfc_f814w_j90o12_drc_16\n",
      "Processing file:  hst_10190_12_acs_wfc_f814w_j90o12_drc_17\n",
      "Processing file:  hst_10190_12_acs_wfc_f814w_j90o12_drc_18\n",
      "Processing file:  hst_10190_12_acs_wfc_f814w_j90o12_drc_19\n",
      "Processing file:  hst_10190_12_acs_wfc_f814w_j90o12_drc_2\n",
      "Processing file:  hst_10190_12_acs_wfc_f814w_j90o12_drc_20\n",
      "Processing file:  hst_10190_12_acs_wfc_f814w_j90o12_drc_21\n",
      "Processing file:  hst_10190_12_acs_wfc_f814w_j90o12_drc_22\n",
      "Processing file:  hst_10190_12_acs_wfc_f814w_j90o12_drc_23\n",
      "Processing file:  hst_10190_12_acs_wfc_f814w_j90o12_drc_24\n",
      "Processing file:  hst_10190_12_acs_wfc_f814w_j90o12_drc_25\n",
      "Processing file:  hst_10190_12_acs_wfc_f814w_j90o12_drc_26\n",
      "Processing file:  hst_10190_12_acs_wfc_f814w_j90o12_drc_27\n",
      "Processing file:  hst_10190_12_acs_wfc_f814w_j90o12_drc_28\n",
      "Processing file:  hst_10190_12_acs_wfc_f814w_j90o12_drc_29\n",
      "Processing file:  hst_10190_12_acs_wfc_f814w_j90o12_drc_3\n",
      "Processing file:  hst_10190_12_acs_wfc_f814w_j90o12_drc_30\n",
      "Processing file:  hst_10190_12_acs_wfc_f814w_j90o12_drc_31\n",
      "Processing file:  hst_10190_12_acs_wfc_f814w_j90o12_drc_32\n",
      "Processing file:  hst_10190_12_acs_wfc_f814w_j90o12_drc_33\n",
      "Processing file:  hst_10190_12_acs_wfc_f814w_j90o12_drc_34\n",
      "Processing file:  hst_10190_12_acs_wfc_f814w_j90o12_drc_35\n",
      "Processing file:  hst_10190_12_acs_wfc_f814w_j90o12_drc_36\n",
      "Processing file:  hst_10190_12_acs_wfc_f814w_j90o12_drc_4\n",
      "Processing file:  hst_10190_12_acs_wfc_f814w_j90o12_drc_5\n",
      "Processing file:  hst_10190_12_acs_wfc_f814w_j90o12_drc_6\n",
      "Processing file:  hst_10190_12_acs_wfc_f814w_j90o12_drc_7\n",
      "Processing file:  hst_10190_12_acs_wfc_f814w_j90o12_drc_8\n",
      "Processing file:  hst_10190_12_acs_wfc_f814w_j90o12_drc_9\n",
      "Processing file:  hst_10190_28_acs_wfc_f814w_j90o28_drc_1\n",
      "Processing file:  hst_10190_28_acs_wfc_f814w_j90o28_drc_10\n",
      "Processing file:  hst_10190_28_acs_wfc_f814w_j90o28_drc_11\n",
      "Processing file:  hst_10190_28_acs_wfc_f814w_j90o28_drc_12\n",
      "Processing file:  hst_10190_28_acs_wfc_f814w_j90o28_drc_13\n",
      "Processing file:  hst_10190_28_acs_wfc_f814w_j90o28_drc_14\n",
      "Processing file:  hst_10190_28_acs_wfc_f814w_j90o28_drc_15\n",
      "Processing file:  hst_10190_28_acs_wfc_f814w_j90o28_drc_16\n",
      "Processing file:  hst_10190_28_acs_wfc_f814w_j90o28_drc_17\n",
      "Processing file:  hst_10190_28_acs_wfc_f814w_j90o28_drc_18\n",
      "Processing file:  hst_10190_28_acs_wfc_f814w_j90o28_drc_19\n",
      "Processing file:  hst_10190_28_acs_wfc_f814w_j90o28_drc_2\n",
      "Processing file:  hst_10190_28_acs_wfc_f814w_j90o28_drc_20\n",
      "Processing file:  hst_10190_28_acs_wfc_f814w_j90o28_drc_21\n",
      "Processing file:  hst_10190_28_acs_wfc_f814w_j90o28_drc_22\n",
      "Processing file:  hst_10190_28_acs_wfc_f814w_j90o28_drc_23\n",
      "Processing file:  hst_10190_28_acs_wfc_f814w_j90o28_drc_24\n",
      "Processing file:  hst_10190_28_acs_wfc_f814w_j90o28_drc_25\n",
      "Processing file:  hst_10190_28_acs_wfc_f814w_j90o28_drc_3\n",
      "Processing file:  hst_10190_28_acs_wfc_f814w_j90o28_drc_4\n",
      "Processing file:  hst_10190_28_acs_wfc_f814w_j90o28_drc_5\n",
      "Processing file:  hst_10190_28_acs_wfc_f814w_j90o28_drc_6\n",
      "Processing file:  hst_10190_28_acs_wfc_f814w_j90o28_drc_7\n",
      "Processing file:  hst_10190_28_acs_wfc_f814w_j90o28_drc_8\n",
      "Processing file:  hst_10190_28_acs_wfc_f814w_j90o28_drc_9\n",
      "Processing file:  hst_14610_02_acs_wfc_f814w_jdb602_drc_1\n",
      "Processing file:  hst_14610_02_acs_wfc_f814w_jdb602_drc_10\n",
      "Processing file:  hst_14610_02_acs_wfc_f814w_jdb602_drc_11\n",
      "Processing file:  hst_14610_02_acs_wfc_f814w_jdb602_drc_12\n",
      "Processing file:  hst_14610_02_acs_wfc_f814w_jdb602_drc_13\n",
      "Processing file:  hst_14610_02_acs_wfc_f814w_jdb602_drc_14\n",
      "Processing file:  hst_14610_02_acs_wfc_f814w_jdb602_drc_15\n",
      "Processing file:  hst_14610_02_acs_wfc_f814w_jdb602_drc_16\n",
      "Processing file:  hst_14610_02_acs_wfc_f814w_jdb602_drc_17\n",
      "Processing file:  hst_14610_02_acs_wfc_f814w_jdb602_drc_18\n",
      "Processing file:  hst_14610_02_acs_wfc_f814w_jdb602_drc_19\n",
      "Processing file:  hst_14610_02_acs_wfc_f814w_jdb602_drc_2\n",
      "Processing file:  hst_14610_02_acs_wfc_f814w_jdb602_drc_20\n",
      "Processing file:  hst_14610_02_acs_wfc_f814w_jdb602_drc_21\n",
      "Processing file:  hst_14610_02_acs_wfc_f814w_jdb602_drc_22\n",
      "Processing file:  hst_14610_02_acs_wfc_f814w_jdb602_drc_23\n",
      "Processing file:  hst_14610_02_acs_wfc_f814w_jdb602_drc_24\n",
      "Processing file:  hst_14610_02_acs_wfc_f814w_jdb602_drc_25\n",
      "Processing file:  hst_14610_02_acs_wfc_f814w_jdb602_drc_26\n",
      "Processing file:  hst_14610_02_acs_wfc_f814w_jdb602_drc_27\n",
      "Processing file:  hst_14610_02_acs_wfc_f814w_jdb602_drc_28\n",
      "Processing file:  hst_14610_02_acs_wfc_f814w_jdb602_drc_29\n",
      "Processing file:  hst_14610_02_acs_wfc_f814w_jdb602_drc_3\n",
      "Processing file:  hst_14610_02_acs_wfc_f814w_jdb602_drc_30\n",
      "Processing file:  hst_14610_02_acs_wfc_f814w_jdb602_drc_31\n",
      "Processing file:  hst_14610_02_acs_wfc_f814w_jdb602_drc_32\n",
      "Processing file:  hst_14610_02_acs_wfc_f814w_jdb602_drc_33\n",
      "Processing file:  hst_14610_02_acs_wfc_f814w_jdb602_drc_34\n",
      "Processing file:  hst_14610_02_acs_wfc_f814w_jdb602_drc_35\n",
      "Processing file:  hst_14610_02_acs_wfc_f814w_jdb602_drc_36\n",
      "Processing file:  hst_14610_02_acs_wfc_f814w_jdb602_drc_4\n",
      "Processing file:  hst_14610_02_acs_wfc_f814w_jdb602_drc_5\n",
      "Processing file:  hst_14610_02_acs_wfc_f814w_jdb602_drc_6\n",
      "Processing file:  hst_14610_02_acs_wfc_f814w_jdb602_drc_7\n",
      "Processing file:  hst_14610_02_acs_wfc_f814w_jdb602_drc_8\n",
      "Processing file:  hst_14610_02_acs_wfc_f814w_jdb602_drc_9\n",
      "Processing file:  hst_14610_12_acs_wfc_f814w_jdb612_drc_1\n",
      "Processing file:  hst_14610_12_acs_wfc_f814w_jdb612_drc_10\n",
      "Processing file:  hst_14610_12_acs_wfc_f814w_jdb612_drc_11\n",
      "Processing file:  hst_14610_12_acs_wfc_f814w_jdb612_drc_12\n",
      "Processing file:  hst_14610_12_acs_wfc_f814w_jdb612_drc_13\n",
      "Processing file:  hst_14610_12_acs_wfc_f814w_jdb612_drc_14\n",
      "Processing file:  hst_14610_12_acs_wfc_f814w_jdb612_drc_15\n",
      "Processing file:  hst_14610_12_acs_wfc_f814w_jdb612_drc_16\n",
      "Processing file:  hst_14610_12_acs_wfc_f814w_jdb612_drc_17\n",
      "Processing file:  hst_14610_12_acs_wfc_f814w_jdb612_drc_18\n",
      "Processing file:  hst_14610_12_acs_wfc_f814w_jdb612_drc_19\n",
      "Processing file:  hst_14610_12_acs_wfc_f814w_jdb612_drc_2\n",
      "Processing file:  hst_14610_12_acs_wfc_f814w_jdb612_drc_20\n",
      "Processing file:  hst_14610_12_acs_wfc_f814w_jdb612_drc_21\n",
      "Processing file:  hst_14610_12_acs_wfc_f814w_jdb612_drc_22\n",
      "Processing file:  hst_14610_12_acs_wfc_f814w_jdb612_drc_23\n",
      "Processing file:  hst_14610_12_acs_wfc_f814w_jdb612_drc_24\n",
      "Processing file:  hst_14610_12_acs_wfc_f814w_jdb612_drc_25\n",
      "Processing file:  hst_14610_12_acs_wfc_f814w_jdb612_drc_26\n",
      "Processing file:  hst_14610_12_acs_wfc_f814w_jdb612_drc_27\n",
      "Processing file:  hst_14610_12_acs_wfc_f814w_jdb612_drc_28\n",
      "Processing file:  hst_14610_12_acs_wfc_f814w_jdb612_drc_29\n",
      "Processing file:  hst_14610_12_acs_wfc_f814w_jdb612_drc_3\n",
      "Processing file:  hst_14610_12_acs_wfc_f814w_jdb612_drc_30\n",
      "Processing file:  hst_14610_12_acs_wfc_f814w_jdb612_drc_31\n",
      "Processing file:  hst_14610_12_acs_wfc_f814w_jdb612_drc_32\n",
      "Processing file:  hst_14610_12_acs_wfc_f814w_jdb612_drc_33\n",
      "Processing file:  hst_14610_12_acs_wfc_f814w_jdb612_drc_34\n",
      "Processing file:  hst_14610_12_acs_wfc_f814w_jdb612_drc_35\n",
      "Processing file:  hst_14610_12_acs_wfc_f814w_jdb612_drc_36\n",
      "Processing file:  hst_14610_12_acs_wfc_f814w_jdb612_drc_4\n",
      "Processing file:  hst_14610_12_acs_wfc_f814w_jdb612_drc_5\n",
      "Processing file:  hst_14610_12_acs_wfc_f814w_jdb612_drc_6\n",
      "Processing file:  hst_14610_12_acs_wfc_f814w_jdb612_drc_7\n",
      "Processing file:  hst_14610_12_acs_wfc_f814w_jdb612_drc_8\n",
      "Processing file:  hst_14610_12_acs_wfc_f814w_jdb612_drc_9\n",
      "Processing file:  hst_14610_18_acs_wfc_f814w_jdb618_drc_1\n",
      "Processing file:  hst_14610_18_acs_wfc_f814w_jdb618_drc_10\n",
      "Processing file:  hst_14610_18_acs_wfc_f814w_jdb618_drc_11\n",
      "Processing file:  hst_14610_18_acs_wfc_f814w_jdb618_drc_12\n",
      "Processing file:  hst_14610_18_acs_wfc_f814w_jdb618_drc_13\n",
      "Processing file:  hst_14610_18_acs_wfc_f814w_jdb618_drc_14\n",
      "Processing file:  hst_14610_18_acs_wfc_f814w_jdb618_drc_15\n",
      "Processing file:  hst_14610_18_acs_wfc_f814w_jdb618_drc_16\n",
      "Processing file:  hst_14610_18_acs_wfc_f814w_jdb618_drc_17\n",
      "Processing file:  hst_14610_18_acs_wfc_f814w_jdb618_drc_18\n",
      "Processing file:  hst_14610_18_acs_wfc_f814w_jdb618_drc_19\n",
      "Processing file:  hst_14610_18_acs_wfc_f814w_jdb618_drc_2\n",
      "Processing file:  hst_14610_18_acs_wfc_f814w_jdb618_drc_20\n",
      "Processing file:  hst_14610_18_acs_wfc_f814w_jdb618_drc_21\n",
      "Processing file:  hst_14610_18_acs_wfc_f814w_jdb618_drc_22\n",
      "Processing file:  hst_14610_18_acs_wfc_f814w_jdb618_drc_23\n",
      "Processing file:  hst_14610_18_acs_wfc_f814w_jdb618_drc_24\n",
      "Processing file:  hst_14610_18_acs_wfc_f814w_jdb618_drc_25\n",
      "Processing file:  hst_14610_18_acs_wfc_f814w_jdb618_drc_26\n",
      "Processing file:  hst_14610_18_acs_wfc_f814w_jdb618_drc_27\n",
      "Processing file:  hst_14610_18_acs_wfc_f814w_jdb618_drc_28\n",
      "Processing file:  hst_14610_18_acs_wfc_f814w_jdb618_drc_29\n",
      "Processing file:  hst_14610_18_acs_wfc_f814w_jdb618_drc_3\n",
      "Processing file:  hst_14610_18_acs_wfc_f814w_jdb618_drc_30\n",
      "Processing file:  hst_14610_18_acs_wfc_f814w_jdb618_drc_31\n",
      "Processing file:  hst_14610_18_acs_wfc_f814w_jdb618_drc_32\n",
      "Processing file:  hst_14610_18_acs_wfc_f814w_jdb618_drc_33\n",
      "Processing file:  hst_14610_18_acs_wfc_f814w_jdb618_drc_34\n",
      "Processing file:  hst_14610_18_acs_wfc_f814w_jdb618_drc_35\n",
      "Processing file:  hst_14610_18_acs_wfc_f814w_jdb618_drc_36\n",
      "Processing file:  hst_14610_18_acs_wfc_f814w_jdb618_drc_4\n",
      "Processing file:  hst_14610_18_acs_wfc_f814w_jdb618_drc_5\n",
      "Processing file:  hst_14610_18_acs_wfc_f814w_jdb618_drc_6\n",
      "Processing file:  hst_14610_18_acs_wfc_f814w_jdb618_drc_7\n",
      "Processing file:  hst_14610_18_acs_wfc_f814w_jdb618_drc_8\n",
      "Processing file:  hst_14610_18_acs_wfc_f814w_jdb618_drc_9\n",
      "Processing file:  hst_14610_23_acs_wfc_f814w_jdb623_drc_1\n",
      "Processing file:  hst_14610_23_acs_wfc_f814w_jdb623_drc_10\n",
      "Processing file:  hst_14610_23_acs_wfc_f814w_jdb623_drc_11\n",
      "Processing file:  hst_14610_23_acs_wfc_f814w_jdb623_drc_12\n",
      "Processing file:  hst_14610_23_acs_wfc_f814w_jdb623_drc_13\n",
      "Processing file:  hst_14610_23_acs_wfc_f814w_jdb623_drc_14\n",
      "Processing file:  hst_14610_23_acs_wfc_f814w_jdb623_drc_15\n",
      "Processing file:  hst_14610_23_acs_wfc_f814w_jdb623_drc_16\n",
      "Processing file:  hst_14610_23_acs_wfc_f814w_jdb623_drc_17\n",
      "Processing file:  hst_14610_23_acs_wfc_f814w_jdb623_drc_18\n",
      "Processing file:  hst_14610_23_acs_wfc_f814w_jdb623_drc_19\n",
      "Processing file:  hst_14610_23_acs_wfc_f814w_jdb623_drc_2\n",
      "Processing file:  hst_14610_23_acs_wfc_f814w_jdb623_drc_20\n",
      "Processing file:  hst_14610_23_acs_wfc_f814w_jdb623_drc_21\n",
      "Processing file:  hst_14610_23_acs_wfc_f814w_jdb623_drc_22\n",
      "Processing file:  hst_14610_23_acs_wfc_f814w_jdb623_drc_23\n",
      "Processing file:  hst_14610_23_acs_wfc_f814w_jdb623_drc_24\n",
      "Processing file:  hst_14610_23_acs_wfc_f814w_jdb623_drc_25\n",
      "Processing file:  hst_14610_23_acs_wfc_f814w_jdb623_drc_26\n",
      "Processing file:  hst_14610_23_acs_wfc_f814w_jdb623_drc_27\n",
      "Processing file:  hst_14610_23_acs_wfc_f814w_jdb623_drc_28\n",
      "Processing file:  hst_14610_23_acs_wfc_f814w_jdb623_drc_29\n",
      "Processing file:  hst_14610_23_acs_wfc_f814w_jdb623_drc_3\n",
      "Processing file:  hst_14610_23_acs_wfc_f814w_jdb623_drc_30\n",
      "Processing file:  hst_14610_23_acs_wfc_f814w_jdb623_drc_31\n",
      "Processing file:  hst_14610_23_acs_wfc_f814w_jdb623_drc_32\n",
      "Processing file:  hst_14610_23_acs_wfc_f814w_jdb623_drc_33\n",
      "Processing file:  hst_14610_23_acs_wfc_f814w_jdb623_drc_34\n",
      "Processing file:  hst_14610_23_acs_wfc_f814w_jdb623_drc_35\n",
      "Processing file:  hst_14610_23_acs_wfc_f814w_jdb623_drc_36\n",
      "Processing file:  hst_14610_23_acs_wfc_f814w_jdb623_drc_37\n",
      "Processing file:  hst_14610_23_acs_wfc_f814w_jdb623_drc_38\n",
      "Processing file:  hst_14610_23_acs_wfc_f814w_jdb623_drc_39\n",
      "Processing file:  hst_14610_23_acs_wfc_f814w_jdb623_drc_4\n",
      "Processing file:  hst_14610_23_acs_wfc_f814w_jdb623_drc_40\n",
      "Processing file:  hst_14610_23_acs_wfc_f814w_jdb623_drc_41\n",
      "Processing file:  hst_14610_23_acs_wfc_f814w_jdb623_drc_42\n",
      "Processing file:  hst_14610_23_acs_wfc_f814w_jdb623_drc_43\n",
      "Processing file:  hst_14610_23_acs_wfc_f814w_jdb623_drc_44\n",
      "Processing file:  hst_14610_23_acs_wfc_f814w_jdb623_drc_45\n",
      "Processing file:  hst_14610_23_acs_wfc_f814w_jdb623_drc_46\n",
      "Processing file:  hst_14610_23_acs_wfc_f814w_jdb623_drc_47\n",
      "Processing file:  hst_14610_23_acs_wfc_f814w_jdb623_drc_48\n",
      "Processing file:  hst_14610_23_acs_wfc_f814w_jdb623_drc_49\n",
      "Processing file:  hst_14610_23_acs_wfc_f814w_jdb623_drc_5\n",
      "Processing file:  hst_14610_23_acs_wfc_f814w_jdb623_drc_6\n",
      "Processing file:  hst_14610_23_acs_wfc_f814w_jdb623_drc_7\n",
      "Processing file:  hst_14610_23_acs_wfc_f814w_jdb623_drc_8\n",
      "Processing file:  hst_14610_23_acs_wfc_f814w_jdb623_drc_9\n",
      "Processing file:  hst_14610_27_acs_wfc_f814w_jdb627_drc_1\n",
      "Processing file:  hst_14610_27_acs_wfc_f814w_jdb627_drc_10\n",
      "Processing file:  hst_14610_27_acs_wfc_f814w_jdb627_drc_11\n",
      "Processing file:  hst_14610_27_acs_wfc_f814w_jdb627_drc_12\n",
      "Processing file:  hst_14610_27_acs_wfc_f814w_jdb627_drc_13\n",
      "Processing file:  hst_14610_27_acs_wfc_f814w_jdb627_drc_14\n",
      "Processing file:  hst_14610_27_acs_wfc_f814w_jdb627_drc_15\n",
      "Processing file:  hst_14610_27_acs_wfc_f814w_jdb627_drc_16\n",
      "Processing file:  hst_14610_27_acs_wfc_f814w_jdb627_drc_17\n",
      "Processing file:  hst_14610_27_acs_wfc_f814w_jdb627_drc_18\n",
      "Processing file:  hst_14610_27_acs_wfc_f814w_jdb627_drc_19\n",
      "Processing file:  hst_14610_27_acs_wfc_f814w_jdb627_drc_2\n",
      "Processing file:  hst_14610_27_acs_wfc_f814w_jdb627_drc_20\n",
      "Processing file:  hst_14610_27_acs_wfc_f814w_jdb627_drc_21\n",
      "Processing file:  hst_14610_27_acs_wfc_f814w_jdb627_drc_22\n",
      "Processing file:  hst_14610_27_acs_wfc_f814w_jdb627_drc_23\n",
      "Processing file:  hst_14610_27_acs_wfc_f814w_jdb627_drc_24\n",
      "Processing file:  hst_14610_27_acs_wfc_f814w_jdb627_drc_25\n",
      "Processing file:  hst_14610_27_acs_wfc_f814w_jdb627_drc_26\n",
      "Processing file:  hst_14610_27_acs_wfc_f814w_jdb627_drc_27\n",
      "Processing file:  hst_14610_27_acs_wfc_f814w_jdb627_drc_28\n",
      "Processing file:  hst_14610_27_acs_wfc_f814w_jdb627_drc_29\n",
      "Processing file:  hst_14610_27_acs_wfc_f814w_jdb627_drc_3\n",
      "Processing file:  hst_14610_27_acs_wfc_f814w_jdb627_drc_30\n",
      "Processing file:  hst_14610_27_acs_wfc_f814w_jdb627_drc_31\n",
      "Processing file:  hst_14610_27_acs_wfc_f814w_jdb627_drc_32\n",
      "Processing file:  hst_14610_27_acs_wfc_f814w_jdb627_drc_33\n",
      "Processing file:  hst_14610_27_acs_wfc_f814w_jdb627_drc_34\n",
      "Processing file:  hst_14610_27_acs_wfc_f814w_jdb627_drc_35\n",
      "Processing file:  hst_14610_27_acs_wfc_f814w_jdb627_drc_36\n",
      "Processing file:  hst_14610_27_acs_wfc_f814w_jdb627_drc_4\n",
      "Processing file:  hst_14610_27_acs_wfc_f814w_jdb627_drc_5\n",
      "Processing file:  hst_14610_27_acs_wfc_f814w_jdb627_drc_6\n",
      "Processing file:  hst_14610_27_acs_wfc_f814w_jdb627_drc_7\n",
      "Processing file:  hst_14610_27_acs_wfc_f814w_jdb627_drc_8\n",
      "Processing file:  hst_14610_27_acs_wfc_f814w_jdb627_drc_9\n",
      "Processing file:  hst_14610_30_acs_wfc_f814w_jdb630_drc_1\n",
      "Processing file:  hst_14610_30_acs_wfc_f814w_jdb630_drc_10\n",
      "Processing file:  hst_14610_30_acs_wfc_f814w_jdb630_drc_11\n",
      "Processing file:  hst_14610_30_acs_wfc_f814w_jdb630_drc_12\n",
      "Processing file:  hst_14610_30_acs_wfc_f814w_jdb630_drc_13\n",
      "Processing file:  hst_14610_30_acs_wfc_f814w_jdb630_drc_14\n",
      "Processing file:  hst_14610_30_acs_wfc_f814w_jdb630_drc_15\n",
      "Processing file:  hst_14610_30_acs_wfc_f814w_jdb630_drc_16\n",
      "Processing file:  hst_14610_30_acs_wfc_f814w_jdb630_drc_17\n",
      "Processing file:  hst_14610_30_acs_wfc_f814w_jdb630_drc_18\n",
      "Processing file:  hst_14610_30_acs_wfc_f814w_jdb630_drc_19\n",
      "Processing file:  hst_14610_30_acs_wfc_f814w_jdb630_drc_2\n",
      "Processing file:  hst_14610_30_acs_wfc_f814w_jdb630_drc_20\n",
      "Processing file:  hst_14610_30_acs_wfc_f814w_jdb630_drc_21\n",
      "Processing file:  hst_14610_30_acs_wfc_f814w_jdb630_drc_22\n",
      "Processing file:  hst_14610_30_acs_wfc_f814w_jdb630_drc_23\n",
      "Processing file:  hst_14610_30_acs_wfc_f814w_jdb630_drc_24\n",
      "Processing file:  hst_14610_30_acs_wfc_f814w_jdb630_drc_25\n",
      "Processing file:  hst_14610_30_acs_wfc_f814w_jdb630_drc_26\n",
      "Processing file:  hst_14610_30_acs_wfc_f814w_jdb630_drc_27\n",
      "Processing file:  hst_14610_30_acs_wfc_f814w_jdb630_drc_28\n",
      "Processing file:  hst_14610_30_acs_wfc_f814w_jdb630_drc_29\n",
      "Processing file:  hst_14610_30_acs_wfc_f814w_jdb630_drc_3\n",
      "Processing file:  hst_14610_30_acs_wfc_f814w_jdb630_drc_30\n",
      "Processing file:  hst_14610_30_acs_wfc_f814w_jdb630_drc_31\n",
      "Processing file:  hst_14610_30_acs_wfc_f814w_jdb630_drc_32\n",
      "Processing file:  hst_14610_30_acs_wfc_f814w_jdb630_drc_33\n",
      "Processing file:  hst_14610_30_acs_wfc_f814w_jdb630_drc_34\n",
      "Processing file:  hst_14610_30_acs_wfc_f814w_jdb630_drc_35\n",
      "Processing file:  hst_14610_30_acs_wfc_f814w_jdb630_drc_36\n",
      "Processing file:  hst_14610_30_acs_wfc_f814w_jdb630_drc_4\n",
      "Processing file:  hst_14610_30_acs_wfc_f814w_jdb630_drc_5\n",
      "Processing file:  hst_14610_30_acs_wfc_f814w_jdb630_drc_6\n",
      "Processing file:  hst_14610_30_acs_wfc_f814w_jdb630_drc_7\n",
      "Processing file:  hst_14610_30_acs_wfc_f814w_jdb630_drc_8\n",
      "Processing file:  hst_14610_30_acs_wfc_f814w_jdb630_drc_9\n",
      "Processing file:  hst_14610_50_acs_wfc_f814w_jdb650_drc_1\n",
      "Processing file:  hst_14610_50_acs_wfc_f814w_jdb650_drc_10\n",
      "Processing file:  hst_14610_50_acs_wfc_f814w_jdb650_drc_11\n",
      "Processing file:  hst_14610_50_acs_wfc_f814w_jdb650_drc_12\n",
      "Processing file:  hst_14610_50_acs_wfc_f814w_jdb650_drc_13\n",
      "Processing file:  hst_14610_50_acs_wfc_f814w_jdb650_drc_14\n",
      "Processing file:  hst_14610_50_acs_wfc_f814w_jdb650_drc_15\n",
      "Processing file:  hst_14610_50_acs_wfc_f814w_jdb650_drc_16\n",
      "Processing file:  hst_14610_50_acs_wfc_f814w_jdb650_drc_17\n",
      "Processing file:  hst_14610_50_acs_wfc_f814w_jdb650_drc_18\n",
      "Processing file:  hst_14610_50_acs_wfc_f814w_jdb650_drc_19\n",
      "Processing file:  hst_14610_50_acs_wfc_f814w_jdb650_drc_2\n",
      "Processing file:  hst_14610_50_acs_wfc_f814w_jdb650_drc_20\n",
      "Processing file:  hst_14610_50_acs_wfc_f814w_jdb650_drc_21\n",
      "Processing file:  hst_14610_50_acs_wfc_f814w_jdb650_drc_22\n",
      "Processing file:  hst_14610_50_acs_wfc_f814w_jdb650_drc_23\n",
      "Processing file:  hst_14610_50_acs_wfc_f814w_jdb650_drc_24\n",
      "Processing file:  hst_14610_50_acs_wfc_f814w_jdb650_drc_25\n",
      "Processing file:  hst_14610_50_acs_wfc_f814w_jdb650_drc_26\n",
      "Processing file:  hst_14610_50_acs_wfc_f814w_jdb650_drc_27\n",
      "Processing file:  hst_14610_50_acs_wfc_f814w_jdb650_drc_28\n",
      "Processing file:  hst_14610_50_acs_wfc_f814w_jdb650_drc_29\n",
      "Processing file:  hst_14610_50_acs_wfc_f814w_jdb650_drc_3\n",
      "Processing file:  hst_14610_50_acs_wfc_f814w_jdb650_drc_30\n",
      "Processing file:  hst_14610_50_acs_wfc_f814w_jdb650_drc_31\n",
      "Processing file:  hst_14610_50_acs_wfc_f814w_jdb650_drc_32\n",
      "Processing file:  hst_14610_50_acs_wfc_f814w_jdb650_drc_33\n",
      "Processing file:  hst_14610_50_acs_wfc_f814w_jdb650_drc_34\n",
      "Processing file:  hst_14610_50_acs_wfc_f814w_jdb650_drc_35\n",
      "Processing file:  hst_14610_50_acs_wfc_f814w_jdb650_drc_36\n",
      "Processing file:  hst_14610_50_acs_wfc_f814w_jdb650_drc_4\n",
      "Processing file:  hst_14610_50_acs_wfc_f814w_jdb650_drc_5\n",
      "Processing file:  hst_14610_50_acs_wfc_f814w_jdb650_drc_6\n",
      "Processing file:  hst_14610_50_acs_wfc_f814w_jdb650_drc_7\n",
      "Processing file:  hst_14610_50_acs_wfc_f814w_jdb650_drc_8\n",
      "Processing file:  hst_14610_50_acs_wfc_f814w_jdb650_drc_9\n",
      "Processing file:  hst_16274_54_acs_wfc_f814w_je9t54_drc_1\n",
      "Processing file:  hst_16274_54_acs_wfc_f814w_je9t54_drc_10\n",
      "Processing file:  hst_16274_54_acs_wfc_f814w_je9t54_drc_11\n",
      "Processing file:  hst_16274_54_acs_wfc_f814w_je9t54_drc_12\n",
      "Processing file:  hst_16274_54_acs_wfc_f814w_je9t54_drc_13\n",
      "Processing file:  hst_16274_54_acs_wfc_f814w_je9t54_drc_14\n",
      "Processing file:  hst_16274_54_acs_wfc_f814w_je9t54_drc_15\n",
      "Processing file:  hst_16274_54_acs_wfc_f814w_je9t54_drc_16\n",
      "Processing file:  hst_16274_54_acs_wfc_f814w_je9t54_drc_17\n",
      "Processing file:  hst_16274_54_acs_wfc_f814w_je9t54_drc_18\n",
      "Processing file:  hst_16274_54_acs_wfc_f814w_je9t54_drc_19\n",
      "Processing file:  hst_16274_54_acs_wfc_f814w_je9t54_drc_2\n",
      "Processing file:  hst_16274_54_acs_wfc_f814w_je9t54_drc_20\n",
      "Processing file:  hst_16274_54_acs_wfc_f814w_je9t54_drc_21\n",
      "Processing file:  hst_16274_54_acs_wfc_f814w_je9t54_drc_22\n",
      "Processing file:  hst_16274_54_acs_wfc_f814w_je9t54_drc_23\n",
      "Processing file:  hst_16274_54_acs_wfc_f814w_je9t54_drc_24\n",
      "Processing file:  hst_16274_54_acs_wfc_f814w_je9t54_drc_25\n",
      "Processing file:  hst_16274_54_acs_wfc_f814w_je9t54_drc_26\n",
      "Processing file:  hst_16274_54_acs_wfc_f814w_je9t54_drc_27\n",
      "Processing file:  hst_16274_54_acs_wfc_f814w_je9t54_drc_28\n",
      "Processing file:  hst_16274_54_acs_wfc_f814w_je9t54_drc_29\n",
      "Processing file:  hst_16274_54_acs_wfc_f814w_je9t54_drc_3\n",
      "Processing file:  hst_16274_54_acs_wfc_f814w_je9t54_drc_30\n",
      "Processing file:  hst_16274_54_acs_wfc_f814w_je9t54_drc_31\n",
      "Processing file:  hst_16274_54_acs_wfc_f814w_je9t54_drc_32\n",
      "Processing file:  hst_16274_54_acs_wfc_f814w_je9t54_drc_33\n",
      "Processing file:  hst_16274_54_acs_wfc_f814w_je9t54_drc_34\n",
      "Processing file:  hst_16274_54_acs_wfc_f814w_je9t54_drc_35\n",
      "Processing file:  hst_16274_54_acs_wfc_f814w_je9t54_drc_36\n",
      "Processing file:  hst_16274_54_acs_wfc_f814w_je9t54_drc_4\n",
      "Processing file:  hst_16274_54_acs_wfc_f814w_je9t54_drc_5\n",
      "Processing file:  hst_16274_54_acs_wfc_f814w_je9t54_drc_6\n",
      "Processing file:  hst_16274_54_acs_wfc_f814w_je9t54_drc_7\n",
      "Processing file:  hst_16274_54_acs_wfc_f814w_je9t54_drc_8\n",
      "Processing file:  hst_16274_54_acs_wfc_f814w_je9t54_drc_9\n"
     ]
    }
   ],
   "source": [
    "# loop for saving all files as a new file in path ../data/jpg/Yolo_labels_global_F814W_InvertY/\n",
    "for index in range(len(files_name)):\n",
    "    img_name = files_name[index].split(\"\\\\\")[-1].split(\".\")[0]\n",
    "    txt_name = file_[index].split(\"\\\\\")[-1].split(\".\")[0]\n",
    "    if img_name == txt_name:\n",
    "        img = plt.imread(files_name[index])\n",
    "        with open(file_[index], \"r\") as f:\n",
    "            items_list = f.readlines()\n",
    "            items_list = [item.strip().split(\" \") for item in items_list]\n",
    "            print(\"Processing file: \", txt_name)\n",
    "            convert_position_to_YOLO_format(items_list, img, txt_name + \".txt\", \"../../data/data_augmentation/labels/\")\n",
    "    else:\n",
    "        print(\"File name is not match, Example: \", img_name, txt_name)"
   ]
  },
  {
   "attachments": {},
   "cell_type": "markdown",
   "metadata": {},
   "source": [
    "with filters"
   ]
  },
  {
   "cell_type": "code",
   "execution_count": 10,
   "metadata": {},
   "outputs": [],
   "source": [
    "def load_obj(path, file_type): # this function returned file path\n",
    "    import glob\n",
    "    import os\n",
    "    if file_type == '-': # for loading subfolder\n",
    "        return glob.glob(os.path.join(path))\n",
    "    elif file_type == '*' :# means all\n",
    "        return glob.glob(os.path.join(path, \"*\"))\n",
    "    else : # require file type\n",
    "        return glob.glob(os.path.join(path, \"*.{}\".format(file_type)))"
   ]
  },
  {
   "cell_type": "code",
   "execution_count": 8,
   "metadata": {},
   "outputs": [
    {
     "data": {
      "text/plain": [
       "['../../data/data_augmentation/24_images/only_obj_cropped\\\\ASINH',\n",
       " '../../data/data_augmentation/24_images/only_obj_cropped\\\\Linear',\n",
       " '../../data/data_augmentation/24_images/only_obj_cropped\\\\Log',\n",
       " '../../data/data_augmentation/24_images/only_obj_cropped\\\\Power',\n",
       " '../../data/data_augmentation/24_images/only_obj_cropped\\\\SINH',\n",
       " '../../data/data_augmentation/24_images/only_obj_cropped\\\\Sqrt',\n",
       " '../../data/data_augmentation/24_images/only_obj_cropped\\\\Squarded']"
      ]
     },
     "execution_count": 8,
     "metadata": {},
     "output_type": "execute_result"
    }
   ],
   "source": [
    "fillter_list = ['Linear', 'Log', 'Power', 'Sqrt', 'Squarded', 'ASINH', 'SINH']\n",
    "path_filters = load_obj(\"../../data/data_augmentation/24_images/only_obj_cropped/\", '*')\n",
    "path_filters = path_filters[:-1]\n",
    "path_filters"
   ]
  },
  {
   "cell_type": "code",
   "execution_count": 19,
   "metadata": {},
   "outputs": [
    {
     "data": {
      "text/plain": [
       "['../../data/data_augmentation/24_images/coordinate_contain_obj\\\\ASINH',\n",
       " '../../data/data_augmentation/24_images/coordinate_contain_obj\\\\Linear',\n",
       " '../../data/data_augmentation/24_images/coordinate_contain_obj\\\\Log',\n",
       " '../../data/data_augmentation/24_images/coordinate_contain_obj\\\\Power',\n",
       " '../../data/data_augmentation/24_images/coordinate_contain_obj\\\\SINH',\n",
       " '../../data/data_augmentation/24_images/coordinate_contain_obj\\\\Sqrt',\n",
       " '../../data/data_augmentation/24_images/coordinate_contain_obj\\\\Squarded']"
      ]
     },
     "execution_count": 19,
     "metadata": {},
     "output_type": "execute_result"
    }
   ],
   "source": [
    "path_coor = load_obj(\"../../data/data_augmentation/24_images/coordinate_contain_obj/\", '*')\n",
    "path_coor = path_coor[:-1]\n",
    "path_coor"
   ]
  },
  {
   "cell_type": "code",
   "execution_count": 11,
   "metadata": {},
   "outputs": [
    {
     "data": {
      "text/plain": [
       "7"
      ]
     },
     "execution_count": 11,
     "metadata": {},
     "output_type": "execute_result"
    }
   ],
   "source": [
    "len(path_filters)"
   ]
  },
  {
   "cell_type": "code",
   "execution_count": 11,
   "metadata": {},
   "outputs": [],
   "source": [
    "\n",
    "\n",
    "fillter_list = ['Linear', 'Log', 'Power', 'Sqrt', 'Squarded', 'ASINH', 'SINH']\n",
    "path_filters = load_obj(\"../../data/data_augmentation/24_images/only_obj_cropped/testing_data/\", '*')\n",
    "path_coor = load_obj(\"../../data/data_augmentation/24_images/coordinate_contain_obj/testing_data/\", '*')"
   ]
  },
  {
   "cell_type": "code",
   "execution_count": 10,
   "metadata": {},
   "outputs": [],
   "source": [
    "# for testing data\n",
    "# path_filters = load_obj(\"../../data/data_augmentation/24_images/full_img_cropped/testing_data/\", '*')\n",
    "# path_coor = load_obj(\"../../data/data_augmentation/24_images/coordinate/testing_data/\", '*')\n",
    "\n",
    "# path_filters = load_obj(\"../../data/data_augmentation/24_images/only_obj_cropped/testing_data/\", '*')\n",
    "# path_coor = load_obj(\"../../data/data_augmentation/24_images/coordinate_contain_obj/testing_data/\", '*')"
   ]
  },
  {
   "cell_type": "code",
   "execution_count": null,
   "metadata": {},
   "outputs": [],
   "source": [
    "# ไฟล์ coordinate \"ไม่ได้\" ใช้ร่วมกันทุก filter "
   ]
  },
  {
   "cell_type": "code",
   "execution_count": 12,
   "metadata": {},
   "outputs": [
    {
     "name": "stdout",
     "output_type": "stream",
     "text": [
      "process filters:  Linear\n",
      "Done!\n",
      "a number of objects that processed: 21\n",
      "process filters:  Log\n",
      "Done!\n",
      "a number of objects that processed: 21\n",
      "process filters:  Power\n",
      "Done!\n",
      "a number of objects that processed: 21\n",
      "process filters:  Sqrt\n",
      "Done!\n",
      "a number of objects that processed: 21\n",
      "process filters:  Squarded\n",
      "Done!\n",
      "a number of objects that processed: 21\n",
      "process filters:  ASINH\n",
      "Done!\n",
      "a number of objects that processed: 21\n",
      "process filters:  SINH\n",
      "Done!\n",
      "a number of objects that processed: 21\n",
      "\n",
      "Done all!\n"
     ]
    }
   ],
   "source": [
    "# loop for saving all files as a new file\n",
    "for index in range(len(fillter_list)):\n",
    "\n",
    "    temp_fil_name = fillter_list[index]\n",
    "    for w in path_filters:\n",
    "        if temp_fil_name in w:\n",
    "            temp_path = w\n",
    "            break\n",
    "    \n",
    "    for q in path_coor:\n",
    "        if temp_fil_name in q:\n",
    "            temp_coor = q\n",
    "            break\n",
    "\n",
    "    print('process filters: ', temp_fil_name)\n",
    "\n",
    "    # print(temp_path, temp_coor)\n",
    "    sub_files_name = load_obj(temp_path, '*')\n",
    "    sub_file_coor = load_obj(temp_coor, '*')\n",
    "    # print(sub_files_name)\n",
    "    # print(sub_file_coor)\n",
    "\n",
    "    counter = 0\n",
    "    for index_ in range(len(sub_files_name)):\n",
    "        img_name = sub_files_name[index_].split(\"\\\\\")[-1].split(\".\")[0]\n",
    "        txt_name = sub_file_coor[index_].split(\"\\\\\")[-1].split(\".\")[0]\n",
    "        if img_name == txt_name:\n",
    "            counter += 1\n",
    "            img = plt.imread(sub_files_name[index_])\n",
    "            with open(sub_file_coor[index_], \"r\") as f:\n",
    "                items_list = f.readlines()\n",
    "                items_list = [item.strip().split(\" \") for item in items_list]\n",
    "                # print(\"Processing file: \", txt_name)\n",
    "                # convert_position_to_YOLO_format(items_list, img, txt_name + \".txt\", \"../../data/data_augmentation/24_images/labels/\" + temp_fil_name + \"/\")\n",
    "                convert_position_to_YOLO_format(items_list, img, txt_name + \".txt\",\n",
    "                 \"../../data/data_augmentation/24_images/labels/testing_data/\" + temp_fil_name + \"/\")\n",
    "        else:\n",
    "            print(\"File name is not match, Example: \", img_name, txt_name)\n",
    "    print(\"Done!\")\n",
    "    print(\"a number of objects that processed:\", counter)\n",
    "print(\"\\nDone all!\")"
   ]
  },
  {
   "attachments": {},
   "cell_type": "markdown",
   "metadata": {},
   "source": [
    "# Procesing ds9 images"
   ]
  },
  {
   "cell_type": "code",
   "execution_count": 67,
   "metadata": {},
   "outputs": [
    {
     "data": {
      "text/plain": [
       "(['../../data/ds9_dataset/labels_sub_txt/train\\\\ASINH',\n",
       "  '../../data/ds9_dataset/labels_sub_txt/train\\\\Linear',\n",
       "  '../../data/ds9_dataset/labels_sub_txt/train\\\\Log',\n",
       "  '../../data/ds9_dataset/labels_sub_txt/train\\\\Power',\n",
       "  '../../data/ds9_dataset/labels_sub_txt/train\\\\SINH',\n",
       "  '../../data/ds9_dataset/labels_sub_txt/train\\\\Sqrt',\n",
       "  '../../data/ds9_dataset/labels_sub_txt/train\\\\Squarded'],\n",
       " ['../../data/ds9_dataset/labels_sub_txt/test\\\\ASINH',\n",
       "  '../../data/ds9_dataset/labels_sub_txt/test\\\\Linear',\n",
       "  '../../data/ds9_dataset/labels_sub_txt/test\\\\Log',\n",
       "  '../../data/ds9_dataset/labels_sub_txt/test\\\\Power',\n",
       "  '../../data/ds9_dataset/labels_sub_txt/test\\\\SINH',\n",
       "  '../../data/ds9_dataset/labels_sub_txt/test\\\\Sqrt',\n",
       "  '../../data/ds9_dataset/labels_sub_txt/test\\\\Squarded'])"
      ]
     },
     "execution_count": 67,
     "metadata": {},
     "output_type": "execute_result"
    }
   ],
   "source": [
    "sub_folder_train, sub_folder_test"
   ]
  },
  {
   "cell_type": "code",
   "execution_count": 28,
   "metadata": {},
   "outputs": [],
   "source": [
    "path_sub_img_train = '../../data/ds9_dataset/sub_img/train/*'\n",
    "path_sub_img_test = '../../data/ds9_dataset/sub_img/test/*'"
   ]
  },
  {
   "cell_type": "code",
   "execution_count": 64,
   "metadata": {},
   "outputs": [],
   "source": [
    "path_save_train = '../../data/ds9_dataset/labels_yolo/train/'\n",
    "path_save_test = '../../data/ds9_dataset/labels_yolo/test/'"
   ]
  },
  {
   "attachments": {},
   "cell_type": "markdown",
   "metadata": {},
   "source": [
    "# For training set"
   ]
  },
  {
   "cell_type": "code",
   "execution_count": 61,
   "metadata": {},
   "outputs": [
    {
     "name": "stderr",
     "output_type": "stream",
     "text": [
      "  0%|          | 0/7 [00:00<?, ?it/s]"
     ]
    },
    {
     "name": "stdout",
     "output_type": "stream",
     "text": [
      "process filters:  ASINH\n"
     ]
    },
    {
     "name": "stderr",
     "output_type": "stream",
     "text": [
      "100%|██████████| 110/110 [00:01<00:00, 85.32it/s]\n",
      " 14%|█▍        | 1/7 [00:01<00:07,  1.31s/it]"
     ]
    },
    {
     "name": "stdout",
     "output_type": "stream",
     "text": [
      "process filters:  Linear\n"
     ]
    },
    {
     "name": "stderr",
     "output_type": "stream",
     "text": [
      "100%|██████████| 110/110 [00:01<00:00, 95.49it/s]\n",
      " 29%|██▊       | 2/7 [00:02<00:06,  1.23s/it]"
     ]
    },
    {
     "name": "stdout",
     "output_type": "stream",
     "text": [
      "process filters:  Log\n"
     ]
    },
    {
     "name": "stderr",
     "output_type": "stream",
     "text": [
      "100%|██████████| 110/110 [00:01<00:00, 105.08it/s]\n",
      " 43%|████▎     | 3/7 [00:03<00:04,  1.15s/it]"
     ]
    },
    {
     "name": "stdout",
     "output_type": "stream",
     "text": [
      "process filters:  Power\n"
     ]
    },
    {
     "name": "stderr",
     "output_type": "stream",
     "text": [
      "100%|██████████| 110/110 [00:01<00:00, 101.02it/s]\n",
      " 57%|█████▋    | 4/7 [00:04<00:03,  1.13s/it]"
     ]
    },
    {
     "name": "stdout",
     "output_type": "stream",
     "text": [
      "process filters:  SINH\n"
     ]
    },
    {
     "name": "stderr",
     "output_type": "stream",
     "text": [
      "100%|██████████| 110/110 [00:01<00:00, 90.15it/s]\n",
      " 71%|███████▏  | 5/7 [00:05<00:02,  1.17s/it]"
     ]
    },
    {
     "name": "stdout",
     "output_type": "stream",
     "text": [
      "process filters:  Sqrt\n"
     ]
    },
    {
     "name": "stderr",
     "output_type": "stream",
     "text": [
      "100%|██████████| 110/110 [00:01<00:00, 100.86it/s]\n",
      " 86%|████████▌ | 6/7 [00:06<00:01,  1.15s/it]"
     ]
    },
    {
     "name": "stdout",
     "output_type": "stream",
     "text": [
      "process filters:  Squarded\n"
     ]
    },
    {
     "name": "stderr",
     "output_type": "stream",
     "text": [
      "100%|██████████| 110/110 [00:01<00:00, 92.78it/s]\n",
      "100%|██████████| 7/7 [00:08<00:00,  1.17s/it]\n"
     ]
    }
   ],
   "source": [
    "# loop for saving all files as a new file\n",
    "for index in tqdm.tqdm(range(len(sub_folder_train))):\n",
    "    fil_name = sub_folder_train[index].split(\"\\\\\")[-1].split(\".\")[0]\n",
    "    print('process filters: ', fil_name)\n",
    "    sub_iterate_labels = glob.glob(os.path.join(sub_folder_train[index], \"*.txt\"))\n",
    "    sub_itearate_img = glob.glob(os.path.join(path_sub_img_train))[index]\n",
    "    sub_itearate_img = glob.glob(os.path.join(sub_itearate_img, \"*.jpg\"))\n",
    "    # print(len(sub_iterate_labels))\n",
    "    # print(len(sub_itearate_img))\n",
    "\n",
    "    for index_ in tqdm.tqdm(range(len(sub_itearate_img))):\n",
    "        img_name = sub_itearate_img[index_].split(\"\\\\\")[-1].split(\".\")[0]\n",
    "        txt_name = sub_iterate_labels[index_].split(\"\\\\\")[-1].split(\".\")[0]\n",
    "        if img_name == txt_name:\n",
    "            # read image with cv2\n",
    "            img = cv2.imread(sub_itearate_img[index_], 0)\n",
    "            with open(sub_iterate_labels[index_], \"r\") as f:\n",
    "                items_list = f.readlines()\n",
    "                items_list = [item.strip().split(\" \") for item in items_list]\n",
    "                # print(\"Processing file: \", txt_name)\n",
    "                convert_position_to_YOLO_format(items_list, img, txt_name + \".txt\",\n",
    "                    path_save_train + fil_name + \"/\")\n",
    "        else:\n",
    "            print(\"File name is not match, Example: \", img_name, txt_name)"
   ]
  },
  {
   "attachments": {},
   "cell_type": "markdown",
   "metadata": {},
   "source": [
    "# For testing set"
   ]
  },
  {
   "cell_type": "code",
   "execution_count": 71,
   "metadata": {},
   "outputs": [
    {
     "name": "stderr",
     "output_type": "stream",
     "text": [
      "  0%|          | 0/7 [00:00<?, ?it/s]"
     ]
    },
    {
     "name": "stdout",
     "output_type": "stream",
     "text": [
      "process filters:  ASINH\n"
     ]
    },
    {
     "name": "stderr",
     "output_type": "stream",
     "text": [
      "100%|██████████| 21/21 [00:00<00:00, 38.81it/s]\n",
      " 14%|█▍        | 1/7 [00:00<00:03,  1.82it/s]"
     ]
    },
    {
     "name": "stdout",
     "output_type": "stream",
     "text": [
      "process filters:  Linear\n"
     ]
    },
    {
     "name": "stderr",
     "output_type": "stream",
     "text": [
      "100%|██████████| 21/21 [00:00<00:00, 57.85it/s]\n",
      " 29%|██▊       | 2/7 [00:00<00:02,  2.26it/s]"
     ]
    },
    {
     "name": "stdout",
     "output_type": "stream",
     "text": [
      "process filters:  Log\n"
     ]
    },
    {
     "name": "stderr",
     "output_type": "stream",
     "text": [
      "100%|██████████| 21/21 [00:00<00:00, 57.69it/s]\n",
      " 43%|████▎     | 3/7 [00:01<00:01,  2.43it/s]"
     ]
    },
    {
     "name": "stdout",
     "output_type": "stream",
     "text": [
      "process filters:  Power\n"
     ]
    },
    {
     "name": "stderr",
     "output_type": "stream",
     "text": [
      "100%|██████████| 21/21 [00:00<00:00, 48.50it/s]\n",
      " 57%|█████▋    | 4/7 [00:01<00:01,  2.35it/s]"
     ]
    },
    {
     "name": "stdout",
     "output_type": "stream",
     "text": [
      "process filters:  SINH\n"
     ]
    },
    {
     "name": "stderr",
     "output_type": "stream",
     "text": [
      "100%|██████████| 21/21 [00:00<00:00, 54.22it/s]\n",
      " 71%|███████▏  | 5/7 [00:02<00:00,  2.42it/s]"
     ]
    },
    {
     "name": "stdout",
     "output_type": "stream",
     "text": [
      "process filters:  Sqrt\n"
     ]
    },
    {
     "name": "stderr",
     "output_type": "stream",
     "text": [
      "100%|██████████| 21/21 [00:00<00:00, 56.91it/s]\n",
      " 86%|████████▌ | 6/7 [00:02<00:00,  2.49it/s]"
     ]
    },
    {
     "name": "stdout",
     "output_type": "stream",
     "text": [
      "process filters:  Squarded\n"
     ]
    },
    {
     "name": "stderr",
     "output_type": "stream",
     "text": [
      "100%|██████████| 21/21 [00:00<00:00, 54.95it/s]\n",
      "100%|██████████| 7/7 [00:02<00:00,  2.42it/s]\n"
     ]
    }
   ],
   "source": [
    "# loop for saving all files as a new file\n",
    "for index in tqdm.tqdm(range(len(sub_folder_test))):\n",
    "    fil_name = sub_folder_test[index].split(\"\\\\\")[-1].split(\".\")[0]\n",
    "    print('process filters: ', fil_name)\n",
    "    sub_iterate_labels = glob.glob(os.path.join(sub_folder_test[index], \"*.txt\"))\n",
    "    sub_itearate_img = glob.glob(os.path.join(path_sub_img_test))[index]\n",
    "    sub_itearate_img = glob.glob(os.path.join(sub_itearate_img, \"*.jpg\"))\n",
    "    # print(len(sub_iterate_labels))\n",
    "    # print(len(sub_itearate_img))\n",
    "\n",
    "    for index_ in tqdm.tqdm(range(len(sub_itearate_img))):\n",
    "        img_name = sub_itearate_img[index_].split(\"\\\\\")[-1].split(\".\")[0]\n",
    "        txt_name = sub_iterate_labels[index_].split(\"\\\\\")[-1].split(\".\")[0]\n",
    "        if img_name == txt_name:\n",
    "            # read image with cv2\n",
    "            img = cv2.imread(sub_itearate_img[index_], 0)\n",
    "            with open(sub_iterate_labels[index_], \"r\") as f:\n",
    "                items_list = f.readlines()\n",
    "                items_list = [item.strip().split(\" \") for item in items_list]\n",
    "                # print(\"Processing file: \", txt_name)\n",
    "                convert_position_to_YOLO_format(items_list, img, txt_name + \".txt\",\n",
    "                    path_save_test + fil_name + \"/\")\n",
    "        else:\n",
    "            print(\"File name is not match, Example: \", img_name, txt_name)"
   ]
  }
 ],
 "metadata": {
  "kernelspec": {
   "display_name": "narit",
   "language": "python",
   "name": "python3"
  },
  "language_info": {
   "codemirror_mode": {
    "name": "ipython",
    "version": 3
   },
   "file_extension": ".py",
   "mimetype": "text/x-python",
   "name": "python",
   "nbconvert_exporter": "python",
   "pygments_lexer": "ipython3",
   "version": "3.7.15"
  },
  "orig_nbformat": 4,
  "vscode": {
   "interpreter": {
    "hash": "37ab12f5734b1477e3698fcfc31ed3b33f01009b89a02af2647610dc6ae3fd14"
   }
  }
 },
 "nbformat": 4,
 "nbformat_minor": 2
}
