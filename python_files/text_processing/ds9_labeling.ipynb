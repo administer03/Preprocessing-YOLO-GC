{
 "cells": [
  {
   "cell_type": "code",
   "execution_count": 1,
   "metadata": {},
   "outputs": [],
   "source": [
    "import csv\n",
    "import os"
   ]
  },
  {
   "cell_type": "code",
   "execution_count": 11,
   "metadata": {},
   "outputs": [],
   "source": [
    "import glob\n",
    "# path = '../regions/local_f814w/'\n",
    "path = '../../regions/24_f814w_invertY/'\n",
    "files_name = glob.glob(os.path.join(path, \"*\"))"
   ]
  },
  {
   "cell_type": "markdown",
   "metadata": {},
   "source": [
    "# Making Lebels for YOLO format"
   ]
  },
  {
   "cell_type": "code",
   "execution_count": 30,
   "metadata": {},
   "outputs": [],
   "source": [
    "files_name\n",
    "# got all element from last value in files_name after \\\\\n",
    "export_name = [os.path.basename(x) for x in files_name]"
   ]
  },
  {
   "cell_type": "code",
   "execution_count": 31,
   "metadata": {},
   "outputs": [
    {
     "data": {
      "text/plain": [
       "['hst_10190_12_acs_wfc_f814w_j90o12_drc',\n",
       " 'hst_10190_13_acs_wfc_f814w_j90o13_drc',\n",
       " 'hst_10190_28_acs_wfc_f814w_j90o28_drc',\n",
       " 'hst_14610_01_acs_wfc_f814w_jdb601_drc',\n",
       " 'hst_14610_02_acs_wfc_f814w_jdb602_drc',\n",
       " 'hst_14610_08_acs_wfc_f814w_jdb608_drc',\n",
       " 'hst_14610_12_acs_wfc_f814w_jdb612_drc',\n",
       " 'hst_14610_18_acs_wfc_f814w_jdb618_drc',\n",
       " 'hst_14610_23_acs_wfc_f814w_jdb623_drc',\n",
       " 'hst_14610_26_acs_wfc_f814w_jdb626_drc',\n",
       " 'hst_14610_27_acs_wfc_f814w_jdb627_drc',\n",
       " 'hst_14610_30_acs_wfc_f814w_jdb630_drc',\n",
       " 'hst_14610_32_acs_wfc_f814w_jdb632_drc',\n",
       " 'hst_14610_40_acs_wfc_f814w_jdb640_drc',\n",
       " 'hst_14610_44_acs_wfc_f814w_jdb644_drc',\n",
       " 'hst_14610_47_acs_wfc_f814w_jdb647_drc',\n",
       " 'hst_14610_50_acs_wfc_f814w_jdb650_drc',\n",
       " 'hst_16274_54_acs_wfc_f814w_je9t54_drc',\n",
       " 'hst_9873_03_acs_wfc_f814w_j8re03_drc',\n",
       " 'hst_9873_06_acs_wfc_f814w_j8re06_drc',\n",
       " 'testing_set']"
      ]
     },
     "execution_count": 31,
     "metadata": {},
     "output_type": "execute_result"
    }
   ],
   "source": [
    "export_name"
   ]
  },
  {
   "cell_type": "code",
   "execution_count": 32,
   "metadata": {},
   "outputs": [],
   "source": [
    "export_name = export_name[:-1]\n"
   ]
  },
  {
   "cell_type": "code",
   "execution_count": 33,
   "metadata": {},
   "outputs": [
    {
     "data": {
      "text/plain": [
       "['hst_10190_12_acs_wfc_f814w_j90o12_drc',\n",
       " 'hst_10190_13_acs_wfc_f814w_j90o13_drc',\n",
       " 'hst_10190_28_acs_wfc_f814w_j90o28_drc',\n",
       " 'hst_14610_01_acs_wfc_f814w_jdb601_drc',\n",
       " 'hst_14610_02_acs_wfc_f814w_jdb602_drc',\n",
       " 'hst_14610_08_acs_wfc_f814w_jdb608_drc',\n",
       " 'hst_14610_12_acs_wfc_f814w_jdb612_drc',\n",
       " 'hst_14610_18_acs_wfc_f814w_jdb618_drc',\n",
       " 'hst_14610_23_acs_wfc_f814w_jdb623_drc',\n",
       " 'hst_14610_26_acs_wfc_f814w_jdb626_drc',\n",
       " 'hst_14610_27_acs_wfc_f814w_jdb627_drc',\n",
       " 'hst_14610_30_acs_wfc_f814w_jdb630_drc',\n",
       " 'hst_14610_32_acs_wfc_f814w_jdb632_drc',\n",
       " 'hst_14610_40_acs_wfc_f814w_jdb640_drc',\n",
       " 'hst_14610_44_acs_wfc_f814w_jdb644_drc',\n",
       " 'hst_14610_47_acs_wfc_f814w_jdb647_drc',\n",
       " 'hst_14610_50_acs_wfc_f814w_jdb650_drc',\n",
       " 'hst_16274_54_acs_wfc_f814w_je9t54_drc',\n",
       " 'hst_9873_03_acs_wfc_f814w_j8re03_drc',\n",
       " 'hst_9873_06_acs_wfc_f814w_j8re06_drc']"
      ]
     },
     "execution_count": 33,
     "metadata": {},
     "output_type": "execute_result"
    }
   ],
   "source": [
    "len(export_name)\n",
    "export_name"
   ]
  },
  {
   "cell_type": "code",
   "execution_count": 36,
   "metadata": {},
   "outputs": [
    {
     "data": {
      "text/plain": [
       "['../../regions/24_f814w_invertY\\\\hst_10190_12_acs_wfc_f814w_j90o12_drc',\n",
       " '../../regions/24_f814w_invertY\\\\hst_10190_13_acs_wfc_f814w_j90o13_drc',\n",
       " '../../regions/24_f814w_invertY\\\\hst_10190_28_acs_wfc_f814w_j90o28_drc',\n",
       " '../../regions/24_f814w_invertY\\\\hst_14610_01_acs_wfc_f814w_jdb601_drc',\n",
       " '../../regions/24_f814w_invertY\\\\hst_14610_02_acs_wfc_f814w_jdb602_drc',\n",
       " '../../regions/24_f814w_invertY\\\\hst_14610_08_acs_wfc_f814w_jdb608_drc',\n",
       " '../../regions/24_f814w_invertY\\\\hst_14610_12_acs_wfc_f814w_jdb612_drc',\n",
       " '../../regions/24_f814w_invertY\\\\hst_14610_18_acs_wfc_f814w_jdb618_drc',\n",
       " '../../regions/24_f814w_invertY\\\\hst_14610_23_acs_wfc_f814w_jdb623_drc',\n",
       " '../../regions/24_f814w_invertY\\\\hst_14610_26_acs_wfc_f814w_jdb626_drc',\n",
       " '../../regions/24_f814w_invertY\\\\hst_14610_27_acs_wfc_f814w_jdb627_drc',\n",
       " '../../regions/24_f814w_invertY\\\\hst_14610_30_acs_wfc_f814w_jdb630_drc',\n",
       " '../../regions/24_f814w_invertY\\\\hst_14610_32_acs_wfc_f814w_jdb632_drc',\n",
       " '../../regions/24_f814w_invertY\\\\hst_14610_40_acs_wfc_f814w_jdb640_drc',\n",
       " '../../regions/24_f814w_invertY\\\\hst_14610_44_acs_wfc_f814w_jdb644_drc',\n",
       " '../../regions/24_f814w_invertY\\\\hst_14610_47_acs_wfc_f814w_jdb647_drc',\n",
       " '../../regions/24_f814w_invertY\\\\hst_14610_50_acs_wfc_f814w_jdb650_drc',\n",
       " '../../regions/24_f814w_invertY\\\\hst_16274_54_acs_wfc_f814w_je9t54_drc',\n",
       " '../../regions/24_f814w_invertY\\\\hst_9873_03_acs_wfc_f814w_j8re03_drc',\n",
       " '../../regions/24_f814w_invertY\\\\hst_9873_06_acs_wfc_f814w_j8re06_drc']"
      ]
     },
     "execution_count": 36,
     "metadata": {},
     "output_type": "execute_result"
    }
   ],
   "source": [
    "files_name = files_name[:-1]\n",
    "files_name"
   ]
  },
  {
   "cell_type": "code",
   "execution_count": null,
   "metadata": {},
   "outputs": [],
   "source": [
    "# ไม่ใช้ export name ก็ได้ โดยใช้ os.path.basename แทน"
   ]
  },
  {
   "cell_type": "code",
   "execution_count": 37,
   "metadata": {},
   "outputs": [],
   "source": [
    "for name in files_name:\n",
    "    with open(name, mode='r') as infile:\n",
    "        reader = csv.reader(infile)\n",
    "        data_list = [] # x, y, w, h, label\n",
    "        for row in reader:\n",
    "            if 'box' not in row[0]: # if row not contains 'box' then skip\n",
    "                pass\n",
    "            else:\n",
    "                # print(row, infile)\n",
    "                x = row[0].split('(')[1].split(',')[0]\n",
    "                y = row[1]\n",
    "                w = row[2]\n",
    "                h = row[3].split(')')[0]\n",
    "                # label is the last element after . and before } \n",
    "                label = row[4].split('.')[-1].split('}')[0]\n",
    "                # print(x, y, w, h, label)\n",
    "                data_list.append([x, y, w, h, label])\n",
    "        # print(data_list)\n",
    "        # create new file for store x, y, w, h, label by txt format using format label x y w h\n",
    "        with open('../../data/jpg/labels_24_7filters_processing/' + os.path.basename(name).split('.')[0] + '.txt', 'w') as outfile:\n",
    "            for data in data_list:\n",
    "                outfile.write(data[4] + ' ' + data[0] + ' ' + data[1] + ' ' + data[2] + ' ' + data[3] + '\\n')\n",
    "        # break"
   ]
  },
  {
   "attachments": {},
   "cell_type": "markdown",
   "metadata": {},
   "source": [
    "# for testing data"
   ]
  },
  {
   "cell_type": "code",
   "execution_count": 24,
   "metadata": {},
   "outputs": [],
   "source": [
    "path_test = '../../regions/24_f814w_invertY/testing_set/'\n",
    "files_name_test = glob.glob(os.path.join(path_test, \"*\"))"
   ]
  },
  {
   "cell_type": "code",
   "execution_count": 25,
   "metadata": {},
   "outputs": [
    {
     "data": {
      "text/plain": [
       "['../../regions/24_f814w_invertY/testing_set\\\\hst_14610_07_acs_wfc_f814w_jdb607_drc',\n",
       " '../../regions/24_f814w_invertY/testing_set\\\\hst_14610_13_acs_wfc_f814w_jdb613_drc',\n",
       " '../../regions/24_f814w_invertY/testing_set\\\\hst_14610_15_acs_wfc_f814w_jdb615_drc',\n",
       " '../../regions/24_f814w_invertY/testing_set\\\\hst_14610_20_acs_wfc_f814w_jdb620_drc',\n",
       " '../../regions/24_f814w_invertY/testing_set\\\\hst_14610_24_acs_wfc_f814w_jdb624_drc',\n",
       " '../../regions/24_f814w_invertY/testing_set\\\\hst_14610_51_acs_wfc_f814w_jdb651_drc']"
      ]
     },
     "execution_count": 25,
     "metadata": {},
     "output_type": "execute_result"
    }
   ],
   "source": [
    "files_name_test"
   ]
  },
  {
   "cell_type": "code",
   "execution_count": 26,
   "metadata": {},
   "outputs": [],
   "source": [
    "export_test_name = [os.path.basename(x) for x in files_name_test]"
   ]
  },
  {
   "cell_type": "code",
   "execution_count": 27,
   "metadata": {},
   "outputs": [
    {
     "data": {
      "text/plain": [
       "['hst_14610_07_acs_wfc_f814w_jdb607_drc',\n",
       " 'hst_14610_13_acs_wfc_f814w_jdb613_drc',\n",
       " 'hst_14610_15_acs_wfc_f814w_jdb615_drc',\n",
       " 'hst_14610_20_acs_wfc_f814w_jdb620_drc',\n",
       " 'hst_14610_24_acs_wfc_f814w_jdb624_drc',\n",
       " 'hst_14610_51_acs_wfc_f814w_jdb651_drc']"
      ]
     },
     "execution_count": 27,
     "metadata": {},
     "output_type": "execute_result"
    }
   ],
   "source": [
    "export_test_name"
   ]
  },
  {
   "cell_type": "code",
   "execution_count": 29,
   "metadata": {},
   "outputs": [],
   "source": [
    "for name in files_name_test:\n",
    "    with open(name, mode='r') as infile:\n",
    "        reader = csv.reader(infile)\n",
    "        data_list = [] # x, y, w, h, label\n",
    "        for row in reader:\n",
    "            if 'box' not in row[0]: # if row not contains 'box' then skip\n",
    "                pass\n",
    "            else:\n",
    "                # print(row, infile)\n",
    "                x = row[0].split('(')[1].split(',')[0]\n",
    "                y = row[1]\n",
    "                w = row[2]\n",
    "                h = row[3].split(')')[0]\n",
    "                # label is the last element after . and before } \n",
    "                label = row[4].split('.')[-1].split('}')[0]\n",
    "                # print(x, y, w, h, label)\n",
    "                data_list.append([x, y, w, h, label])\n",
    "        # print(data_list)\n",
    "        # create new file for store x, y, w, h, label by txt format using format label x y w h\n",
    "        with open('../../data/jpg/labels_24_7filters_processing/testing_data/' + os.path.basename(name).split('.')[0] + '.txt', 'w') as outfile:\n",
    "            for data in data_list:\n",
    "                outfile.write(data[4] + ' ' + data[0] + ' ' + data[1] + ' ' + data[2] + ' ' + data[3] + '\\n')\n",
    "        # break"
   ]
  }
 ],
 "metadata": {
  "kernelspec": {
   "display_name": "narit",
   "language": "python",
   "name": "python3"
  },
  "language_info": {
   "codemirror_mode": {
    "name": "ipython",
    "version": 3
   },
   "file_extension": ".py",
   "mimetype": "text/x-python",
   "name": "python",
   "nbconvert_exporter": "python",
   "pygments_lexer": "ipython3",
   "version": "3.7.15 (default, Nov  9 2022, 10:44:37) [MSC v.1916 64 bit (AMD64)]"
  },
  "orig_nbformat": 4,
  "vscode": {
   "interpreter": {
    "hash": "37ab12f5734b1477e3698fcfc31ed3b33f01009b89a02af2647610dc6ae3fd14"
   }
  }
 },
 "nbformat": 4,
 "nbformat_minor": 2
}
