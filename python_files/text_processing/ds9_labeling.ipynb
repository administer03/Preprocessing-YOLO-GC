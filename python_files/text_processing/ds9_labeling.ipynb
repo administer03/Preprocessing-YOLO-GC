{
 "cells": [
  {
   "cell_type": "code",
   "execution_count": 7,
   "metadata": {},
   "outputs": [],
   "source": [
    "import csv\n",
    "import os"
   ]
  },
  {
   "cell_type": "code",
   "execution_count": 3,
   "metadata": {},
   "outputs": [],
   "source": [
    "import glob\n",
    "# path = '../regions/local_f814w/'\n",
    "path = '../../regions/local_f814w_invertY/'\n",
    "files_name = glob.glob(os.path.join(path, \"*\"))"
   ]
  },
  {
   "cell_type": "markdown",
   "metadata": {},
   "source": [
    "# Making Lebels for YOLO format"
   ]
  },
  {
   "cell_type": "code",
   "execution_count": 4,
   "metadata": {},
   "outputs": [],
   "source": [
    "files_name\n",
    "# got all element from last value in files_name after \\\\\n",
    "export_name = [os.path.basename(x) for x in files_name]"
   ]
  },
  {
   "cell_type": "code",
   "execution_count": 5,
   "metadata": {},
   "outputs": [
    {
     "data": {
      "text/plain": [
       "['hst_10190_12_acs_wfc_f814w_j90o12_drc',\n",
       " 'hst_10190_28_acs_wfc_f814w_j90o28_drc',\n",
       " 'hst_14610_02_acs_wfc_f814w_jdb602_drc',\n",
       " 'hst_14610_12_acs_wfc_f814w_jdb612_drc',\n",
       " 'hst_14610_18_acs_wfc_f814w_jdb618_drc',\n",
       " 'hst_14610_23_acs_wfc_f814w_jdb623_drc',\n",
       " 'hst_14610_27_acs_wfc_f814w_jdb627_drc',\n",
       " 'hst_14610_30_acs_wfc_f814w_jdb630_drc',\n",
       " 'hst_14610_50_acs_wfc_f814w_jdb650_drc',\n",
       " 'hst_16274_54_acs_wfc_f814w_je9t54_drc']"
      ]
     },
     "execution_count": 5,
     "metadata": {},
     "output_type": "execute_result"
    }
   ],
   "source": [
    "export_name"
   ]
  },
  {
   "cell_type": "code",
   "execution_count": null,
   "metadata": {},
   "outputs": [],
   "source": [
    "for name in files_name:\n",
    "    with open(name, mode='r') as infile:\n",
    "        reader = csv.reader(infile)\n",
    "        data_list = [] # x, y, w, h, label\n",
    "        for row in reader:\n",
    "            if 'box' not in row[0]: # if row not contains 'box' then skip\n",
    "                pass\n",
    "            else:\n",
    "                # print(row, infile)\n",
    "                x = row[0].split('(')[1].split(',')[0]\n",
    "                y = row[1]\n",
    "                w = row[2]\n",
    "                h = row[3].split(')')[0]\n",
    "                # label is the last element after . and before } \n",
    "                label = row[4].split('.')[-1].split('}')[0]\n",
    "                # print(x, y, w, h, label)\n",
    "                data_list.append([x, y, w, h, label])\n",
    "        # print(data_list)\n",
    "        # create new file for store x, y, w, h, label by txt format using format label x y w h\n",
    "        with open('../../data/jpg/labels_global_F814W_InvertY/' + os.path.basename(name).split('.')[0] + '.txt', 'w') as outfile:\n",
    "            for data in data_list:\n",
    "                outfile.write(data[4] + ' ' + data[0] + ' ' + data[1] + ' ' + data[2] + ' ' + data[3] + '\\n')\n",
    "        # break"
   ]
  }
 ],
 "metadata": {
  "kernelspec": {
   "display_name": "Python 3.10.6 64-bit",
   "language": "python",
   "name": "python3"
  },
  "language_info": {
   "codemirror_mode": {
    "name": "ipython",
    "version": 3
   },
   "file_extension": ".py",
   "mimetype": "text/x-python",
   "name": "python",
   "nbconvert_exporter": "python",
   "pygments_lexer": "ipython3",
   "version": "3.10.6"
  },
  "orig_nbformat": 4,
  "vscode": {
   "interpreter": {
    "hash": "916dbcbb3f70747c44a77c7bcd40155683ae19c65e1c03b4aa3499c5328201f1"
   }
  }
 },
 "nbformat": 4,
 "nbformat_minor": 2
}
