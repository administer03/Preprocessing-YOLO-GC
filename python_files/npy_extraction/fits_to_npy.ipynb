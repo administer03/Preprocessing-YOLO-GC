{
 "cells": [
  {
   "cell_type": "code",
   "execution_count": 20,
   "metadata": {},
   "outputs": [],
   "source": [
    "from astropy.io import fits\n",
    "import matplotlib.pyplot as plt\n",
    "import numpy as np\n",
    "import pprint\n",
    "import random\n",
    "import os\n",
    "import glob\n",
    "from astropy.visualization import ZScaleInterval\n",
    "import cv2\n",
    "import tqdm"
   ]
  },
  {
   "cell_type": "code",
   "execution_count": 21,
   "metadata": {},
   "outputs": [],
   "source": [
    "path = '../../data/fits'\n",
    "files_name = glob.glob(os.path.join(path, \"*.fits\"))"
   ]
  },
  {
   "cell_type": "code",
   "execution_count": 22,
   "metadata": {},
   "outputs": [],
   "source": [
    "data_i = 0\n",
    "fits_file = files_name[data_i]"
   ]
  },
  {
   "cell_type": "code",
   "execution_count": 23,
   "metadata": {},
   "outputs": [
    {
     "data": {
      "text/plain": [
       "'../../data/fits\\\\hst_10190_12_acs_wfc_f814w_j90o12_drc.fits'"
      ]
     },
     "execution_count": 23,
     "metadata": {},
     "output_type": "execute_result"
    }
   ],
   "source": [
    "fits_file"
   ]
  },
  {
   "cell_type": "code",
   "execution_count": 24,
   "metadata": {},
   "outputs": [
    {
     "name": "stdout",
     "output_type": "stream",
     "text": [
      "Filename: ../../data/fits\\hst_10190_12_acs_wfc_f814w_j90o12_drc.fits\n",
      "No.    Name      Ver    Type      Cards   Dimensions   Format\n",
      "  0  PRIMARY       1 PrimaryHDU    1027   ()      \n",
      "  1  SCI           1 ImageHDU        83   (5810, 5802)   float32   \n",
      "  2  WHT           1 ImageHDU        44   (5810, 5802)   float32   \n",
      "  3  CTX           1 ImageHDU        37   (5810, 5802)   int32   \n",
      "  4  HDRTAB        1 BinTableHDU    638   16R x 314C   [9A, 3A, K, D, D, D, D, D, D, D, D, D, D, D, D, D, K, 8A, 9A, 7A, 18A, 4A, D, D, D, D, 3A, D, D, D, D, D, D, D, D, D, D, D, D, K, 8A, 23A, D, D, D, D, K, K, K, 8A, K, 23A, 9A, 20A, K, 4A, K, K, K, K, K, K, 23A, D, D, D, D, K, K, 3A, 3A, 4A, 7A, L, D, D, D, 23A, 1A, K, D, D, D, 13A, 3A, 4A, 4A, 12A, 12A, 23A, 8A, 23A, 10A, 10A, D, D, 3A, 3A, 23A, 4A, 8A, 7A, 23A, D, K, D, 6A, 9A, 8A, D, D, L, 4A, 44A, 3A, K, 7A, 5A, 3A, D, 13A, 8A, 4A, 3A, L, K, L, K, L, K, K, D, D, D, D, D, D, 3A, 1A, D, 23A, D, D, D, 3A, 23A, L, 1A, 3A, 1A, D, 3A, 6A, K, D, D, D, D, D, D, D, D, D, D, 23A, D, D, D, D, 3A, D, D, D, 1A, K, K, K, K, K, K, 23A, K, 5A, 7A, D, D, D, D, D, D, D, D, D, D, D, D, D, D, D, D, D, 12A, D, 24A, 23A, D, 1A, 1A, D, K, D, D, 1A, 1A, D, 4A, K, D, K, 8A, D, D, D, D, D, 23A, 23A, D, 8A, D, 29A, D, 3A, D, L, D, D, 3A, 6A, 7A, 1A, D, 8A, K, 1A, 1A, 1A, 1A, D, D, D, D, D, D, 4A, D, 7A, D, 4A, K, 4A, 3A, 1A, L, K, K, 1A, D, D, D, D, K, 3A, L, L, 6A, L, D, D, 9A, D, D, 3A, 8A, 1A, D, K, D, L, L, 5A, 30A, 62A, 4A, K, D, D, D, D, D, D, D, D, D, D, D, D, D, D, 8A, 8A, 3A, 3A, 51A]   \n"
     ]
    }
   ],
   "source": [
    "hdu_list = fits.open(fits_file)\n",
    "hdu_list.info()\n",
    "# hdu_list.close()"
   ]
  },
  {
   "cell_type": "code",
   "execution_count": 25,
   "metadata": {},
   "outputs": [],
   "source": [
    "image_data = hdu_list['SCI'].data"
   ]
  },
  {
   "cell_type": "code",
   "execution_count": 26,
   "metadata": {},
   "outputs": [
    {
     "name": "stdout",
     "output_type": "stream",
     "text": [
      "Min: nan\n",
      "Max: nan\n",
      "Mean: nan\n",
      "Stdev: nan\n"
     ]
    }
   ],
   "source": [
    "print('Min:', np.min(image_data))\n",
    "print('Max:', np.max(image_data))\n",
    "print('Mean:', np.mean(image_data))\n",
    "print('Stdev:', np.std(image_data))"
   ]
  },
  {
   "cell_type": "code",
   "execution_count": 27,
   "metadata": {},
   "outputs": [],
   "source": [
    "def print_stat_img(img):\n",
    "    print('Min:', np.min(img))\n",
    "    print('Max:', np.max(img))\n",
    "    print('Mean:', np.mean(img))\n",
    "    print('Stdev:', np.std(img))"
   ]
  },
  {
   "attachments": {},
   "cell_type": "markdown",
   "metadata": {},
   "source": [
    "# Play with .npy file"
   ]
  },
  {
   "cell_type": "code",
   "execution_count": 28,
   "metadata": {},
   "outputs": [],
   "source": [
    "# fill nan with 0\n",
    "# image_data[np.isnan(image_data)] = 0"
   ]
  },
  {
   "cell_type": "code",
   "execution_count": 29,
   "metadata": {},
   "outputs": [
    {
     "name": "stdout",
     "output_type": "stream",
     "text": [
      "Min: nan\n",
      "Max: nan\n",
      "Mean: nan\n",
      "Stdev: nan\n"
     ]
    }
   ],
   "source": [
    "print_stat_img(image_data)"
   ]
  },
  {
   "cell_type": "code",
   "execution_count": 30,
   "metadata": {},
   "outputs": [
    {
     "data": {
      "text/plain": [
       "(array([[nan, nan, nan, ..., nan, nan, nan],\n",
       "        [nan, nan, nan, ..., nan, nan, nan],\n",
       "        [nan, nan, nan, ..., nan, nan, nan],\n",
       "        ...,\n",
       "        [nan, nan, nan, ..., nan, nan, nan],\n",
       "        [nan, nan, nan, ..., nan, nan, nan],\n",
       "        [nan, nan, nan, ..., nan, nan, nan]], dtype=float32),\n",
       " (5802, 5810))"
      ]
     },
     "execution_count": 30,
     "metadata": {},
     "output_type": "execute_result"
    }
   ],
   "source": [
    "image_data, image_data.shape"
   ]
  },
  {
   "cell_type": "code",
   "execution_count": 31,
   "metadata": {},
   "outputs": [
    {
     "data": {
      "text/plain": [
       "(5802, 5810)"
      ]
     },
     "execution_count": 31,
     "metadata": {},
     "output_type": "execute_result"
    }
   ],
   "source": [
    "# flip then see shape\n",
    "image_data = np.flip(image_data, axis=0)\n",
    "image_data.shape"
   ]
  },
  {
   "cell_type": "code",
   "execution_count": 32,
   "metadata": {},
   "outputs": [],
   "source": [
    "# create npy file and save to desktop\n",
    "np.save('test', image_data)"
   ]
  },
  {
   "cell_type": "code",
   "execution_count": 33,
   "metadata": {},
   "outputs": [
    {
     "name": "stdout",
     "output_type": "stream",
     "text": [
      "Min: nan\n",
      "Max: nan\n",
      "Mean: nan\n",
      "Stdev: nan\n"
     ]
    }
   ],
   "source": [
    "x = np.load('test.npy')\n",
    "print_stat_img(x)"
   ]
  },
  {
   "cell_type": "code",
   "execution_count": 34,
   "metadata": {},
   "outputs": [
    {
     "data": {
      "text/plain": [
       "<matplotlib.image.AxesImage at 0x2269a3d9188>"
      ]
     },
     "execution_count": 34,
     "metadata": {},
     "output_type": "execute_result"
    },
    {
     "data": {
      "image/png": "[encoded data removed]",
      "text/plain": [
       "<Figure size 640x480 with 1 Axes>"
      ]
     },
     "metadata": {},
     "output_type": "display_data"
    }
   ],
   "source": [
    "# display image from x\n",
    "# change y-axis to be flipped\n",
    "x = np.flip(x, axis=0)\n",
    "plt.imshow(x, cmap='gray')"
   ]
  },
  {
   "attachments": {},
   "cell_type": "markdown",
   "metadata": {},
   "source": [
    "# Export .npy file"
   ]
  },
  {
   "cell_type": "code",
   "execution_count": 35,
   "metadata": {},
   "outputs": [],
   "source": [
    "def export_pipeline(arr_fits, path_to_save):\n",
    "    '''\n",
    "    Don't process dead pixel because it will be processed in the YOLO automatically\n",
    "    '''\n",
    "    # loop via tqdm\n",
    "    for fits_file in tqdm.tqdm(arr_fits):\n",
    "        hdu_list = fits.open(fits_file)\n",
    "        file_name = fits_file.split('\\\\')[-1].split('.')[0]\n",
    "        image_data = hdu_list['SCI'].data\n",
    "        image_data = np.flipud(image_data)\n",
    "        image_data = np.flip(image_data, axis=0)\n",
    "        np.save(path_to_save + file_name, image_data)"
   ]
  },
  {
   "cell_type": "code",
   "execution_count": 36,
   "metadata": {},
   "outputs": [
    {
     "name": "stdout",
     "output_type": "stream",
     "text": [
      "Train: 20\n",
      "Test: 6\n"
     ]
    }
   ],
   "source": [
    "# load path fits\n",
    "path_train = '../../data/fits/'\n",
    "path_train = glob.glob(os.path.join(path_train, \"*.fits\"))\n",
    "path_test = '../../data/fits/testing_set/'\n",
    "path_test = glob.glob(os.path.join(path_test, \"*.fits\"))\n",
    "print('Train:', len(path_train))\n",
    "print('Test:', len(path_test))"
   ]
  },
  {
   "cell_type": "code",
   "execution_count": 37,
   "metadata": {},
   "outputs": [],
   "source": [
    "export_path_train = '../../data/npy/full_img_flip/train/'\n",
    "export_path_test = '../../data/npy/full_img_flip/test/'"
   ]
  },
  {
   "cell_type": "code",
   "execution_count": 38,
   "metadata": {},
   "outputs": [
    {
     "name": "stderr",
     "output_type": "stream",
     "text": [
      "100%|██████████| 20/20 [00:09<00:00,  2.08it/s]\n"
     ]
    },
    {
     "name": "stdout",
     "output_type": "stream",
     "text": [
      "Export train done\n"
     ]
    },
    {
     "name": "stderr",
     "output_type": "stream",
     "text": [
      "100%|██████████| 6/6 [00:03<00:00,  1.75it/s]"
     ]
    },
    {
     "name": "stdout",
     "output_type": "stream",
     "text": [
      "Export test done\n"
     ]
    },
    {
     "name": "stderr",
     "output_type": "stream",
     "text": [
      "\n"
     ]
    }
   ],
   "source": [
    "# export train\n",
    "export_pipeline(path_train, export_path_train)\n",
    "print('Export train done')\n",
    "# export test\n",
    "export_pipeline(path_test, export_path_test)\n",
    "print('Export test done')"
   ]
  }
 ],
 "metadata": {
  "kernelspec": {
   "display_name": "narit",
   "language": "python",
   "name": "python3"
  },
  "language_info": {
   "codemirror_mode": {
    "name": "ipython",
    "version": 3
   },
   "file_extension": ".py",
   "mimetype": "text/x-python",
   "name": "python",
   "nbconvert_exporter": "python",
   "pygments_lexer": "ipython3",
   "version": "3.7.15"
  },
  "orig_nbformat": 4
 },
 "nbformat": 4,
 "nbformat_minor": 2
}
