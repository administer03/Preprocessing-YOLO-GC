{
 "cells": [
  {
   "cell_type": "code",
   "execution_count": 1,
   "metadata": {},
   "outputs": [],
   "source": [
    "import csv\n",
    "import os"
   ]
  },
  {
   "cell_type": "code",
   "execution_count": 2,
   "metadata": {},
   "outputs": [],
   "source": [
    "import glob\n",
    "# path = '../regions/local_f814w/'\n",
    "path = '../regions/local_f814w_invertY/'\n",
    "files_name = glob.glob(os.path.join(path, \"*\"))"
   ]
  },
  {
   "cell_type": "markdown",
   "metadata": {},
   "source": [
    "# Making Lebels for YOLO format"
   ]
  },
  {
   "cell_type": "code",
   "execution_count": 3,
   "metadata": {},
   "outputs": [],
   "source": [
    "files_name\n",
    "# got all element from last value in files_name after \\\\\n",
    "export_name = [os.path.basename(x) for x in files_name]"
   ]
  },
  {
   "cell_type": "code",
   "execution_count": 4,
   "metadata": {},
   "outputs": [
    {
     "data": {
      "text/plain": [
       "['hst_10190_12_acs_wfc_f814w_j90o12_drc',\n",
       " 'hst_10190_28_acs_wfc_f814w_j90o28_drc',\n",
       " 'hst_14610_02_acs_wfc_f814w_jdb602_drc',\n",
       " 'hst_14610_12_acs_wfc_f814w_jdb612_drc',\n",
       " 'hst_14610_18_acs_wfc_f814w_jdb618_drc',\n",
       " 'hst_14610_23_acs_wfc_f814w_jdb623_drc',\n",
       " 'hst_14610_27_acs_wfc_f814w_jdb627_drc',\n",
       " 'hst_14610_30_acs_wfc_f814w_jdb630_drc',\n",
       " 'hst_14610_50_acs_wfc_f814w_jdb650_drc',\n",
       " 'hst_16274_54_acs_wfc_f814w_je9t54_drc']"
      ]
     },
     "execution_count": 4,
     "metadata": {},
     "output_type": "execute_result"
    }
   ],
   "source": [
    "export_name"
   ]
  },
  {
   "cell_type": "code",
   "execution_count": 15,
   "metadata": {},
   "outputs": [],
   "source": [
    "for name in files_name:\n",
    "    with open(name, mode='r') as infile:\n",
    "        reader = csv.reader(infile)\n",
    "        data_list = [] # x, y, w, h, label\n",
    "        for row in reader:\n",
    "            if 'box' not in row[0]: # if row not contains 'box' then skip\n",
    "                pass\n",
    "            else:\n",
    "                # print(row, infile)\n",
    "                x = row[0].split('(')[1].split(',')[0]\n",
    "                y = row[1]\n",
    "                w = row[2]\n",
    "                h = row[3].split(')')[0]\n",
    "                # label is the last element after . and before } \n",
    "                label = row[4].split('.')[-1].split('}')[0]\n",
    "                # print(x, y, w, h, label)\n",
    "                data_list.append([x, y, w, h, label])\n",
    "        # print(data_list)\n",
    "        # create new file for store x, y, w, h, label by txt format using format label x y w h\n",
    "        with open('../data/jpg/labels_global_F814W_InvertY/' + os.path.basename(name).split('.')[0] + '.txt', 'w') as outfile:\n",
    "            for data in data_list:\n",
    "                outfile.write(data[4] + ' ' + data[0] + ' ' + data[1] + ' ' + data[2] + ' ' + data[3] + '\\n')\n",
    "        # break"
   ]
  }
 ],
 "metadata": {
  "kernelspec": {
   "display_name": "Python 3.7.15 ('narit')",
   "language": "python",
   "name": "python3"
  },
  "language_info": {
   "codemirror_mode": {
    "name": "ipython",
    "version": 3
   },
   "file_extension": ".py",
   "mimetype": "text/x-python",
   "name": "python",
   "nbconvert_exporter": "python",
   "pygments_lexer": "ipython3",
   "version": "3.7.15"
  },
  "orig_nbformat": 4,
  "vscode": {
   "interpreter": {
    "hash": "37ab12f5734b1477e3698fcfc31ed3b33f01009b89a02af2647610dc6ae3fd14"
   }
  }
 },
 "nbformat": 4,
 "nbformat_minor": 2
}
