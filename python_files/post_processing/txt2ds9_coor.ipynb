{
 "cells": [
  {
   "cell_type": "code",
   "execution_count": 36,
   "metadata": {},
   "outputs": [],
   "source": [
    "import glob\n",
    "import os\n",
    "import numpy as np"
   ]
  },
  {
   "cell_type": "code",
   "execution_count": 37,
   "metadata": {},
   "outputs": [],
   "source": [
    "# path_train_label = \"/media/admin03/Data/news/yoda_data/detected_images_and_labels/train\"\n",
    "path_train_label = \"/media/admin03/Data/news/yoda_data/detected_images_and_labels/test\"\n",
    "path_train_label = glob.glob(os.path.join(path_train_label, \"*\"))"
   ]
  },
  {
   "cell_type": "code",
   "execution_count": 38,
   "metadata": {},
   "outputs": [],
   "source": [
    "labels_list = [\"Cluster\", \"Galaxy\", \"Star\", \"Unknown\"]"
   ]
  },
  {
   "cell_type": "code",
   "execution_count": 39,
   "metadata": {},
   "outputs": [],
   "source": [
    "for file_ in path_train_label:\n",
    "    text_path = glob.glob(os.path.join(file_ + \"/full_image/\", \"*.txt\"))\n",
    "    # read txt file\n",
    "    with open(text_path[0], \"r\") as f:\n",
    "        lines = f.readlines()\n",
    "        f.close()\n",
    "    \n",
    "    # write to ds9 region file in the same directory\n",
    "    with open(os.path.join(file_ + \"/full_image/\", \"label_for_ds9\"), \"a\") as f:\n",
    "        f.write(\"# Region file format: DS9 version 4.1\\nglobal color=green dashlist=8 3 width=1 font=\\\"helvetica 10 normal roman\\\" select=1 highlite=1 dash=0 fixed=0 edit=1 move=1 delete=1 include=1 source=1\\n\")\n",
    "    \n",
    "        for item in lines:\n",
    "            item = item.strip().split(\" \")\n",
    "            # convert number type to int\n",
    "            item = [int(float(i)) for i in item]\n",
    "            f.write(\"box({},{},{},{},0) # text={{{}}}\\n\".format(item[1], item[2], item[3], item[4], labels_list[item[0]]))\n",
    "        f.close()"
   ]
  }
 ],
 "metadata": {
  "kernelspec": {
   "display_name": "narit",
   "language": "python",
   "name": "python3"
  },
  "language_info": {
   "codemirror_mode": {
    "name": "ipython",
    "version": 3
   },
   "file_extension": ".py",
   "mimetype": "text/x-python",
   "name": "python",
   "nbconvert_exporter": "python",
   "pygments_lexer": "ipython3",
   "version": "3.7.15"
  },
  "orig_nbformat": 4
 },
 "nbformat": 4,
 "nbformat_minor": 2
}
