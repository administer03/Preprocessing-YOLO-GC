{
 "cells": [
  {
   "cell_type": "code",
   "execution_count": 1,
   "metadata": {},
   "outputs": [],
   "source": [
    "import csv\n",
    "import os"
   ]
  },
  {
   "cell_type": "code",
   "execution_count": 2,
   "metadata": {},
   "outputs": [],
   "source": [
    "with open('../data/labels_index.csv', mode='r') as infile:\n",
    "    reader = csv.reader(infile)\n",
    "    labels_dict = dict((rows[1],rows[0]) for rows in reader)\n",
    "    # requir a object index before labeled"
   ]
  },
  {
   "cell_type": "code",
   "execution_count": 3,
   "metadata": {},
   "outputs": [
    {
     "name": "stdout",
     "output_type": "stream",
     "text": [
      "{'object_index': 'label', '255': 'Cluster', '254': 'Cluster', '253': 'Cluster', '252': 'Cluster', '235': 'Cluster', '251': 'Cluster', '242': 'Cluster', '249': 'Cluster', '233': 'Cluster', '218': 'Cluster', '176': 'Unknown', '174': 'Unknown', '163': 'Unknown', '152': 'Unknown', '162': 'Unknown', '143': 'Unknown', '154': 'Unknown', '146': 'Cluster', '159': 'Unknown', '141': 'Unknown', '139': 'Unknown', '136': 'Unknown', '133': 'Stellar', '119': 'Cluster', '128': 'Unknown', '120': 'Cluster', '123': 'Cluster', '126': 'Cluster', '124': 'Cluster', '118': 'Cluster', '114': 'Cluster', '105': 'Cluster', '110': 'Cluster', '331': 'Unknown', '326': 'Unknown', '329': 'Cluster', '323': 'Cluster', '322': 'Cluster', '31': 'Unknown', '311': 'Cluster', '308': 'Cluster', '312': 'Cluster', '305': 'Cluster', '304': 'Cluster', '303': 'Cluster', '294': 'Cluster', '293': 'Stellar', '298': 'Cluster', '297': 'Stellar', '292': 'Cluster', '289': 'Cluster', '282': 'Cluster', '287': 'Cluster', '286': 'Unknown', '285': 'Cluster', '283': 'Unknown', '280': 'Unknown', '279': 'Cluster', '278': 'Stellar', '270': 'Cluster', '256': 'Cluster', '262': 'Cluster', '265': 'Cluster', '266': 'Cluster', '46': 'Cluster', '415': 'Stellar', '57': 'Galaxy', '62': 'Stellar', '420': 'Cluster', '49': 'Cluster', '412': 'Cluster', '411': 'Cluster', '410': 'Cluster', '40': 'Cluster', '405': 'Cluster', '409': 'Cluster', '403': 'Unknown', '406': 'Cluster', '39': 'Stellar', '402': 'Cluster', '399': 'Cluster', '396': 'Cluster', '395': 'Cluster', '392': 'Cluster', '389': 'Cluster', '373': 'Unknown', '388': 'Cluster', '370': 'Unknown', '382': 'Cluster', '376': 'Cluster', '367': 'Cluster', '361': 'Cluster', '358': 'Cluster', '357': 'Unknown', '342': 'Unknown', '344': 'Unknown', '353': 'Cluster', '355': 'Cluster', '340': 'Stellar', '338': 'Cluster', '335': 'Cluster', '333': 'Cluster', '87': 'Cluster', '83': 'Cluster', '81': 'Cluster', '95': 'Cluster', '98': 'Unknown', '69': 'Stellar', '71': 'Unknown'}\n"
     ]
    }
   ],
   "source": [
    "print(labels_dict)"
   ]
  },
  {
   "cell_type": "code",
   "execution_count": 129,
   "metadata": {},
   "outputs": [],
   "source": [
    "# load the jgp from data folder\n",
    "def loadImages(path):\n",
    "    # return array of images without cv2\n",
    "    imagesList = os.listdir(path)\n",
    "    return imagesList"
   ]
  },
  {
   "cell_type": "code",
   "execution_count": 130,
   "metadata": {},
   "outputs": [
    {
     "name": "stdout",
     "output_type": "stream",
     "text": [
      "['105.jpg', '110.jpg', '114.jpg', '118.jpg', '119.jpg', '120.jpg', '123.jpg', '124.jpg', '126.jpg', '128.jpg', '133.jpg', '136.jpg', '139.jpg', '141.jpg', '143.jpg', '146.jpg', '152.jpg', '154.jpg', '159.jpg', '162.jpg', '163.jpg', '174.jpg', '176.jpg', '218.jpg', '233.jpg', '235.jpg', '242.jpg', '249.jpg', '251.jpg', '252.jpg', '253.jpg', '254.jpg', '254_1.jpg', '255.jpg', '256.jpg', '256_1.jpg', '262.jpg', '265.jpg', '266.jpg', '266_1.jpg', '270.jpg', '278.jpg', '279.jpg', '280.jpg', '282.jpg', '283.jpg', '285.jpg', '286.jpg', '287.jpg', '287_1.jpg', '289.jpg', '289_1.jpg', '292.jpg', '293.jpg', '293_1.jpg', '294.jpg', '297.jpg', '297_1.jpg', '298.jpg', '303.jpg', '303_1.jpg', '304.jpg', '304_1.jpg', '305.jpg', '305_1.jpg', '308.jpg', '31.jpg', '311.jpg', '311_1.jpg', '312.jpg', '322.jpg', '322_1.jpg', '323.jpg', '323_1.jpg', '326.jpg', '326_1.jpg', '329.jpg', '329_1.jpg', '331.jpg', '331_1.jpg', '333.jpg', '335.jpg', '338.jpg', '340.jpg', '342.jpg', '344.jpg', '344_1.jpg', '353.jpg', '355.jpg', '357.jpg', '357_1.jpg', '358.jpg', '361.jpg', '367.jpg', '370.jpg', '373.jpg', '376.jpg', '382.jpg', '388.jpg', '389.jpg', '39.jpg', '392.jpg', '395.jpg', '396.jpg', '399.jpg', '40.jpg', '402.jpg', '403.jpg', '405.jpg', '406.jpg', '409.jpg', '410.jpg', '411.jpg', '412.jpg', '415.jpg', '420.jpg', '46.jpg', '49.jpg', '57.jpg', '62.jpg', '69.jpg', '71.jpg', '81.jpg', '83.jpg', '87.jpg', '95.jpg', '98.jpg']\n"
     ]
    }
   ],
   "source": [
    "path = '../data/jpg/local/'\n",
    "files_name = loadImages(path)\n",
    "print(files_name)"
   ]
  },
  {
   "cell_type": "code",
   "execution_count": 131,
   "metadata": {},
   "outputs": [],
   "source": [
    "split_list = []\n",
    "for i in files_name:\n",
    "    split_list.append(i.split('.'))"
   ]
  },
  {
   "cell_type": "code",
   "execution_count": 132,
   "metadata": {},
   "outputs": [
    {
     "name": "stdout",
     "output_type": "stream",
     "text": [
      "[['105', 'jpg'], ['110', 'jpg'], ['114', 'jpg'], ['118', 'jpg'], ['119', 'jpg'], ['120', 'jpg'], ['123', 'jpg'], ['124', 'jpg'], ['126', 'jpg'], ['128', 'jpg'], ['133', 'jpg'], ['136', 'jpg'], ['139', 'jpg'], ['141', 'jpg'], ['143', 'jpg'], ['146', 'jpg'], ['152', 'jpg'], ['154', 'jpg'], ['159', 'jpg'], ['162', 'jpg'], ['163', 'jpg'], ['174', 'jpg'], ['176', 'jpg'], ['218', 'jpg'], ['233', 'jpg'], ['235', 'jpg'], ['242', 'jpg'], ['249', 'jpg'], ['251', 'jpg'], ['252', 'jpg'], ['253', 'jpg'], ['254', 'jpg'], ['254_1', 'jpg'], ['255', 'jpg'], ['256', 'jpg'], ['256_1', 'jpg'], ['262', 'jpg'], ['265', 'jpg'], ['266', 'jpg'], ['266_1', 'jpg'], ['270', 'jpg'], ['278', 'jpg'], ['279', 'jpg'], ['280', 'jpg'], ['282', 'jpg'], ['283', 'jpg'], ['285', 'jpg'], ['286', 'jpg'], ['287', 'jpg'], ['287_1', 'jpg'], ['289', 'jpg'], ['289_1', 'jpg'], ['292', 'jpg'], ['293', 'jpg'], ['293_1', 'jpg'], ['294', 'jpg'], ['297', 'jpg'], ['297_1', 'jpg'], ['298', 'jpg'], ['303', 'jpg'], ['303_1', 'jpg'], ['304', 'jpg'], ['304_1', 'jpg'], ['305', 'jpg'], ['305_1', 'jpg'], ['308', 'jpg'], ['31', 'jpg'], ['311', 'jpg'], ['311_1', 'jpg'], ['312', 'jpg'], ['322', 'jpg'], ['322_1', 'jpg'], ['323', 'jpg'], ['323_1', 'jpg'], ['326', 'jpg'], ['326_1', 'jpg'], ['329', 'jpg'], ['329_1', 'jpg'], ['331', 'jpg'], ['331_1', 'jpg'], ['333', 'jpg'], ['335', 'jpg'], ['338', 'jpg'], ['340', 'jpg'], ['342', 'jpg'], ['344', 'jpg'], ['344_1', 'jpg'], ['353', 'jpg'], ['355', 'jpg'], ['357', 'jpg'], ['357_1', 'jpg'], ['358', 'jpg'], ['361', 'jpg'], ['367', 'jpg'], ['370', 'jpg'], ['373', 'jpg'], ['376', 'jpg'], ['382', 'jpg'], ['388', 'jpg'], ['389', 'jpg'], ['39', 'jpg'], ['392', 'jpg'], ['395', 'jpg'], ['396', 'jpg'], ['399', 'jpg'], ['40', 'jpg'], ['402', 'jpg'], ['403', 'jpg'], ['405', 'jpg'], ['406', 'jpg'], ['409', 'jpg'], ['410', 'jpg'], ['411', 'jpg'], ['412', 'jpg'], ['415', 'jpg'], ['420', 'jpg'], ['46', 'jpg'], ['49', 'jpg'], ['57', 'jpg'], ['62', 'jpg'], ['69', 'jpg'], ['71', 'jpg'], ['81', 'jpg'], ['83', 'jpg'], ['87', 'jpg'], ['95', 'jpg'], ['98', 'jpg']]\n"
     ]
    }
   ],
   "source": [
    "print(split_list)"
   ]
  },
  {
   "cell_type": "code",
   "execution_count": 133,
   "metadata": {},
   "outputs": [
    {
     "name": "stdout",
     "output_type": "stream",
     "text": [
      "127\n"
     ]
    }
   ],
   "source": [
    "print(len(split_list))"
   ]
  },
  {
   "cell_type": "markdown",
   "metadata": {},
   "source": [
    "find class labels from the data"
   ]
  },
  {
   "cell_type": "code",
   "execution_count": 134,
   "metadata": {},
   "outputs": [
    {
     "name": "stdout",
     "output_type": "stream",
     "text": [
      "\n",
      "\n",
      "\n",
      "\n",
      "\n",
      "\n",
      "\n",
      "\n",
      "\n",
      "\n",
      "\n",
      "\n",
      "\n",
      "\n",
      "\n",
      "\n",
      "\n",
      "\n"
     ]
    }
   ],
   "source": [
    "new_file_name = []\n",
    "labels_file = []\n",
    "\n",
    "for i in split_list:\n",
    "    if \"_\" in i[0]:\n",
    "        print()\n",
    "        temp_ = i[0].split('_')\n",
    "        index_ = temp_[0]\n",
    "        # find label\n",
    "        temp_name_to_write = '{}.txt'.format(i[0])\n",
    "        temp_labels_to_write = labels_dict[index_]\n",
    "    else:\n",
    "        index_ = i[0]\n",
    "        # find label\n",
    "        temp_name_to_write = '{}.txt'.format(i[0])\n",
    "        temp_labels_to_write = labels_dict[index_]\n",
    "    \n",
    "    new_file_name.append(temp_name_to_write)\n",
    "    labels_file.append(temp_labels_to_write)"
   ]
  },
  {
   "cell_type": "code",
   "execution_count": 135,
   "metadata": {},
   "outputs": [
    {
     "name": "stdout",
     "output_type": "stream",
     "text": [
      "127 127\n"
     ]
    }
   ],
   "source": [
    "print(len(new_file_name), len(labels_file))"
   ]
  },
  {
   "cell_type": "code",
   "execution_count": 136,
   "metadata": {},
   "outputs": [
    {
     "data": {
      "text/plain": [
       "['105.txt', '110.txt', '114.txt', '118.txt', '119.txt']"
      ]
     },
     "execution_count": 136,
     "metadata": {},
     "output_type": "execute_result"
    }
   ],
   "source": [
    "new_file_name[0:5]"
   ]
  },
  {
   "cell_type": "code",
   "execution_count": 137,
   "metadata": {},
   "outputs": [
    {
     "data": {
      "text/plain": [
       "['Cluster', 'Cluster', 'Cluster', 'Cluster', 'Cluster']"
      ]
     },
     "execution_count": 137,
     "metadata": {},
     "output_type": "execute_result"
    }
   ],
   "source": [
    "labels_file[:5]"
   ]
  },
  {
   "cell_type": "code",
   "execution_count": 138,
   "metadata": {},
   "outputs": [
    {
     "data": {
      "text/plain": [
       "{'Cluster', 'Galaxy', 'Stellar', 'Unknown'}"
      ]
     },
     "execution_count": 138,
     "metadata": {},
     "output_type": "execute_result"
    }
   ],
   "source": [
    "check_dup = set(labels_file)\n",
    "check_dup"
   ]
  },
  {
   "cell_type": "code",
   "execution_count": 139,
   "metadata": {},
   "outputs": [],
   "source": [
    "# change label for yolo format\n",
    "    # -> 0 means Cluster\n",
    "    # -> 1 means Galaxy\n",
    "    # -> 2 means Stellar\n",
    "    # -> 3 means Unknown\n",
    "\n",
    "for i in range(len(labels_file)):\n",
    "    if labels_file[i] == 'Cluster':\n",
    "        labels_file[i] = 0\n",
    "    elif labels_file[i] == 'Galaxy':\n",
    "        labels_file[i] = 1\n",
    "    elif labels_file[i] == 'Stellar':\n",
    "        labels_file[i] = 2\n",
    "    elif labels_file[i] == 'Unknown':\n",
    "        labels_file[i] = 3"
   ]
  },
  {
   "cell_type": "code",
   "execution_count": 140,
   "metadata": {},
   "outputs": [
    {
     "data": {
      "text/plain": [
       "[0, 0, 0, 0, 0]"
      ]
     },
     "execution_count": 140,
     "metadata": {},
     "output_type": "execute_result"
    }
   ],
   "source": [
    "labels_file[:5]"
   ]
  },
  {
   "cell_type": "markdown",
   "metadata": {},
   "source": [
    "# Write yolo format into txt file"
   ]
  },
  {
   "cell_type": "code",
   "execution_count": 141,
   "metadata": {},
   "outputs": [
    {
     "data": {
      "text/plain": [
       "(['105.txt', '110.txt', '114.txt', '118.txt', '119.txt'], [0, 0, 0, 0, 0])"
      ]
     },
     "execution_count": 141,
     "metadata": {},
     "output_type": "execute_result"
    }
   ],
   "source": [
    "new_file_name[:5], labels_file[:5]"
   ]
  },
  {
   "cell_type": "code",
   "execution_count": 142,
   "metadata": {},
   "outputs": [],
   "source": [
    "# example : 0 0.500646 0.500000 0.998708 1.000000\n",
    "#  -> 0 0.500000 0.500000 1.000000 1.000000 (center_x, center_y, width, height)"
   ]
  },
  {
   "cell_type": "code",
   "execution_count": 144,
   "metadata": {},
   "outputs": [],
   "source": [
    "for i in range(len(new_file_name)):\n",
    "    path_ = '../detection/labels/{}'.format(new_file_name[i])\n",
    "    create_file = open(path_, 'w')\n",
    "    # create_file.write('{} 0.500000 0.500000 1.000000 1.000000'.format(labels_file[i]))\n",
    "    # create_file.close()"
   ]
  }
 ],
 "metadata": {
  "kernelspec": {
   "display_name": "Python 3.10.4 ('narit')",
   "language": "python",
   "name": "python3"
  },
  "language_info": {
   "codemirror_mode": {
    "name": "ipython",
    "version": 3
   },
   "file_extension": ".py",
   "mimetype": "text/x-python",
   "name": "python",
   "nbconvert_exporter": "python",
   "pygments_lexer": "ipython3",
   "version": "3.7.15"
  },
  "orig_nbformat": 4,
  "vscode": {
   "interpreter": {
    "hash": "37ab12f5734b1477e3698fcfc31ed3b33f01009b89a02af2647610dc6ae3fd14"
   }
  }
 },
 "nbformat": 4,
 "nbformat_minor": 2
}
