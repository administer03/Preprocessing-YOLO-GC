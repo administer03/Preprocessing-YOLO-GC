{
  "cells": [
    {
      "cell_type": "markdown",
      "metadata": {
        "id": "z4q_LehtbzN7"
      },
      "source": [
        "# FITS"
      ]
    },
    {
      "cell_type": "code",
      "execution_count": null,
      "metadata": {
        "id": "sWp_Jfs9XcBe"
      },
      "outputs": [],
      "source": [
        "from astropy.io import fits\n",
        "import matplotlib.pyplot as plt\n",
        "import numpy as np\n",
        "import pprint\n",
        "import random"
      ]
    },
    {
      "cell_type": "code",
      "execution_count": null,
      "metadata": {
        "id": "ZJLXaKx_YGb_"
      },
      "outputs": [],
      "source": [
        "fits_file = '/content/drive/MyDrive/Project Master\\'s Degree/hst_10190_13_acs_wfc_f814w_sci.fits'"
      ]
    },
    {
      "cell_type": "code",
      "execution_count": null,
      "metadata": {
        "colab": {
          "base_uri": "https://localhost:8080/"
        },
        "id": "jOQkPva4ZVyc",
        "outputId": "4e5d55a1-049e-47da-f1a0-db2adf3b65b0"
      },
      "outputs": [
        {
          "name": "stdout",
          "output_type": "stream",
          "text": [
            "Filename: /content/drive/MyDrive/Project Master's Degree/hst_10190_13_acs_wfc_f814w_sci.fits\n",
            "No.    Name      Ver    Type      Cards   Dimensions   Format\n",
            "  0  PRIMARY       1 PrimaryHDU     789   ()      \n",
            "  1  SCI           1 ImageHDU        86   (4973, 4947)   float32   \n"
          ]
        }
      ],
      "source": [
        "hdu_list = fits.open(fits_file)\n",
        "hdu_list.info()\n",
        "# hdu_list.close()"
      ]
    },
    {
      "cell_type": "code",
      "execution_count": null,
      "metadata": {
        "id": "wvPu_saNZlJ5"
      },
      "outputs": [],
      "source": [
        "image_data = hdu_list[1].data"
      ]
    },
    {
      "cell_type": "code",
      "execution_count": null,
      "metadata": {
        "colab": {
          "base_uri": "https://localhost:8080/"
        },
        "id": "E5DMAV_8f0ts",
        "outputId": "ba63870f-7f55-45dd-85bf-072010a501d0"
      },
      "outputs": [
        {
          "name": "stdout",
          "output_type": "stream",
          "text": [
            "Min: 0.0\n",
            "Max: 78.18604\n",
            "Mean: 0.18353963\n",
            "Stdev: 0.54749435\n"
          ]
        }
      ],
      "source": [
        "print('Min:', np.min(image_data))\n",
        "print('Max:', np.max(image_data))\n",
        "print('Mean:', np.mean(image_data))\n",
        "print('Stdev:', np.std(image_data))"
      ]
    },
    {
      "cell_type": "code",
      "execution_count": null,
      "metadata": {
        "colab": {
          "base_uri": "https://localhost:8080/",
          "height": 286
        },
        "id": "ogjms9M6Zlx1",
        "outputId": "94649165-f172-4026-eb5f-30394d166bce"
      },
      "outputs": [
        {
          "data": {
            "text/plain": [
              "<matplotlib.colorbar.Colorbar at 0x7fa7b44d8dd0>"
            ]
          },
          "execution_count": 6,
          "metadata": {},
          "output_type": "execute_result"
        },
        {
          "data": {
            "image/png": "[encoded data removed]",
            "text/plain": [
              "<Figure size 432x288 with 2 Axes>"
            ]
          },
          "metadata": {},
          "output_type": "display_data"
        }
      ],
      "source": [
        "plt.imshow(image_data[0:4644, 0:2112], cmap='gray')\n",
        "plt.colorbar()"
      ]
    },
    {
      "cell_type": "code",
      "execution_count": null,
      "metadata": {
        "colab": {
          "base_uri": "https://localhost:8080/",
          "height": 36
        },
        "id": "XUKM8TlhZw32",
        "outputId": "ee78bd34-ef9a-46f8-cff6-4dad6da06fab"
      },
      "outputs": [
        {
          "data": {
            "application/vnd.google.colaboratory.intrinsic+json": {
              "type": "string"
            },
            "text/plain": [
              "'ELECTRONS/S'"
            ]
          },
          "execution_count": 7,
          "metadata": {},
          "output_type": "execute_result"
        }
      ],
      "source": [
        "hdu_list[1].header[10]"
      ]
    },
    {
      "cell_type": "code",
      "execution_count": null,
      "metadata": {
        "colab": {
          "base_uri": "https://localhost:8080/"
        },
        "id": "_hf2A8BkaHAG",
        "outputId": "fcfcbf2c-87a1-4f7f-ef3e-0bcc62dca93f"
      },
      "outputs": [
        {
          "name": "stdout",
          "output_type": "stream",
          "text": [
            "<class 'numpy.ndarray'>\n",
            "(4947, 4973)\n"
          ]
        }
      ],
      "source": [
        "print(type(image_data))\n",
        "print(image_data.shape)"
      ]
    },
    {
      "cell_type": "code",
      "execution_count": null,
      "metadata": {
        "colab": {
          "base_uri": "https://localhost:8080/"
        },
        "id": "E3wxWVYiaSod",
        "outputId": "aeeb0ca3-6f2d-4c61-d3b4-60c77c0e8f52"
      },
      "outputs": [
        {
          "data": {
            "text/plain": [
              "array([[0., 0., 0., ..., 0., 0., 0.],\n",
              "       [0., 0., 0., ..., 0., 0., 0.],\n",
              "       [0., 0., 0., ..., 0., 0., 0.],\n",
              "       ...,\n",
              "       [0., 0., 0., ..., 0., 0., 0.],\n",
              "       [0., 0., 0., ..., 0., 0., 0.],\n",
              "       [0., 0., 0., ..., 0., 0., 0.]], dtype=float32)"
            ]
          },
          "execution_count": 9,
          "metadata": {},
          "output_type": "execute_result"
        }
      ],
      "source": [
        "image_data"
      ]
    },
    {
      "cell_type": "code",
      "execution_count": null,
      "metadata": {
        "colab": {
          "base_uri": "https://localhost:8080/"
        },
        "id": "SR9Tc8jQaWYt",
        "outputId": "935e3847-2760-433b-d87d-7cc6b2e543da"
      },
      "outputs": [
        {
          "data": {
            "text/plain": [
              "(4947, 4973)"
            ]
          },
          "execution_count": 10,
          "metadata": {},
          "output_type": "execute_result"
        }
      ],
      "source": [
        "image_data.shape"
      ]
    },
    {
      "cell_type": "code",
      "execution_count": null,
      "metadata": {
        "colab": {
          "base_uri": "https://localhost:8080/"
        },
        "id": "0VBj_LypaXdl",
        "outputId": "468db6d6-c640-45f2-990a-64da05db22ac"
      },
      "outputs": [
        {
          "name": "stdout",
          "output_type": "stream",
          "text": [
            "[0. 0. 0. ... 0. 0. 0.]\n",
            "(4973,)\n"
          ]
        }
      ],
      "source": [
        "print(image_data[0])\n",
        "print(image_data[0].shape )"
      ]
    },
    {
      "cell_type": "code",
      "execution_count": null,
      "metadata": {
        "colab": {
          "base_uri": "https://localhost:8080/"
        },
        "id": "XievOkMLafzn",
        "outputId": "5fa78bad-581b-4c14-b9ce-f062386be43c"
      },
      "outputs": [
        {
          "data": {
            "text/plain": [
              "74.66911"
            ]
          },
          "execution_count": 12,
          "metadata": {},
          "output_type": "execute_result"
        }
      ],
      "source": [
        "np.max(image_data[0:4000, 0:500])"
      ]
    },
    {
      "cell_type": "code",
      "execution_count": null,
      "metadata": {
        "colab": {
          "base_uri": "https://localhost:8080/"
        },
        "id": "5oI8iCROakG3",
        "outputId": "f06ccbac-184f-492c-e489-0713eb87ae7e"
      },
      "outputs": [
        {
          "name": "stdout",
          "output_type": "stream",
          "text": [
            "array([[0., 0., 0., ..., 0., 0., 0.],\n",
            "       [0., 0., 0., ..., 0., 0., 0.],\n",
            "       [0., 0., 0., ..., 0., 0., 0.],\n",
            "       [0., 0., 0., ..., 0., 0., 0.],\n",
            "       [0., 0., 0., ..., 0., 0., 0.]], dtype=float32)\n"
          ]
        }
      ],
      "source": [
        "pprint.pprint(image_data[4000:4005, 50:550])"
      ]
    },
    {
      "cell_type": "code",
      "execution_count": null,
      "metadata": {
        "colab": {
          "base_uri": "https://localhost:8080/",
          "height": 286
        },
        "id": "W2QCsXDtar11",
        "outputId": "e26ea9b7-e6f8-4a27-bc05-0486551a1a00"
      },
      "outputs": [
        {
          "data": {
            "text/plain": [
              "<matplotlib.colorbar.Colorbar at 0x7fa7b3f35410>"
            ]
          },
          "execution_count": 14,
          "metadata": {},
          "output_type": "execute_result"
        },
        {
          "data": {
            "image/png": "[encoded data removed]",
            "text/plain": [
              "<Figure size 432x288 with 2 Axes>"
            ]
          },
          "metadata": {},
          "output_type": "display_data"
        }
      ],
      "source": [
        "plt.imshow(image_data[50:55, 50:55], cmap='gray')\n",
        "plt.colorbar()"
      ]
    },
    {
      "cell_type": "code",
      "execution_count": null,
      "metadata": {
        "id": "ABIXS0qJavM8"
      },
      "outputs": [],
      "source": [
        "from matplotlib.colors import LogNorm"
      ]
    },
    {
      "cell_type": "code",
      "execution_count": null,
      "metadata": {
        "colab": {
          "base_uri": "https://localhost:8080/",
          "height": 286
        },
        "id": "vFzNlvxqavzl",
        "outputId": "82ea27fa-f44e-4e0e-a77a-06bf2e7e4533"
      },
      "outputs": [
        {
          "data": {
            "text/plain": [
              "[Text(1, 0, '5,000'), Text(1, 0, '10,000'), Text(1, 0, '20,000')]"
            ]
          },
          "execution_count": 16,
          "metadata": {},
          "output_type": "execute_result"
        },
        {
          "data": {
            "image/png": "[encoded data removed]",
            "text/plain": [
              "<Figure size 432x288 with 2 Axes>"
            ]
          },
          "metadata": {},
          "output_type": "display_data"
        }
      ],
      "source": [
        "plt.imshow(image_data, cmap='gray', norm=LogNorm())\n",
        "cbar = plt.colorbar(ticks=[4,1,2])\n",
        "cbar.ax.set_yticklabels(['5,000','10,000','20,000'])"
      ]
    },
    {
      "cell_type": "markdown",
      "metadata": {
        "id": "kJ-TMvkub2LD"
      },
      "source": [
        "# CAT (TXT)"
      ]
    },
    {
      "cell_type": "code",
      "execution_count": null,
      "metadata": {
        "id": "9yVxDr0jb3yW"
      },
      "outputs": [],
      "source": [
        "fits_file = '/content/drive/MyDrive/Project Master\\'s Degree/hst_10190_13_acs_wfc_f814w_sexphot_trm.txt'"
      ]
    },
    {
      "cell_type": "code",
      "execution_count": null,
      "metadata": {
        "id": "VXc8UptceJDM"
      },
      "outputs": [],
      "source": [
        "lines = []\n",
        "# with open(\"/content/drive/MyDrive/โปรเจค491&499/lib_txt/i14.txt\", \"r\") as f: \n",
        "# actually we can use cat file suddenly\n",
        "with open(fits_file, \"r\") as f:\n",
        "    lines = f.readlines()\n",
        "    lines.append(lines)\n",
        "lines = lines.pop(-1)"
      ]
    },
    {
      "cell_type": "code",
      "execution_count": null,
      "metadata": {
        "colab": {
          "base_uri": "https://localhost:8080/"
        },
        "id": "Rzj8x18AhdJh",
        "outputId": "cee1b94f-f7ef-4240-88f7-730ff7ef1b21"
      },
      "outputs": [
        {
          "data": {
            "text/plain": [
              "['#     Telescope European Coordinating Facility (ST-ECF/ESA) and the Canadian\\n',\n",
              " '#     Astronomy Data Centre (CADC/NRC/CSA).\\n',\n",
              " '#\\n',\n",
              " '# One copy of each paper resulting from data obtained from the HLA should be sent to the STScI\\n',\n",
              " '# ---------------------------------------------------------------------------------------------------------\\n',\n",
              " '# Proposal ID    :      10190\\n',\n",
              " '# Image File Name:                                              hst_10190_13_acs_wfc_f814w_drz.fits\\n',\n",
              " '# Target Name    : ANY                                                                             \\n',\n",
              " '# Date Observed  : 2004-12-28          \\n',\n",
              " '# Time Observed  : 08:53:10            \\n',\n",
              " '# Instrument     : ACS     \\n',\n",
              " '# Detector       : ACS/WFC \\n',\n",
              " '# Target RA      :    23.364584\\n',\n",
              " '# Target DEC     :    30.654265\\n',\n",
              " '# Orientation    :        0.000\\n',\n",
              " '# Aperture RA    :    23.364584\\n',\n",
              " '# Aperture DEC   :    30.654265\\n',\n",
              " '# Aperture PA    :       76.480\\n',\n",
              " '# Exposure Start : 53367.360000\\n',\n",
              " '# Exposure Time  :     2500.000\\n',\n",
              " '# CCD Gain       :        2.000\\n',\n",
              " '# Filter 1       :    F814W\\n',\n",
              " '# Filter 2       : F814W   \\n',\n",
              " '# ---------------------------------------------------------------------------------------------------------\\n',\n",
              " '# Data Release Version : V10.0      (Source Extractor Catalog)\\n']"
            ]
          },
          "execution_count": 19,
          "metadata": {},
          "output_type": "execute_result"
        }
      ],
      "source": [
        "lines[5:30]"
      ]
    },
    {
      "cell_type": "code",
      "execution_count": null,
      "metadata": {
        "id": "iy06bsChfPkl"
      },
      "outputs": [],
      "source": [
        "# keep only data\n",
        "data_list = []\n",
        "for i in lines:\n",
        "  if i[0] == '#' or i[0] == '-':\n",
        "    pass\n",
        "  else:\n",
        "    data_list.append(i.split())"
      ]
    },
    {
      "cell_type": "code",
      "execution_count": null,
      "metadata": {
        "id": "7ZrBZn-afWLc"
      },
      "outputs": [],
      "source": [
        "RA_DEC_list = []\n",
        "for i in data_list:\n",
        "  RA_DEC_list.append([(float(i[2])), (float(i[3]))])\n",
        "  # position_list.append([float(i[2])])\n",
        "# position_list"
      ]
    },
    {
      "cell_type": "code",
      "execution_count": null,
      "metadata": {
        "colab": {
          "base_uri": "https://localhost:8080/"
        },
        "id": "D9lXJQYpiMgz",
        "outputId": "51292ceb-1530-4193-d072-de0e3b179d0d"
      },
      "outputs": [
        {
          "data": {
            "text/plain": [
              "[[23.3270772, 30.6752882],\n",
              " [23.3271479, 30.6754031],\n",
              " [23.3272465, 30.6748994],\n",
              " [23.3272607, 30.6747796],\n",
              " [23.3273281, 30.6746041],\n",
              " [23.3273286, 30.6748319],\n",
              " [23.3273367, 30.6742281],\n",
              " [23.3273787, 30.6743401],\n",
              " [23.3273808, 30.6741022],\n",
              " [23.327433, 30.6741792]]"
            ]
          },
          "execution_count": 22,
          "metadata": {},
          "output_type": "execute_result"
        }
      ],
      "source": [
        "RA_DEC_list[0:10]\n",
        "# RA, DEC"
      ]
    },
    {
      "cell_type": "code",
      "execution_count": null,
      "metadata": {
        "colab": {
          "base_uri": "https://localhost:8080/"
        },
        "id": "93uDd3VAlvoU",
        "outputId": "37a0d88c-8ba4-4bb7-8c9c-a70f3758c2b8"
      },
      "outputs": [
        {
          "data": {
            "text/plain": [
              "[[4842, 4007],\n",
              " [4837, 4015],\n",
              " [4831, 3979],\n",
              " [4830, 3970],\n",
              " [4826, 3958],\n",
              " [4826, 3974],\n",
              " [4826, 3931],\n",
              " [4823, 3939],\n",
              " [4823, 3922],\n",
              " [4820, 3927]]"
            ]
          },
          "execution_count": 23,
          "metadata": {},
          "output_type": "execute_result"
        }
      ],
      "source": [
        "X_Y_list = []\n",
        "for i in data_list:\n",
        "  X_Y_list.append([round(float(i[0])), round(float(i[1]))])\n",
        "  # position_list.append([float(i[2])])\n",
        "X_Y_list[0:10]"
      ]
    },
    {
      "cell_type": "markdown",
      "metadata": {
        "id": "87t9do5vwWVt"
      },
      "source": [
        "## FHWM analysis"
      ]
    },
    {
      "cell_type": "code",
      "execution_count": null,
      "metadata": {
        "id": "jjdZ8-mtwaRd"
      },
      "outputs": [],
      "source": [
        "text_ = \"\"\" # X-Center    Y-Center         RA         DEC        ID     TotMag     MagErr       CI    Flags     MagAp1     MagErr    FluxAp1    FluxErr     MagAp2     MagErr    FluxAp2    FluxErr        Bck    Flags        pix        deg     MagIso     MagErr    FluxIso    FluxErr  MagIsoCor     MagErr FluxIsoCor    FluxErr   Radius    MagAuto     MagErr   FluxAuto    FluxErr    MagBest     MagErr   FluxBest    FluxErr     counts        Mag     counts        Mag          0          1          2          3          4          5          6          7       Xmin       Ymin       Xmax       Ymax         X2      ErrX2         Y2      ErrY2         XY      ErrXY        CXX     ErrCXX        CYY     ErrCYY        CXY     ErrCXY        A     ErrA        B     ErrB    Theta  ErrTheta    FWHM             X             Y            X2         ErrX2            Y2         ErrY2            XY         ErrXY           CXX        ErrCXX           CYY        ErrCYY           CXY        ErrCXY             A          ErrA             B          ErrB    Theta ErrTheta     FWHM    Elong    Ellip    Theta ErrTheta          RA         DEC    Theta ErrTheta          RA         DEC    Theta ErrTheta Star/Gal                                                                                                                                                                                                                                                                                         \n",
        "#       c1          c2         c3          c4        c5         c6         c7       c8       c9        c10        c11        c12        c13        c14        c15        c16        c17        c18      c19        c20        c21        c22        c23        c24        c25        c26        c27        c28        c29      c30        c31        c32        c33        c34        c35        c36        c37        c38        c39        c40        c41        c42        c43        c44        c45        c46        c47        c48        c49        c50        c51        c52        c53        c54        c55        c56        c57        c58        c59        c60        c61        c62        c63        c64        c65        c66      c67      c68      c69      c70      c71      c72      c73           c74           c75           c76           c77           c78           c79           c80           c81           c82           c83           c84           c85           c86           c87           c88           c89           c90           c91      c92      c93      c94      c95      c96      c97      c98         c99        c100     c101     c102        c103        c104     c105     c106     c107       c108       c109       c110       c111       c112       c113       c114       c115       c116       c117       c118       c119       c120       c121       c122       c123       c124       c125       c126       c127       c128       c129       c130       c131       c132       \n",
        "\"\"\""
      ]
    },
    {
      "cell_type": "code",
      "execution_count": null,
      "metadata": {
        "id": "DUnmtUHawp81"
      },
      "outputs": [],
      "source": [
        "text_ = text_.strip()"
      ]
    },
    {
      "cell_type": "code",
      "execution_count": null,
      "metadata": {
        "id": "fuh_Zfg9w3o5"
      },
      "outputs": [],
      "source": [
        "text_ = text_.replace('#', \"\")\n",
        "# text_.replace(' ', \"\")"
      ]
    },
    {
      "cell_type": "code",
      "execution_count": null,
      "metadata": {
        "id": "RZJemGPf4K5d"
      },
      "outputs": [],
      "source": [
        "text_ = text_.split()"
      ]
    },
    {
      "cell_type": "code",
      "execution_count": null,
      "metadata": {
        "colab": {
          "base_uri": "https://localhost:8080/"
        },
        "id": "RPufogAG-1Us",
        "outputId": "05ce35fe-5178-46e9-c4ea-feba5d8bd0f4"
      },
      "outputs": [
        {
          "name": "stdout",
          "output_type": "stream",
          "text": [
            "['X-Center', 'Y-Center', 'RA', 'DEC', 'ID', 'TotMag', 'MagErr', 'CI', 'Flags', 'MagAp1', 'MagErr', 'FluxAp1', 'FluxErr', 'MagAp2', 'MagErr', 'FluxAp2', 'FluxErr', 'Bck', 'Flags', 'pix', 'deg', 'MagIso', 'MagErr', 'FluxIso', 'FluxErr', 'MagIsoCor', 'MagErr', 'FluxIsoCor', 'FluxErr', 'Radius', 'MagAuto', 'MagErr', 'FluxAuto', 'FluxErr', 'MagBest', 'MagErr', 'FluxBest', 'FluxErr', 'counts', 'Mag', 'counts', 'Mag', '0', '1', '2', '3', '4', '5', '6', '7', 'Xmin', 'Ymin', 'Xmax', 'Ymax', 'X2', 'ErrX2', 'Y2', 'ErrY2', 'XY', 'ErrXY', 'CXX', 'ErrCXX', 'CYY', 'ErrCYY', 'CXY', 'ErrCXY', 'A', 'ErrA', 'B', 'ErrB', 'Theta', 'ErrTheta', 'FWHM', 'X', 'Y', 'X2', 'ErrX2', 'Y2', 'ErrY2', 'XY', 'ErrXY', 'CXX', 'ErrCXX', 'CYY', 'ErrCYY', 'CXY', 'ErrCXY', 'A', 'ErrA', 'B', 'ErrB', 'Theta', 'ErrTheta', 'FWHM', 'Elong', 'Ellip', 'Theta', 'ErrTheta', 'RA', 'DEC', 'Theta', 'ErrTheta', 'RA', 'DEC', 'Theta', 'ErrTheta', 'Star/Gal', 'c1', 'c2', 'c3', 'c4', 'c5', 'c6', 'c7', 'c8', 'c9', 'c10', 'c11', 'c12', 'c13', 'c14', 'c15', 'c16', 'c17', 'c18', 'c19', 'c20', 'c21', 'c22', 'c23', 'c24', 'c25', 'c26', 'c27', 'c28', 'c29', 'c30', 'c31', 'c32', 'c33', 'c34', 'c35', 'c36', 'c37', 'c38', 'c39', 'c40', 'c41', 'c42', 'c43', 'c44', 'c45', 'c46', 'c47', 'c48', 'c49', 'c50', 'c51', 'c52', 'c53', 'c54', 'c55', 'c56', 'c57', 'c58', 'c59', 'c60', 'c61', 'c62', 'c63', 'c64', 'c65', 'c66', 'c67', 'c68', 'c69', 'c70', 'c71', 'c72', 'c73', 'c74', 'c75', 'c76', 'c77', 'c78', 'c79', 'c80', 'c81', 'c82', 'c83', 'c84', 'c85', 'c86', 'c87', 'c88', 'c89', 'c90', 'c91', 'c92', 'c93', 'c94', 'c95', 'c96', 'c97', 'c98', 'c99', 'c100', 'c101', 'c102', 'c103', 'c104', 'c105', 'c106', 'c107', 'c108', 'c109', 'c110', 'c111', 'c112', 'c113', 'c114', 'c115', 'c116', 'c117', 'c118', 'c119', 'c120', 'c121', 'c122', 'c123', 'c124', 'c125', 'c126', 'c127', 'c128', 'c129', 'c130', 'c131', 'c132']\n"
          ]
        }
      ],
      "source": [
        "print(text_)"
      ]
    },
    {
      "cell_type": "code",
      "execution_count": null,
      "metadata": {
        "colab": {
          "base_uri": "https://localhost:8080/"
        },
        "id": "_anMH24X_TTB",
        "outputId": "78d6d245-4981-4b0b-d1d4-44b1765da841"
      },
      "outputs": [
        {
          "name": "stdout",
          "output_type": "stream",
          "text": [
            "RA : 2, DEC : 3\n",
            "FWHM : 72\n"
          ]
        }
      ],
      "source": [
        "print('RA : {}, DEC : {}\\nFWHM : {}'.format(text_.index('RA'), text_.index('DEC'), text_.index('FWHM')))"
      ]
    },
    {
      "cell_type": "code",
      "execution_count": null,
      "metadata": {
        "id": "13Ja395UFGZU"
      },
      "outputs": [],
      "source": [
        "FWHM_list = []\n",
        "for i in data_list:\n",
        "  FWHM_list.append(float(i[72]))\n",
        "# position_list"
      ]
    },
    {
      "cell_type": "code",
      "execution_count": null,
      "metadata": {
        "colab": {
          "base_uri": "https://localhost:8080/"
        },
        "id": "VwBlir6_FNv_",
        "outputId": "23f32454-1d59-4f44-8706-4f894b504f38"
      },
      "outputs": [
        {
          "data": {
            "text/plain": [
              "[1.79, 0.0, 3.33, 4.43, 0.0, 6.47, 3.04, 0.53, 3.63, 5.1]"
            ]
          },
          "execution_count": 80,
          "metadata": {},
          "output_type": "execute_result"
        }
      ],
      "source": [
        "FWHM_list[:10]"
      ]
    },
    {
      "cell_type": "code",
      "execution_count": null,
      "metadata": {
        "colab": {
          "base_uri": "https://localhost:8080/"
        },
        "id": "d6rLQrq7FPM-",
        "outputId": "9a9377f7-645a-4bdd-a97a-4d12f170f4ab"
      },
      "outputs": [
        {
          "name": "stdout",
          "output_type": "stream",
          "text": [
            "Min: -33.2\n",
            "Max: 16.3\n",
            "Mean: 3.508710980949\n",
            "Stdev: 2.3974295452043113\n"
          ]
        }
      ],
      "source": [
        "FWHM_arr = np.array(FWHM_list)\n",
        "print('Min:', np.min(FWHM_arr))\n",
        "print('Max:', np.max(FWHM_arr))\n",
        "print('Mean:', np.mean(FWHM_arr))\n",
        "print('Stdev:', np.std(FWHM_arr))"
      ]
    },
    {
      "cell_type": "code",
      "execution_count": null,
      "metadata": {
        "colab": {
          "base_uri": "https://localhost:8080/",
          "height": 350
        },
        "id": "Y5EDnSeCFRSF",
        "outputId": "f077e14f-757c-42ba-e556-acb82af62bf1"
      },
      "outputs": [
        {
          "data": {
            "image/png": "[encoded data removed]",
            "text/plain": [
              "<Figure size 1080x360 with 2 Axes>"
            ]
          },
          "metadata": {},
          "output_type": "display_data"
        }
      ],
      "source": [
        "plt.rcParams[\"figure.figsize\"] = (15,5)\n",
        "plt.scatter(range(len(FWHM_arr)), FWHM_arr, c=FWHM_arr, cmap='Spectral')\n",
        "plt.colorbar()\n",
        "plt.title('Simple Scatter plot')\n",
        "plt.xlabel('No.')\n",
        "plt.ylabel('Values')\n",
        "plt.show()"
      ]
    },
    {
      "cell_type": "code",
      "execution_count": null,
      "metadata": {
        "colab": {
          "base_uri": "https://localhost:8080/",
          "height": 350
        },
        "id": "ELcfXOcLFWg2",
        "outputId": "951ca3d5-b0e0-4a54-c0ba-ca97495858f5"
      },
      "outputs": [
        {
          "data": {
            "image/png": "[encoded data removed]",
            "text/plain": [
              "<Figure size 1080x360 with 1 Axes>"
            ]
          },
          "metadata": {},
          "output_type": "display_data"
        }
      ],
      "source": [
        "plt.hist(FWHM_arr, bins=range(int(min(FWHM_arr)), 10))\n",
        "plt.title('Histogram of FWHM_IMAGE')\n",
        "plt.xlabel('value')\n",
        "plt.ylabel('Counts')\n",
        "plt.grid(True)\n",
        "plt.show()"
      ]
    },
    {
      "cell_type": "markdown",
      "metadata": {
        "id": "w-gHEA-mf9WL"
      },
      "source": [
        "#Extraction"
      ]
    },
    {
      "cell_type": "code",
      "execution_count": null,
      "metadata": {
        "id": "yXJhyARLmn70"
      },
      "outputs": [],
      "source": [
        "def plot_(index_, crop_size_x = 30, crop_size_y = 30):\n",
        "  pos_x = X_Y_list[index_][0]\n",
        "  pos_y = X_Y_list[index_][1]\n",
        "\n",
        "  if (crop_size_x * crop_size_x) % 2 != 0: # odd number of size\n",
        "    rad_x = crop_size_x // 2\n",
        "    rad_y = crop_size_y // 2\n",
        "\n",
        "    start_x = pos_x-rad_x\n",
        "    end_x = pos_x+rad_x + 1\n",
        "\n",
        "    start_y = pos_y-rad_y\n",
        "    end_y = pos_y+rad_y + 1\n",
        "  else: # even number of size\n",
        "    rad_x = crop_size_x // 2\n",
        "    rad_y = crop_size_y // 2\n",
        "\n",
        "    start_x = pos_x-rad_x\n",
        "    end_x = pos_x+rad_x\n",
        "\n",
        "    start_y = pos_y-rad_y\n",
        "    end_y = pos_y+rad_y\n",
        "  \n",
        "  border_range = image_data[start_y:end_y, start_x:end_x]\n",
        "  return border_range"
      ]
    },
    {
      "cell_type": "code",
      "execution_count": null,
      "metadata": {
        "colab": {
          "base_uri": "https://localhost:8080/",
          "height": 864
        },
        "id": "KIqV3IKVmWfT",
        "outputId": "e7edc86f-e67e-4a63-f29b-bec691b944db"
      },
      "outputs": [
        {
          "data": {
            "image/png": "[encoded data removed]",
            "text/plain": [
              "<Figure size 1440x1080 with 100 Axes>"
            ]
          },
          "metadata": {},
          "output_type": "display_data"
        }
      ],
      "source": [
        "row = 10\n",
        "col = 10\n",
        "plt.figure(figsize=(20, 15))\n",
        "for i in range((row * col)):\n",
        "  ran_index = random.randint(0,1000)\n",
        "  border_range = plot_(ran_index, crop_size_x = 12, crop_size_y = 12)\n",
        "  plt.subplot(row, col, i+1)\n",
        "  plt.imshow(border_range, cmap='gray')\n",
        "plt.show()"
      ]
    },
    {
      "cell_type": "markdown",
      "metadata": {
        "id": "TJ1Sb2xRc5XM"
      },
      "source": [
        "# get lables for mathing index of items"
      ]
    },
    {
      "cell_type": "code",
      "execution_count": null,
      "metadata": {
        "id": "gXoBWd4bdrhE"
      },
      "outputs": [],
      "source": [
        "import pandas as pd"
      ]
    },
    {
      "cell_type": "code",
      "execution_count": null,
      "metadata": {
        "colab": {
          "base_uri": "https://localhost:8080/"
        },
        "id": "ZeX63M-ReVHU",
        "outputId": "cacc8b1d-fc99-4b81-f66c-338a54f5f15c"
      },
      "outputs": [
        {
          "name": "stdout",
          "output_type": "stream",
          "text": [
            "['1', 'Unknown']\n"
          ]
        }
      ],
      "source": [
        "txt = '1.Unknown'\n",
        "print(txt.split('.'))"
      ]
    },
    {
      "cell_type": "code",
      "execution_count": null,
      "metadata": {
        "id": "N0FjZ8gSc9QF"
      },
      "outputs": [],
      "source": [
        "obj = []\n",
        "with open('dec.txt') as f:\n",
        "   for line in f:\n",
        "       # For Python3, use print(line)\n",
        "      #  print(line)\n",
        "      print(line.split())\n",
        "      # split_list = line.split()\n",
        "      obj.append(line.split())"
      ]
    },
    {
      "cell_type": "code",
      "execution_count": null,
      "metadata": {
        "colab": {
          "base_uri": "https://localhost:8080/"
        },
        "id": "RV2ZFxlEd4kE",
        "outputId": "c5433aec-f31b-4557-918e-83ebdc680b43"
      },
      "outputs": [
        {
          "name": "stdout",
          "output_type": "stream",
          "text": [
            "[['1', '01', '32', '31.97', '30', '37', '37.5', 'Unknown', 'CS', 'U92'], ['2', '01', '32', '33.36', '30', '26', '20.9', 'Stellar', 'CS', 'H39'], ['3', '01', '32', '34.40', '30', '37', '42.6', '19.86', '1.13', 'Cluster', 'CBF', '143'], ['4', '01', '32', '35.60', '30', '41', '28.0', 'Unknown', 'CS', 'H22'], ['5', '01', '32', '38.87', '30', '47', '07.1', 'Galaxy', 'CS', 'U33'], ['6', '01', '32', '38.97', '30', '39', '17.9', '19.92', '10.28', 'Cluster', 'CBF', '162;', 'Ma', '2002b'], ['7', '01', '32', '39.13', '30', '40', '42.0', 'Unknown', 'CS', 'U81'], ['8', '01', '32', '41.27', '30', '27', '51.9', 'Unknown', 'CS', 'U141'], ['9', '01', '32', '42.93', '30', '35', '38.6', '17.61', '0.32', '8.56', '4.63', 'Cluster', 'CS', 'U106;', 'Hilt', 'L;', 'MD', '1;', 'Ma', '2002a;', 'Ma', '2004b'], ['10', '01', '32', '44.30', '30', '40', '12.4', '18.75', '10.28', '5.58', 'Cluster', 'CBF', '161;', 'CS', 'U88;', 'Ma', '2002b;', 'Ma', '2004a'], ['11', '01', '32', '45.31', '30', '30', '24.3', 'Unknown', 'CS', 'U127'], ['12', '01', '32', '46.80', '30', '33', '35.3', 'Stellar', 'CS', 'U108'], ['13', '01', '32', '51.77', '30', '33', '05.3', 'Stellar', 'CS', 'C34'], ['14', '01', '32', '51.78', '30', '29', '47.8', 'Stellar', 'CS', 'U128'], ['15', '01', '32', '51.82', '30', '29', '36.4', 'Cluster', 'CS', 'U129'], ['16', '01', '32', '52.65', '30', '14', '30.9', '18.76', '0.46', '8.01', '3.72', 'Cluster', 'MD', '2;', 'Ma', '2002a;', 'Ma', '2004b'], ['17', '01', '32', '52.70', '30', '32', '00.4', 'Unknown', 'CS', 'U116'], ['18', '01', '32', '52.87', '30', '34', '10.2', 'Unknown', 'CS', 'U107'], ['19', '01', '32', '53.80', '30', '37', '52.9', 'Stellar', 'CS', 'H26'], ['20', '01', '32', '54.31', '30', '55', '29.5', 'Unknown', 'CS', 'C7'], ['21', '01', '32', '54.63', '30', '23', '20.6', 'Unknown', 'CS', 'U157'], ['22', '01', '32', '54.95', '30', '46', '25.4', 'Unknown', 'CS', 'U55'], ['23', '01', '32', '55.47', '30', '29', '22.2', 'Cluster', 'CS', 'H37'], ['24', '01', '32', '56.09', '30', '38', '25.7', '17.63', '0.09', '0.63', '7.22', '3.60', 'Stellar', 'MKKSS', '1;', 'Ma', '2002c'], ['25', '01', '32', '56.18', '30', '25', '45.8', 'Stellar', 'CS', 'U149'], ['26', '01', '32', '56.32', '30', '14', '58.9', '18.06', '-0.04', '10.04', '5.88', 'Cluster', 'Hilt', 'K;', 'MD', '3;', 'Ma', '2002a;', 'Ma', '2004b'], ['27', '01', '32', '56.36', '30', '44', '51.2', 'Stellar', 'CS', 'H16'], ['28', '01', '32', '57.60', '30', '55', '42.7', 'Cluster', 'CS', 'C8'], ['29', '01', '32', '58.63', '30', '47', '57.3', 'Cluster', 'CS', 'C28'], ['30', '01', '32', '59.28', '30', '23', '04.4', 'Unknown', 'CS', 'H47'], ['31', '01', '33', '00.37', '30', '26', '47.7', 'Unknown', 'CS', 'U142'], ['32', '01', '33', '00.54', '30', '45', '17.6', 'Cluster', 'CS', 'U65'], ['33', '01', '33', '00.89', '30', '25', '32.7', 'Unknown', 'CS', 'H44'], ['34', '01', '33', '01.10', '30', '35', '45.1', '20.40', '-0.14', 'Cluster', 'CBF', '39;', 'Ma', '2001'], ['35', '01', '33', '02.40', '30', '34', '44.5', '18.50', '-0.34', '6.42', 'Cluster', 'CBF', '40;', 'Ma', '2001'], ['36', '01', '33', '04.91', '30', '25', '27.0', 'Unknown', 'CS', 'U151'], ['37', '01', '33', '05.56', '30', '36', '40.4', 'Unknown', 'CS', 'U96'], ['38', '01', '33', '06.40', '30', '37', '35.8', '19.78', '2.53', '2.03', '10.30', '5.09', 'Unknown', 'MKKSS', '2;', 'Ma', '2002c'], ['39', '01', '33', '07.37', '30', '23', '14.3', 'Stellar', 'CS', 'H46'], ['40', '01', '33', '08.11', '30', '28', '00.2', '19.11', '0.85', '1.01', '9.15', '4.42', 'Cluster', 'CBF', '86;', 'CS', 'U140;', 'Ma', '2002b'], ['41', '01', '33', '09.82', '30', '12', '50.7', '18.68', '0.19', '7.96', '3.71', 'Cluster', 'Hilt', 'V;', 'MD', '4;', 'Ma', '2002a;', 'Ma', '2004b'], ['42', '01', '33', '10.11', '30', '29', '56.9', '18.54', '0.47', '6.58', '2.97', 'Cluster', 'CBF', '89;', 'Ma', '2002b'], ['43', '01', '33', '11.61', '30', '13', '14.1', '18.75', '0.27', '10.22', '5.52', 'Galaxy', 'Hilt', 'U;', 'MD', '5;', 'Ma', '2002a;', 'Ma', '2004b'], ['44', '01', '33', '13.80', '30', '29', '03.6', '19.04', '1.15', '10.06', '5.32', 'Cluster', 'CBF', '87;', 'Ma', '2002b'], ['45', '01', '33', '13.87', '30', '29', '05.1', '19.56', '0.44', '8.96', '4.15', 'Cluster', 'CBF', '53;', 'Ma', '2001'], ['46', '01', '33', '13.88', '30', '28', '24.4', '18.27', '1.10', 'Cluster', 'CBF', '85'], ['47', '01', '33', '13.90', '30', '29', '44.7', '18.20', '0.00', '6.48', 'Cluster', 'CBF', '88;', 'Ma', '2002b'], ['48', '01', '33', '14.29', '30', '27', '11.1', '18.31', '0.42', '6.96', '3.01', 'Unknown', 'CS', 'U138;', 'MD', '7;', 'Ma', '2002a;', 'Ma', '2004b'], ['49', '01', '33', '14.30', '30', '28', '22.8', '18.35', '1.09', '10.27', '5.68', 'Cluster', 'CBF', '54;', 'CS', 'U137;', 'Hilt', 'S;', 'MD', '8;', 'Ma', '2002a;', 'Ma', '2004b;', 'Ma', '2001;', 'Ma', '2004a'], ['50', '01', '33', '14.61', '30', '51', '37.8', 'Galaxy', 'CS', 'H7'], ['51', '01', '33', '15.09', '30', '54', '12.7', 'Unknown', 'CS', 'H5'], ['52', '01', '33', '15.17', '30', '32', '53.0', '19.05', '0.62', '9.11', '4.33', 'Cluster', 'CBF', '144;', 'Ma', '2002b'], ['53', '01', '33', '16.10', '30', '20', '56.7', '18.28', '0.19', '0.61', '6.96', '3.02', 'Cluster', 'MD', '6;', 'CS', 'M15;', 'Ma', '2002a;', 'Ma', '2004b'], ['54', '01', '33', '16.63', '30', '34', '35.7', '19.33', '0.62', '8.01', '3.50', 'Cluster', 'CBF', '145;', 'Ma', '2002b'], ['55', '01', '33', '18.20', '30', '43', '48.1', 'Unknown', 'CS', 'U66'], ['56', '01', '33', '18.87', '30', '26', '45.0', 'Unknown', 'CS', 'H40'], ['57', '01', '33', '19.21', '30', '23', '22.5', 'Galaxy', 'CS', 'U156'], ['58', '01', '33', '19.41', '30', '48', '48.7', 'Unknown', 'CS', 'U37'], ['59', '01', '33', '20.40', '30', '40', '23.3', '17.17', '0.24', '0.79', '8.41', '4.66', 'Unknown', 'MKKSS', '3;', 'Ma', '2002c'], ['60', '01', '33', '20.48', '30', '26', '15.2', 'Stellar', 'CS', 'H41'], ['61', '01', '33', '21.18', '30', '37', '55.5', 'Unknown', 'CS', 'H25'], ['62', '01', '33', '21.57', '30', '31', '51.4', 'Stellar', 'CS', 'H33'], ['63', '01', '33', '21.66', '30', '37', '48.4', 'Unknown', 'CS', 'U95'], ['64', '01', '33', '21.90', '31', '01', '11.2', '17.07', '1.15', '10.00', '5.96', 'Galaxy', 'MD', '18;', 'Ma', '2002a;', 'Ma', '2004b'], ['65', '01', '33', '22.10', '30', '45', '34.3', '19.19', '0.66', '0.88', 'Cluster', 'CS', 'C31'], ['66', '01', '33', '22.11', '30', '40', '28.4', '18.65', '9.11', '4.73', 'Cluster', 'CBF', '59;', 'Ma', '2001;', 'Ma', '2004a'], ['67', '01', '33', '22.16', '30', '40', '26.0', '18.29', '0.38', '6.94', '3.04', 'Cluster', 'CBF', '95;', 'Ma', '2002b'], ['68', '01', '33', '22.32', '30', '40', '59.4', '18.58', '0.10', '0.57', '8.36', '4.08', 'Cluster', 'CBF', '60;', 'CBF', '94;', 'Ma', '2001;', 'Ma', '2002b'], ['69', '01', '33', '22.38', '30', '30', '14.3', 'Stellar', 'CS', 'H36'], ['70', '01', '33', '23.10', '30', '33', '00.5', '17.38', '0.31', '0.38', '7.86', '4.29', 'Cluster', 'MKKSS', '4;', 'CS', 'H32;', 'MD', '10;', 'Ma', '2002a;', 'Ma', '2004b;', 'Ma', '2002c'], ['71', '01', '33', '23.11', '30', '32', '22.9', 'Unknown', 'CS', 'U115'], ['72', '01', '33', '23.30', '30', '46', '09.0', '19.36', '0.61', '0.60', 'Unknown', 'CS', 'U50'], ['73', '01', '33', '23.44', '30', '22', '31.0', '16.66', '1.18', '9.78', '6.02', 'Galaxy', 'CS', 'C37;', 'MD', '9;', 'Ma', '2002a;', 'Ma', '2004b'], ['74', '01', '33', '23.90', '30', '40', '26.0', '19.07', '0.81', '6.92', '2.72', 'Cluster', 'CBF', '96;', 'Ma', '2002b'], ['75', '01', '33', '24.61', '30', '32', '56.1', '19.90', '0.20', 'Cluster', 'CBF', '17;', 'Ma', '2001'], ['76', '01', '33', '24.85', '30', '33', '55.0', '19.87', '0.01', '7.28', '2.84', 'Cluster', 'CBF', '18;', 'Ma', '2001'], ['77', '01', '33', '25.60', '30', '29', '56.8', '18.43', '0.76', '1.43', '10.24', '5.64', 'Cluster', 'MKKSS', '5;', 'CS', 'U126;', 'Ma', '2002c'], ['78', '01', '33', '25.60', '30', '45', '30.5', '18.82', '0.40', 'Cluster', 'CS', 'U64'], ['79', '01', '33', '25.65', '30', '27', '52.8', '18.67', 'Unknown', 'CS', 'U136'], ['80', '01', '33', '26.00', '30', '36', '24.3', '17.87', '0.29', '0.79', '8.51', '4.44', 'Unknown', 'MKKSS', '6;', 'Ma', '2002c'], ['81', '01', '33', '26.37', '30', '41', '06.9', '18.61', '0.46', '7.70', '3.57', 'Cluster', 'CBF', '92;', 'Ma', '2002b'], ['82', '01', '33', '26.47', '30', '55', '10.9', 'Unknown', 'CS', 'U6'], ['83', '01', '33', '26.49', '30', '41', '11.6', '19.11', '0.55', '6.60', '2.62', 'Cluster', 'CBF', '93;', 'Ma', '2002b'], ['84', '01', '33', '26.53', '30', '27', '00.4', '18.76', '0.36', 'Unknown', 'CS', 'U143'], ['85', '01', '33', '26.75', '30', '33', '21.4', '17.45', '0.27', '7.08', '3.62', 'Cluster', 'CBF', '16;', 'MD', '12;', 'CS', 'M10;', 'Ma', '2001'], ['86', '01', '33', '26.94', '30', '34', '52.6', '18.75', '0.21', '6.94', '2.98', 'Cluster', 'CBF', '19;', 'Ma', '2001'], ['87', '01', '33', '27.40', '30', '41', '59.8', '18.28', '1.01', '10.28', '5.69', 'Cluster', 'CBF', '97;', 'Ma', '2002b;', 'Ma', '2004a'], ['88', '01', '33', '27.96', '30', '37', '28.4', '18.86', '0.78', '6.86', '2.85', 'Cluster', 'CBF', '124;', 'Ma', '2002b'], ['89', '01', '33', '27.98', '30', '32', '43.1', '18.45', '0.20', '0.43', '6.72', '2.99', 'Unknown', 'MKKSS', '7;', 'Ma', '2002c'], ['90', '01', '33', '28.00', '30', '21', '06.2', '19.65', '0.44', '6.84', '2.91', 'Cluster', 'CBF', '115;', 'Ma', '2002b'], ['91', '01', '33', '28.13', '30', '58', '30.6', '17.78', '0.84', '10.03', '5.70', 'Cluster', 'CS', 'C1;', 'MD', '21;', 'Ma', '2002a;', 'Ma', '2004b'], ['92', '01', '33', '28.23', '30', '46', '39.9', '19.14', '0.51', 'Unknown', 'CS', 'U51'], ['93', '01', '33', '28.40', '30', '36', '23.1', '17.35', '0.69', '0.79', '8.76', '4.83', 'Cluster', 'CBF', '151;', 'CS', 'H28;', 'MD', '14;', 'Ma', '2002b'], ['94', '01', '33', '28.70', '30', '36', '37.5', '17.38', '0.52', '0.76', '8.01', '4.35', 'Cluster', 'CBF', '150;', 'CS', 'H27;', 'MD', '15;', 'Ma', '2002b'], ['95', '01', '33', '28.72', '30', '41', '35.0', '17.17', '0.76', '1.03', 'Cluster', 'CBF', '90;', 'MD', '17;CS', 'U77;', 'Ma', '2004a'], ['96', '01', '33', '29.30', '30', '44', '01.6', '19.12', '0.81', '0.73', 'Unknown', 'CS', 'U67'], ['97', '01', '33', '29.40', '30', '23', '59.2', 'Unknown', 'CS', 'U152'], ['98', '01', '33', '29.48', '30', '30', '02.1', '18.16', '0.21', '0.65', '8.01', '3.99', 'Unknown', 'MKKSS', '8;', 'Ma', '2002c'], ['99', '01', '33', '29.85', '30', '26', '49.1', '18.64', '0.68', 'Stellar', 'CS', 'H42'], ['100', '01', '33', '30.07', '30', '49', '29.0', '20.01', '0.60', 'Cluster', 'CBF', '111'], ['101', '01', '33', '30.68', '30', '26', '31.8', '18.01', '1.13', '10.05', '5.67', 'Cluster', 'CS', 'C36;', 'MD', '13;', 'Ma', '2002a;', 'Ma', '2004b'], ['102', '01', '33', '30.70', '30', '22', '21.4', '18.18', '0.76', '0.89', '9.28', '4.94', 'Cluster', 'CBF', '114;', 'CS', 'C38;', 'Hilt', 'T;', 'MD', '11;', 'Ma', '2004a'], ['103', '01', '33', '30.90', '30', '49', '11.8', '18.52', '0.65', '0.77', '8.96', '4.52', 'Cluster', 'SBGHS', '7;', 'CBF', '110;', 'CS', 'C24;', 'MD', '20;', 'Ma', '2002b'], ['104', '01', '33', '30.92', '30', '37', '12.9', '18.22', '0.56', 'Cluster', 'CBF', '123'], ['105', '01', '33', '31.00', '30', '36', '52.6', '18.21', '0.32', '1.28', '6.96', '3.02', 'Cluster', 'CBF', '125;', 'MKKSS', '9;', 'Ma', '2002b;', 'Ma', '2004a;', 'Ma', '2002c'], ['106', '01', '33', '31.10', '30', '33', '45.5', '18.67', '0.21', '7.81', '3.57', 'Cluster', 'CBF', '13;', 'CS', 'U110;', 'Ma', '2001'], ['107', '01', '33', '31.22', '30', '33', '33.5', '18.12', '0.20', '7.74', '3.78', 'Unknown', 'CS', 'U109;', 'MD', '16;', 'Ma', '2002a;', 'Ma', '2004b'], ['108', '01', '33', '31.22', '30', '54', '41.6', '18.72', '0.78', 'Chip', 'Gap', 'CS', 'C9'], ['109', '01', '33', '31.25', '30', '50', '07.0', '19.27', '0.43', '7.81', '3.44', 'Cluster', 'CBF', '113;', 'CS', 'U36;', 'Ma', '2002b'], ['110', '01', '33', '31.39', '30', '40', '20.4', '17.91', '0.58', '0.92', '9.26', '5.03', 'Cluster', 'CBF', '22;', 'CBF', '91;', 'CS', 'U87;', 'Ma', '2001;', 'Ma', '2002b;', 'Ma', '2004a'], ['111', '01', '33', '31.86', '30', '54', '40.1', '19.74', '0.61', 'Chip', 'Gap', 'CS', 'C10'], ['112', '01', '33', '32.00', '30', '46', '25.0', '18.80', '0.57', '0.84', 'Unknown', 'CS', 'U52'], ['113', '01', '33', '32.01', '30', '33', '21.8', '17.34', '0.17', '6.98', '3.54', 'Cluster', 'CBF', '14;', 'Ma', '2001'], ['114', '01', '33', '32.17', '30', '40', '31.9', '18.90', '-0.04', '6.52', '2.83', 'Cluster', 'CBF', '24;', 'Ma', '2001'], ['115', '01', '33', '32.19', '30', '56', '04.9', '19.57', '0.71', 'Cluster', 'CS', 'C6'], ['116', '01', '33', '32.36', '30', '38', '28.0', '18.52', '0.89', '9.95', '5.25', 'Cluster', 'CBF', '126;', 'Ma', '2002b'], ['117', '01', '33', '32.43', '30', '38', '24.5', '18.30', '9.54', '5.09', 'Cluster', 'CBF', '20;', 'Ma', '2001;', 'Ma', '2004a'], ['118', '01', '33', '32.59', '30', '39', '24.5', '18.84', '0.69', '8.01', '3.70', 'Cluster', 'CBF', '25;', 'Ma', '2001'], ['119', '01', '33', '32.72', '30', '36', '55.2', '17.71', '6.84', '3.03', 'Cluster', 'CBF', '148;', 'Ma', '2002b'], ['120', '01', '33', '32.75', '30', '31', '45.1', '19.19', '0.40', 'Cluster', 'CBF', '42;', 'Ma', '2001'], ['121', '01', '33', '33.00', '30', '49', '41.7', '18.65', '0.29', '0.90', '9.21', '4.69', 'Cluster', 'SBGHS', '8;', 'CBF', '112;', 'CS', 'C23;', 'Hilt', 'P;', 'MD', '22;', 'Ma', '200b;', 'Ma', '2004a'], ['122', '01', '33', '33.28', '30', '48', '30.5', '18.38', '0.57', '0.82', '8.86', '4.51', 'Cluster', 'SBGHS', '5;', 'CBF', '107;', 'CS', 'C25;', 'Ma', '2002b'], ['123', '01', '33', '33.57', '30', '36', '35.8', '18.69', 'Cluster', 'CBF', '149'], ['124', '01', '33', '33.72', '30', '40', '03.0', '18.27', '0.57', '8.96', '4.62', 'Cluster', 'CBF', '23;', 'CS', 'U86;', 'Ma', '2001'], ['125', '01', '33', '34.17', '30', '44', '00.2', 'Unknown', 'CS', 'U68'], ['126', '01', '33', '34.38', '30', '42', '01.3', '18.64', '0.24', '6.94', '2.99', 'Cluster', 'CBF', '37;', 'Ma', '2001'], ['127', '01', '33', '34.68', '30', '48', '21.2', '19.14', '1.01', '8.51', '3.92', 'Cluster', 'SBGHS', '6;', 'CBF', '108;', 'Ma', '2002b'], ['128', '01', '33', '34.90', '30', '37', '05.6', 'Unknown', 'CS', 'H29'], ['129', '01', '33', '34.96', '30', '55', '06.1', '20.52', '0.85', 'Unknown', 'CS', 'U7'], ['130', '01', '33', '35.10', '30', '49', '00.0', '18.30', '1.07', '1.20', '9.90', '5.42', 'Cluster', 'SBGHS', '4;', 'CBF', '106;', 'CS', 'H10;', 'Ma', '2004a'], ['131', '01', '33', '35.27', '30', '33', '11.6', '19.04', '0.48', '8.01', '3.66', 'Cluster', 'CBF', '15;', 'CBF', '45;', 'Ma', '2001'], ['132', '01', '33', '35.62', '30', '38', '36.7', '17.71', '-0.19', '6.58', '3.13', 'Cluster', 'CBF', '21;', 'Ma', '2001'], ['133', '01', '33', '35.94', '30', '36', '28.8', 'Stellar', 'CS', 'U97'], ['134', '01', '33', '36.19', '30', '47', '55.1', '18.17', '0.46', '8.66', '4.40', 'Cluster', 'SBGHS', '2;', 'CBF', '109;', 'Ma', '2002b'], ['135', '01', '33', '36.30', '30', '56', '15.9', 'Stellar', 'CS', 'U5'], ['136', '01', '33', '36.70', '30', '27', '08.0', 'Unknown', 'CS', 'U144'], ['137', '01', '33', '36.77', '30', '43', '23.1', 'Unknown', 'CS', 'H18'], ['138', '01', '33', '36.79', '30', '49', '17.5', '18.63', '0.82', 'Cluster', 'SBGHS', '9'], ['139', '01', '33', '36.98', '30', '37', '12.0', '18.58', '0.05', '0.11', '8.01', '3.79', 'Unknown', 'MKKSS', '10;', 'Ma', '2002c'], ['140', '01', '33', '37.24', '30', '34', '13.9', '17.15', '0.08', '0.39', '6.94', '3.57', 'Cluster', 'MKKSS', '11;', 'CS', 'U111;', 'Ma', '2002c'], ['141', '01', '33', '37.60', '30', '28', '04.6', '17.71', '0.14', '0.94', '8.36', '4.46', 'Unknown', 'CS', 'U134;', 'Hilt', 'I;', 'MD', '19;', 'Ma', '2002a;', 'Ma', '2004b'], ['142', '01', '33', '37.81', '30', '50', '32.3', '19.21', '1.08', 'Cluster', 'SBGHS', '10'], ['143', '01', '33', '38.00', '30', '38', '02.2', '17.49', '0.69', '1.22', '9.63', '5.47', 'Unknown', 'MKKSS', '12;', 'Ma', '2004a;', 'Ma', '2004a;', 'Ma', '2002c'], ['144', '01', '33', '38.04', '30', '33', '05.4', '17.72', '0.29', '0.39', '7.22', '3.53', 'Cluster', 'CBF', '44;', 'MKKSS', '13;', 'Ma', '2001;', 'Ma', '2002c'], ['145', '01', '33', '38.08', '30', '33', '17.6', '18.47', '0.76', '8.96', '4.53', 'Cluster', 'CBF', '46;', 'Ma', '2001'], ['146', '01', '33', '38.14', '30', '42', '22.9', '18.66', '0.20', '8.26', '3.92', 'Cluster', 'CBF', '38;', 'Ma', '2001'], ['147', '01', '33', '38.19', '30', '43', '23.9', 'Unknown', 'CS', 'U69'], ['148', '01', '33', '38.63', '30', '46', '10.7', 'Unknown', 'CS', 'U53'], ['149', '01', '33', '39.46', '30', '55', '59.7', 'Cluster', 'CS', 'C5'], ['150', '01', '33', '39.46', '30', '56', '18.0', 'Unknown', 'CS', 'U4'], ['151', '01', '33', '39.49', '30', '48', '48.2', '18.54', '0.48', '0.63', 'Cluster', 'SBGHS', '3;', 'CS', 'C26'], ['152', '01', '33', '39.69', '30', '31', '09.2', '16.44', '0.16', '-0.04', '7.46', '4.27', 'Unknown', 'MKKSS', '14;', 'Ma', '2002c'], ['153', '01', '33', '39.71', '30', '32', '29.2', '18.57', '0.76', '7.12', '3.16', 'Cluster', 'CBF', '43;', 'Ma', '2001'], ['154', '01', '33', '39.94', '30', '38', '26.2', '15.90', '0.30', '0.89', '7.00', '4.05', 'Unknown', 'MKKSS', '15;', 'Ma', '2002c'], ['155', '01', '33', '40.08', '30', '21', '37.2', '19.61', '0.71', 'Cluster', 'CBF', '41;', 'Ma', '2001'], ['156', '01', '33', '40.38', '30', '43', '58.0', '17.20', '0.14', '0.57', '7.22', '3.85', 'Unknown', 'MKKSS', '16;', 'Ma', '2002c'], ['157', '01', '33', '40.56', '30', '49', '04.7', '19.43', '0.36', 'Unknown', 'CS', 'U38'], ['158', '01', '33', '41.14', '30', '25', '50.4', 'Unknown', 'CS', 'H43'], ['159', '01', '33', '41.20', '30', '29', '53.8', '19.15', '0.69', '0.80', 'Unknown', 'CS', 'U125'], ['160', '01', '33', '41.32', '30', '52', '56.8', 'Stellar', 'CS', 'H6'], ['161', '01', '33', '41.54', '30', '42', '44.9', 'Unknown', 'CS', 'U76'], ['162', '01', '33', '41.56', '30', '30', '24.1', 'Unknown', 'CS', 'U124'], ['163', '01', '33', '41.60', '30', '28', '09.2', 'Unknown', 'CS', 'U135'], ['164', '01', '33', '41.60', '30', '41', '43.4', '17.08', '0.38', '1.03', '8.51', '4.77', 'Stellar', 'MKKSS', '17;', 'Ma', '2002c'], ['165', '01', '33', '41.60', '30', '48', '08.5', '18.78', '0.51', 'Cluster', 'SBGHS', '1'], ['166', '01', '33', '41.94', '30', '49', '20.1', '19.43', '1.43', 'Cluster', 'SBGHS', '12'], ['167', '01', '33', '42.00', '30', '26', '53.5', '19.83', '0.52', '0.83', 'Unknown', 'CS', 'U133'], ['168', '01', '33', '42.71', '30', '43', '49.6', '18.13', '0.36', '8.06', '3.99', 'Cluster', 'CBF', '50;', 'Ma', '2001'], ['169', '01', '33', '42.96', '30', '42', '53.0', '17.16', '0.09', '-0.09', '6.82', '3.39', 'Unknown', 'MKKSS', '18;', 'Ma', '2002c'], ['170', '01', '33', '43.02', '30', '44', '40.8', 'Stellar', 'CS', 'H17'], ['171', '01', '33', '43.80', '30', '40', '56.7', '18.59', '0.03', '7.26', '3.31', 'Cluster', 'CBF', '1;', 'Ma', '2001'], ['172', '01', '33', '43.85', '30', '32', '10.4', '17.55', '0.16', '-0.06', '8.06', '4.33', 'Cluster', 'CBF', '47;', 'MKKSS', '19;', 'Ma', '2001;', 'Ma', '2002c'], ['173', '01', '33', '44.10', '30', '26', '50.2', '18.77', '0.48', '0.58', 'Unknown', 'CS', 'U132'], ['174', '01', '33', '44.10', '30', '30', '00.8', '18.26', '0.40', '0.58', 'Unknown', 'CS', 'H35'], ['175', '01', '33', '44.15', '30', '48', '36.0', '19.10', 'Unknown', 'CS', 'U39'], ['176', '01', '33', '44.51', '30', '37', '52.7', '17.52', '-0.10', '-1.06', '8.26', '4.47', 'Unknown', 'MKKSS', '20;', 'CS', 'U94;', 'Ma', '2002c'], ['177', '01', '33', '44.66', '30', '21', '09.4', 'Stellar', 'CS', 'H49'], ['178', '01', '33', '45.10', '30', '47', '46.7', '16.21', '0.78', '1.12', '9.60', '5.99', 'Cluster', 'CBF', '61;', 'MKKSS', '21;', 'CS', 'U49;', 'Hilt', 'E;', 'MD', '24;', 'Ma', '2004a;', 'Ma', '2002c'], ['179', '01', '33', '45.14', '30', '49', '09.2', '19.00', '0.61', '8.81', '4.20', 'Cluster', 'SBGHS', '11;', 'CBF', '64;', 'Ma', '2002b'], ['180', '01', '33', '45.50', '30', '30', '40.7', '18.98', '0.70', '1.12', 'Cluster', 'CS', 'U123'], ['181', '01', '33', '45.80', '30', '27', '17.3', '18.38', '0.51', '0.61', '7.18', '3.22', 'Cluster', 'CBF', '139;', 'CS', 'U131;', 'Ma', '2002b'], ['182', '01', '33', '46.29', '30', '47', '51.0', '18.77', '0.94', '9.28', '4.57', 'Cluster', 'CBF', '62;', 'Ma', '2002b'], ['183', '01', '33', '47.00', '30', '45', '58.8', '18.86', '0.67', '0.18', 'Unknown', 'CS', 'U54'], ['184', '01', '33', '47.00', '30', '46', '36.3', '9.76', 'Cluster', 'CBF', '69;', 'Ma', '2002b;', 'Ma', '2004a'], ['185', '01', '33', '48.07', '30', '54', '51.7', 'Chip', 'Gap', 'CS', 'C11'], ['186', '01', '33', '48.46', '30', '45', '38.7', '18.62', '0.81', '9.11', '4.56', 'Cluster', 'CBF', '52;', 'CS', 'U56;', 'Ma', '2001'], ['187', '01', '33', '48.65', '30', '47', '42.6', '19.42', '0.82', 'Cluster', 'CBF', '65'], ['188', '01', '33', '48.71', '30', '24', '17.0', 'Chip', 'Gap', 'CS', 'U150;', 'CS', 'U153'], ['189', '01', '33', '49.15', '30', '49', '01.5', '19.31', '0.55', 'Cluster', 'CBF', '63'], ['190', '01', '33', '49.36', '30', '47', '12.5', '17.96', '0.60', '7.02', '3.16', 'Cluster', 'CBF', '68;', 'Ma', '2002b'], ['191', '01', '33', '49.62', '30', '34', '25.7', '18.01', '0.80', '8.06', '4.06', 'Cluster', 'CBF', '137;', 'Ma', '2002b'], ['192', '01', '33', '50.19', '30', '34', '18.8', '18.81', '0.85', '8.81', '4.26', 'Cluster', 'CBF', '136;', 'Ma', '2002b'], ['193', '01', '33', '50.27', '30', '31', '11.0', '18.49', '0.92', 'Cluster', 'CBF', '138'], ['194', '01', '33', '50.70', '30', '58', '50.3', '17.58', '0.04', '7.28', '3.69', 'Cluster', 'Hilt', 'J;', 'MD', '28;', 'Ma', '2004b'], ['195', '01', '33', '50.73', '30', '44', '56.2', '18.84', '0.46', '7.81', '3.61', 'Cluster', 'CBF', '51;', 'Ma', '2001'], ['196', '01', '33', '50.85', '30', '28', '59.9', '19.27', '0.52', 'Cluster', 'CBF', '105'], ['197', '01', '33', '50.85', '30', '38', '34.5', '16.39', '0.08', '7.22', '4.26', 'Cluster', 'CBF', '127;', 'Ma', '2002b'], ['198', '01', '33', '50.90', '30', '38', '55.5', '16.76', '0.21', '6.86', '3.70', 'Cluster', 'CBF', '2;', 'Ma', '2001'], ['199', '01', '33', '50.90', '30', '31', '44.8', '17.85', '0.13', '8.01', '4.14', 'Cluster', 'CBF', '4;', 'CS', 'U117;', 'MD', '26;', 'Ma', '2001'], ['200', '01', '33', '50.90', '30', '34', '37.0', 'Unknown', 'CS', 'U112'], ['201', '01', '33', '51.24', '30', '34', '13.2', '18.11', '0.59', '6.96', '3.02', 'Cluster', 'CBF', '133;', 'Ma', '2002b'], ['202', '01', '33', '51.30', '30', '50', '55.8', '18.61', '0.79', '0.50', 'Unknown', 'CS', 'C21'], ['203', '01', '33', '51.31', '30', '34', '37.0', 'Unknown', 'CS', 'U113'], ['204', '01', '33', '51.80', '30', '31', '47.2', '18.62', '0.07', '8.01', '3.76', 'Cluster', 'CBF', '5;', 'Ma', '2001'], ['205', '01', '33', '52.10', '30', '47', '16.2', '18.83', '0.29', 'Unknown', 'CS', 'U48'], ['206', '01', '33', '52.20', '30', '29', '03.8', '17.29', '0.86', '1.12', '9.70', '5.59', 'Cluster', 'CBF', '104;', 'MKKSS', '22;', 'CS', 'H38;', 'Hilt', 'H;', 'MD', '25;', 'Ma', '2004a;', 'Ma', '2002c'], ['207', '01', '33', '52.38', '30', '35', '00.8', '18.68', '0.53', '6.98', '2.98', 'Cluster', 'CBF', '132;', 'Ma', '2002b'], ['208', '01', '33', '52.39', '30', '34', '21.1', '18.68', '0.84', 'Cluster', 'CBF', '134'], ['209', '01', '33', '52.40', '30', '50', '17.1', '19.20', '0.31', '0.70', 'Unknown', 'CS', 'U22'], ['210', '01', '33', '52.67', '30', '48', '10.1', '19.41', '0.47', 'Cluster', 'CBF', '66'], ['211', '01', '33', '53.14', '30', '48', '33.8', 'Unknown', 'CS', 'U40'], ['212', '01', '33', '53.40', '30', '33', '02.8', '18.86', '0.35', '6.62', '2.84', 'Cluster', 'CBF', '8;', 'Ma', '2001'], ['213', '01', '33', '53.43', '30', '57', '18.0', 'Unknown', 'CS', 'H2'], ['214', '01', '33', '53.69', '30', '48', '21.5', '17.45', '0.42', '7.72', '4.13', 'Cluster', 'CBF', '67;', 'Ma', '2002b'], ['215', '01', '33', '54.10', '30', '33', '09.7', '17.33', '-0.07', '0.55', '7.32', '3.89', 'Cluster', 'CBF', '7;', 'MKKSS', '23;', 'Ma', '2001;', 'Ma', '2002c'], ['216', '01', '33', '54.38', '30', '21', '51.9', '18.54', '0.68', '9.01', '4.56', 'Cluster', 'CS', 'U158;', 'MD', '23;', 'Ma', '2002a;', 'Ma', '2004b'], ['217', '01', '33', '54.63', '30', '34', '48.3', '18.83', '1.11', '6.94', '2.86', 'Cluster', 'CBF', '135;', 'Ma', '2002b'], ['218', '01', '33', '54.73', '30', '48', '43.7', 'Cluster', 'BEA', '24;', 'CS', 'U41'], ['219', '01', '33', '54.75', '30', '45', '28.4', '18.12', '0.27', '6.62', '3.00', 'Cluster', 'CBF', '30;', 'Ma', '2001'], ['220', '01', '33', '54.80', '30', '32', '15.8', '17.86', '-0.19', '6.82', '3.07', 'Cluster', 'CBF', '6;', 'Ma', '2001'], ['221', '01', '33', '55.00', '30', '32', '14.5', '17.42', '0.29', '6.62', '3.15', 'Cluster', 'CBF', '3;', 'Ma', '2001'], ['222', '01', '33', '55.18', '30', '47', '58.0', '16.64', '0.28', '0.60', '7.70', '4.44', 'Cluster', 'MKKSS', '24;', 'Hilt', 'D;', 'MD', '27;', 'CS', 'M4;', 'Ma', '2002a;', 'Ma', '2004b;', 'Ma', '2002c'], ['223', '01', '33', '55.32', '30', '37', '34.0', 'Unknown', 'CS', 'U93'], ['224', '01', '33', '55.35', '30', '45', '43.5', 'Unknown', 'CS', 'U63'], ['225', '01', '33', '55.50', '30', '57', '06.3', 'Stellar', 'CS', 'U2'], ['226', '01', '33', '55.87', '30', '29', '34.3', '18.22', '1.06', 'Galaxy', 'CS', 'M12'], ['227', '01', '33', '55.90', '30', '52', '28.7', '19.10', '0.31', '0.18', 'Unknown', 'CS', 'U10'], ['228', '01', '33', '56.18', '30', '38', '39.8', '17.38', '0.92', '6.94', '3.26', 'Cluster', 'CBF', '129;', 'Ma', '2002b'], ['229', '01', '33', '56.21', '30', '45', '51.8', '18.58', '0.63', '8.01', '3.85', 'Cluster', 'CBF', '146;', 'Ma', '2002b'], ['230', '01', '33', '56.41', '30', '29', '28.4', '18.16', '1.59', 'Galaxy', 'CS', 'M11'], ['231', '01', '33', '56.50', '30', '36', '10.6', '18.26', '0.90', '9.30', '5.04', 'Cluster', 'CBF', '131;', 'Ma', '2002b'], ['232', '01', '33', '56.93', '30', '41', '38.4', '18.79', '1.16', 'Cluster', 'CBF', '102'], ['233', '01', '33', '56.93', '30', '49', '26.8', 'Cluster', 'BEA', '18'], ['234', '01', '33', '57.10', '30', '50', '31.5', '18.72', '0.95', '1.14', 'Cluster', 'CS', 'U23'], ['235', '01', '33', '57.10', '30', '48', '03.5', 'Cluster', 'BEA', '23'], ['236', '01', '33', '57.16', '30', '40', '20.7', '18.75', '0.61', 'Cluster', 'CBF', '140'], ['237', '01', '33', '57.28', '30', '39', '15.3', '17.84', '0.65', '9.11', '4.84', 'Cluster', 'CBF', '128;', 'Ma', '2002b'], ['238', '01', '33', '57.35', '30', '41', '28.5', '18.52', '0.75', '6.62', '2.93', 'Cluster', 'CBF', '103;', 'Ma', '2002b'], ['239', '01', '33', '57.40', '30', '52', '17.9', '18.02', '0.25', '0.54', '8.01', '4.07', 'Cluster', 'CS', 'C17;', 'Hilt', 'W;', 'MD', '31;', 'Ma', '2002a;', 'Ma', '2004b'], ['240', '01', '33', '57.66', '30', '41', '32.6', '18.72', '0.74', '8.06', '3.74', 'Cluster', 'CBF', '101;', 'Ma', '2002b'], ['241', '01', '33', '57.84', '30', '35', '31.8', '18.19', '0.64', '0.46', '9.34', '4.97', 'Cluster', 'CBF', '49;', 'MKKSS', '25;', 'Ma', '2001;', 'Ma', '2004a', 'Ma', '2002c'], ['242', '01', '33', '57.85', '30', '49', '04.9', 'Cluster', 'BEA', '20'], ['243', '01', '33', '57.87', '30', '33', '25.7', '17.00', '7.18', '3.92', 'Cluster', 'CBF', '159;', 'Ma', '2002b'], ['244', '01', '33', '57.93', '31', '04', '08.7', '19.39', 'Unknown', 'Hilt', 'O'], ['245', '01', '33', '58.01', '30', '45', '45.2', '17.14', '0.27', '0.02', '8.01', '4.49', 'Cluster', 'CBF', '33;', 'MKKSS', '26;', 'CS', 'H14;', 'MD', '30;', 'Ma', '2001;', 'Ma', '2002c'], ['246', '01', '33', '58.03', '30', '39', '26.2', '17.54', '0.17', '7.24', '3.70', 'Cluster', 'CBF', '26;', 'Ma', '2001'], ['247', '01', '33', '58.10', '30', '38', '15.5', '17.84', '0.67', '9.06', '4.94', 'Cluster', 'CBF', '130;', 'Ma', '2002b'], ['248', '01', '33', '58.41', '30', '39', '14.9', '18.08', '0.27', '8.86', '4.60', 'Cluster', 'CBF', '27;', 'Ma', '2001'], ['249', '01', '33', '58.58', '30', '48', '42.7', 'Cluster', 'BEA', '21'], ['250', '01', '33', '58.86', '30', '34', '43.2', '18.79', '0.42', '8.01', '3.72', 'Cluster', 'CBF', '48;', 'Ma', '2001'], ['251', '01', '33', '58.90', '30', '49', '11.0', 'Cluster', 'BEA', '19'], ['252', '01', '33', '59.07', '30', '50', '05.9', 'Cluster', 'BEA', '31'], ['253', '01', '33', '59.46', '30', '48', '26.7', 'Cluster', 'BEA', '32'], ['254', '01', '33', '59.52', '30', '47', '29.5', 'Cluster', 'BEA', '28'], ['255', '01', '33', '59.52', '30', '45', '49.9', '16.70', '0.08', '6.88', '3.74', 'Cluster', 'CBF', '32;', 'Ma', '2001'], ['256', '01', '33', '59.67', '30', '47', '38.2', 'Cluster', 'BEA', '29'], ['257', '01', '33', '59.74', '30', '41', '24.4', '17.70', '0.45', '6.68', '3.19', 'Cluster', 'CBF', '100;', 'Ma', '2002b'], ['258', '01', '33', '59.84', '30', '39', '45.4', '18.44', '0.98', '8.01', '3.89', 'Cluster', 'CBF', '29;', 'Ma', '2001'], ['259', '01', '33', '59.92', '30', '32', '44.2', 'Unknown', 'CS', 'U114'], ['260', '01', '34', '00.01', '30', '33', '54.3', '16.19', '6.98', '4.01', 'Cluster', 'CBF', '158;', 'Ma', '2002b'], ['261', '01', '34', '00.21', '30', '37', '47.2', '16.14', '0.64', '0.74', '8.96', '5.48', 'Unknown', 'MKKSS', '27;', 'Ma', '2002c'], ['262', '01', '34', '00.27', '30', '48', '36.6', 'Cluster', 'BEA', '22;', 'CS', 'U42'], ['263', '01', '34', '00.44', '30', '51', '01.2', 'Unknown', 'CS', 'U24'], ['264', '01', '34', '00.47', '30', '41', '23.1', '18.15', '0.97', '9.11', '4.76', 'Cluster', 'CBF', '99;', 'Ma', '2002b'], ['265', '01', '34', '00.76', '30', '50', '09.1', 'Cluster', 'BEA', '26'], ['266', '01', '34', '01.03', '30', '46', '58.8', 'Cluster', 'BEA', '30'], ['267', '01', '34', '01.31', '30', '39', '23.5', '18.17', '0.76', '6.60', '3.00', 'Cluster', 'CBF', '120;', 'Ma', '2002b'], ['268', '01', '34', '01.56', '30', '42', '31.0', 'Cluster', 'CS', 'U74'], ['269', '01', '34', '01.60', '30', '42', '31.1', '17.92', '0.24', '0.08', '6.62', '3.02', 'Unknown', 'MKKSS', '28;', 'CS', 'U75;', 'Ma', '2002c'], ['270', '01', '34', '01.68', '30', '49', '43.9', 'Cluster', 'BEA', '25;', 'CS', 'H9'], ['271', '01', '34', '01.75', '30', '32', '25.7', '18.46', '8.51', '4.18', 'Cluster', 'CBF', '160;', 'Ma', '2002b'], ['272', '01', '34', '01.99', '30', '38', '10.9', '18.43', '0.48', '6.62', '2.98', 'Cluster', 'CBF', '121;', 'Ma', '2002b'], ['273', '01', '34', '01.99', '30', '39', '37.8', '16.35', '0.82', '1.08', '9.80', '6.11', 'Cluster', 'CBF', '28;', 'MKKSS', '29;', 'Ma', '2001;', 'Ma', '2004a;', 'Ma', '2002c'], ['274', '01', '34', '02.33', '30', '50', '27.8', 'Cluster', 'BEA', '14'], ['275', '01', '34', '02.48', '30', '40', '40.7', '16.52', '1.04', '1.41', '9.11', '5.42', 'Cluster', 'CBF', '98;', 'MKKSS', '31;', 'Ma', '2002c'], ['276', '01', '34', '02.48', '30', '38', '41.1', '17.14', '0.09', '-0.23', '7.18', '3.85', 'Unknown', 'MKKSS', '30;', 'Ma', '2002c'], ['277', '01', '34', '02.59', '30', '58', '10.3', 'Galaxy', 'CS', 'U1'], ['278', '01', '34', '02.63', '30', '49', '38.6', '17.84', '0.28', '8.36', '4.48', 'Stellar', 'MD', '33;', 'Ma', '2002a;', 'Ma', '2004b'], ['279', '01', '34', '02.77', '30', '48', '36.5', 'Cluster', 'BEA', '13'], ['280', '01', '34', '02.79', '30', '46', '36.8', '17.68', '0.29', '0.75', '7.00', '3.30', 'Unknown', 'MKKSS', '32;', 'Ma', '2002c'], ['281', '01', '34', '02.90', '30', '43', '20.8', '16.40', '0.74', '1.11', '9.21', '5.56', 'Cluster', 'MKKSS', '33;', 'Ma', '2004a;', 'Ma', '2002c'], ['282', '01', '34', '03.09', '30', '45', '35.6', '18.51', '0.43', '9.21', '4.71', 'Cluster', 'CBF', '31;', 'Ma', '2001'], ['283', '01', '34', '03.10', '30', '42', '21.3', 'Unknown', 'CS', 'H20'], ['284', '01', '34', '03.12', '30', '52', '13.9', '16.83', '0.29', '6.98', '3.78', 'Cluster', 'MD', '37;', 'CS', 'M2;', 'Ma', '2002a;', 'Ma', '2004b'], ['285', '01', '34', '03.12', '30', '48', '11.0', 'Cluster', 'BEA', '10'], ['286', '01', '34', '03.14', '30', '46', '55.2', 'Unknown', 'CS', 'U47'], ['287', '01', '34', '03.34', '30', '48', '28.0', 'Cluster', 'BEA', '15'], ['288', '01', '34', '03.83', '30', '29', '33.5', '18.56', '0.46', '8.51', '4.20', 'Unknown', 'CS', 'C35;', 'Hilt', 'R;', 'MD', '29;', 'Ma', '2002a;', 'Ma', '2004b'], ['289', '01', '34', '03.90', '30', '47', '29.1', '17.54', '0.58', '7.06', '3.39', 'Cluster', 'BEA', '7;', 'MD', '34;', 'CS', 'M5;', 'Ma', '2002a;', 'Ma', '2004b'], ['290', '01', '34', '04.32', '30', '39', '22.8', '17.97', '0.10', '0.62', '7.10', '3.20', 'Unknown', 'MKKSS', '34;', 'Ma', '2002c'], ['291', '01', '34', '04.47', '30', '36', '56.1', 'Unknown', 'CS', 'U98'], ['292', '01', '34', '04.79', '30', '49', '17.9', 'Cluster', 'BEA', '27'], ['293', '01', '34', '04.80', '30', '47', '39.1', 'Stellar', 'BEA', '17'], ['294', '01', '34', '05.08', '30', '49', '43.1', 'Cluster', 'BEA', '5'], ['295', '01', '34', '05.12', '30', '40', '36.7', 'Unknown', 'CS', 'U85'], ['296', '01', '34', '05.24', '30', '57', '01.1', 'Cluster', 'CS', 'C2'], ['297', '01', '34', '05.40', '30', '47', '50.9', 'Stellar', 'BEA', '12'], ['298', '01', '34', '05.85', '30', '49', '56.9', 'Cluster', 'BEA', '4;', 'CS', 'H8'], ['299', '01', '34', '06.20', '30', '40', '12.6', '17.05', '0.24', '0.52', 'Unknown', 'CS', 'U84'], ['300', '01', '34', '06.30', '30', '37', '26.1', '17.95', '0.98', '9.16', '4.97', 'Cluster', 'CBF', '118;', 'Ma', '2002b;', 'Ma', '2004a'], ['301', '01', '34', '06.40', '30', '37', '30.5', '18.25', '0.94', '9.16', '4.89', 'Cluster', 'CBF', '119;', 'Ma', '2002b'], ['302', '01', '34', '06.59', '30', '50', '18.3', 'Cluster', 'BEA', '3'], ['303', '01', '34', '06.68', '30', '48', '56.2', 'Cluster', 'BEA', '8'], ['304', '01', '34', '06.77', '30', '48', '32.8', 'Cluster', 'BEA', '9'], ['305', '01', '34', '06.79', '30', '47', '27.0', 'Cluster', 'BEA', '16'], ['306', '01', '34', '06.98', '30', '32', '00.1', 'Unknown', 'CS', 'U118'], ['307', '01', '34', '07.02', '30', '50', '57.4', 'Cluster', 'BEA', '1'], ['308', '01', '34', '07.03', '30', '49', '24.4', 'Cluster', 'BEA', '33'], ['309', '01', '34', '07.18', '30', '35', '23.1', '18.07', '0.01', '0.08', '8.31', '4.08', 'Stellar', 'MKKSS', '35;', 'Ma', '2002c'], ['310', '01', '34', '07.28', '30', '38', '29.5', '18.36', '0.80', '8.01', '3.81', 'Cluster', 'CBF', '117;', 'Ma', '2002b'], ['311', '01', '34', '07.37', '30', '47', '41.6', 'Cluster', 'BEA', '6'], ['312', '01', '34', '07.51', '30', '50', '11.1', 'Cluster', 'BEA', '2'], ['313', '01', '34', '07.73', '30', '52', '18.1', '16.84', '0.38', '6.96', '3.75', 'Unknown', 'MD', '40;', 'CS', 'M1;', 'Ma', '2002a;', 'Ma', '2004b'], ['314', '01', '34', '07.78', '30', '51', '41.4', 'Stellar', 'CS', 'U21'], ['315', '01', '34', '07.79', '30', '31', '21.2', 'Stellar', 'CS', 'U121'], ['316', '01', '34', '08.04', '30', '38', '38.2', '16.39', '0.95', '1.21', '10.00', '6.27', 'Cluster', 'CBF', '116;', 'MKKSS', '36;', 'Ma', '2002c'], ['317', '01', '34', '08.08', '30', '31', '18.7', 'Unknown', 'CS', 'U119'], ['318', '01', '34', '08.10', '30', '53', '32.1', 'Stellar', 'CS', 'U11'], ['319', '01', '34', '08.22', '30', '34', '05.0', 'Stellar', 'CS', 'H31'], ['320', '01', '34', '08.53', '30', '39', '02.4', '16.27', '0.10', '0.37', '6.66', '3.93', 'Cluster', 'CBF', '141;', 'MKKSS', '37;', 'Ma', '2002b;', 'Ma', '2002c'], ['321', '01', '34', '08.63', '30', '39', '22.8', '17.34', '0.65', '8.31', '4.59', 'Cluster', 'CBF', '122;', 'Ma', '2002b'], ['322', '01', '34', '08.70', '30', '42', '55.3', '18.79', '0.66', '0.64', '8.36', '3.96', 'Cluster', 'CBF', '152;', 'CS', 'U73;', 'Ma', '2002b'], ['323', '01', '34', '08.76', '30', '48', '16.1', 'Cluster', 'BEA', '11'], ['324', '01', '34', '08.77', '30', '30', '57.0', 'Stellar', 'CS', 'H34'], ['325', '01', '34', '08.96', '30', '36', '33.8', '17.85', '0.13', '-0.07', '6.88', '3.14', 'Unknown', 'MKKSS', '38;', 'CS', 'H30;', 'MD', '35;', 'Ma', '2002a;', 'Ma', '2004b;', 'Ma', '2002c'], ['326', '01', '34', '09.36', '30', '47', '01.8', 'Unknown', 'CS', 'H13'], ['327', '01', '34', '09.71', '30', '21', '30.0', '18.42', '0.51', '6.76', '2.98', 'Cluster', 'CBF', '147;', 'CS', 'U159;', 'Ma', '2002b'], ['328', '01', '34', '09.78', '30', '52', '06.1', 'Cluster', 'CS', 'U20'], ['329', '01', '34', '10.09', '30', '45', '29.4', '17.48', '-0.39', '0.01', '6.96', '3.35', 'Cluster', 'MKKSS', '39;', 'CS', 'U62;', 'MD', '39;', 'Ma', '2002a;', 'Ma', '2004b;', 'Ma', '2002c'], ['330', '01', '34', '10.24', '30', '55', '26.6', 'Unknown', 'CS', 'U3'], ['331', '01', '34', '10.66', '30', '45', '48.9', '16.07', '0.12', '0.38', '7.16', '4.20', 'Unknown', 'MKKSS', '40;', 'Ma', '2002c'], ['332', '01', '34', '10.67', '30', '35', '16.8', '18.31', '0.79', 'Unknown', 'CS', 'C32'], ['333', '01', '34', '11.00', '30', '40', '30.1', '17.77', '0.31', '0.77', '8.81', '4.77', 'Cluster', 'MKKSS', '41;', 'CS', 'U83;', 'MD', '38;', 'Ma', '2002a;', 'Ma', '2004b;', 'Ma', '2002c'], ['334', '01', '34', '11.29', '30', '24', '13.2', 'Chip', 'Gap', 'CS', 'U155'], ['335', '01', '34', '11.35', '30', '41', '27.9', '18.12', '-0.20', '8.56', '4.37', 'Cluster', 'MD', '41;', 'Ma', '2002a;', 'Ma', '2004b'], ['336', '01', '34', '11.36', '30', '41', '27.9', '18.15', '0.43', '0.80', '8.56', '4.37', 'Unknown', 'MKKSS', '42;', 'CS', 'U78;', 'Ma', '2002c'], ['337', '01', '34', '11.55', '30', '34', '52.5', '16.61', '0.32', '0.67', '8.31', '4.81', 'Unknown', 'MKKSS', '43;', 'Ma', '2002c'], ['338', '01', '34', '11.82', '30', '42', '19.9', '18.61', '8.91', '4.46', 'Cluster', 'CBF', '153;', 'Ma', '2002b'], ['339', '01', '34', '11.86', '30', '24', '10.1', 'Chip', 'Gap', 'CS', 'U154'], ['340', '01', '34', '12.68', '30', '47', '05.3', 'Stellar', 'CS', 'H12'], ['341', '01', '34', '13.60', '30', '34', '48.5', '17.76', '0.69', 'Unknown', 'CS', 'U105'], ['342', '01', '34', '13.69', '30', '43', '18.4', 'Unknown', 'CS', 'U70'], ['343', '01', '34', '13.70', '30', '35', '22.2', '18.31', '0.47', 'Unknown', 'CS', 'U104'], ['344', '01', '34', '13.80', '30', '45', '31.5', '17.77', '0.35', '9.11', '4.93', 'Unknown', 'CS', 'U61;', 'MD', '44;', 'Ma', '2002a;', 'Ma', '2004b'], ['345', '01', '34', '13.84', '30', '19', '47.3', '18.31', '0.31', '8.86', '4.54', 'Cluster', 'MD', '32;', 'Ma', '2002a;', 'Ma', '2004b'], ['346', '01', '34', '13.99', '30', '27', '59.0', 'Cluster', 'CS', 'U130'], ['347', '01', '34', '14.02', '30', '39', '29.5', '18.28', '0.47', '1.12', '8.01', '3.95', 'Cluster', 'CBF', '56;', 'CBF', '156;', 'CS', 'U89;', 'Ma', '2001;', 'Ma', '2002b'], ['348', '01', '34', '14.14', '30', '52', '59.8', 'Unknown', 'CS', 'U12'], ['349', '01', '34', '14.19', '30', '36', '12.1', '18.23', '0.55', 'Unknown', 'CS', 'U99'], ['350', '01', '34', '14.20', '30', '39', '58.4', '18.19', '0.27', '0.73', '8.96', '4.68', 'Cluster', 'CBF', '55;', 'MKKSS', '44;', 'MD', '42;CS', 'U82;', 'Ma', '2001;', 'Ma', '2002c'], ['351', '01', '34', '14.65', '30', '32', '35.0', '18.16', '0.20', '0.59', '8.56', '4.37', 'Cluster', 'MKKSS', '45;', 'CS', 'C33;', 'MD', '36;', 'Ma', '2002a;', 'Ma', '2004b;', 'Ma', '2002c'], ['352', '01', '34', '15.02', '30', '53', '33.9', 'Unknown', 'CS', 'H4'], ['353', '01', '34', '15.04', '30', '41', '19.2', '17.53', '0.35', '0.38', '6.96', '3.34', 'Cluster', 'CBF', '155;', 'MKKSS', '46;', 'CS', 'U79;', 'Ma', '2002b;', 'Ma', '2002c'], ['354', '01', '34', '15.51', '30', '50', '01.7', 'Unknown', 'CS', 'U29'], ['355', '01', '34', '15.51', '30', '42', '11.5', '17.92', '8.51', '4.60', 'Cluster', 'CBF', '154;', 'CS', 'H19;', 'Ma', '2002b'], ['356', '01', '34', '15.78', '30', '27', '45.7', 'Galaxy', 'CS', 'U147'], ['357', '01', '34', '16.10', '30', '45', '03.9', 'Unknown', 'CS', 'U60'], ['358', '01', '34', '16.37', '30', '47', '43.0', 'Cluster', 'CS', 'U46'], ['359', '01', '34', '16.38', '30', '37', '49.1', '17.72', '0.14', '7.81', '4.09', 'Cluster', 'CBF', '34;', 'Ma', '2001'], ['360', '01', '34', '16.57', '30', '40', '29.0', '18.98', '8.96', '4.26', 'Cluster', 'CBF', '157;', 'Ma', '2002b'], ['361', '01', '34', '17.54', '30', '42', '36.7', '19.67', '1.02', '7.48', '3.02', 'Cluster', 'CBF', '9;', 'Ma', '2001'], ['362', '01', '34', '17.64', '30', '28', '24.0', 'Galaxy', 'CS', 'U146'], ['363', '01', '34', '17.87', '30', '35', '34.1', '19.00', 'Stellar', 'CS', 'U103'], ['364', '01', '34', '18.19', '30', '52', '30.0', 'Unknown', 'CS', 'U13'], ['365', '01', '34', '18.21', '30', '53', '47.4', 'Unknown', 'CS', 'H3'], ['366', '01', '34', '18.26', '30', '22', '02.5', 'Unknown', 'CS', 'H48'], ['367', '01', '34', '18.59', '30', '44', '47.8', '18.81', '10.30', '5.57', 'Cluster', 'CBF', '11;', 'Ma', '2001;', 'Ma', '2004a'], ['368', '01', '34', '18.69', '30', '31', '37.6', '16.75', '0.27', '0.31', '7.38', '4.18', 'Unknown', 'MKKSS', '47;', 'Ma', '2002c'], ['369', '01', '34', '19.29', '30', '23', '33.0', 'Stellar', 'CS', 'H45'], ['370', '01', '34', '19.44', '30', '46', '21.2', '16.78', '0.26', '0.60', '8.06', '4.59', 'Unknown', 'MKKSS', '48;', 'Ma', '2002c'], ['371', '01', '34', '19.89', '30', '36', '12.7', '17.16', '0.19', '0.37', '7.81', '4.33', 'Cluster', 'CBF', '35;', 'MKKSS', '49;', 'Ma', '2001;', 'Ma', '2002c'], ['372', '01', '34', '20.17', '30', '39', '33.3', '18.55', '0.48', '0.44', '6.96', '3.02', 'Cluster', 'CBF', '58;', 'MKKSS', '50;', 'CS', 'U91;', 'Ma', '2001;', 'Ma', '2002c'], ['373', '01', '34', '20.78', '30', '38', '33.1', 'Unknown', 'CS', 'H23'], ['374', '01', '34', '20.95', '30', '22', '57.6', 'Galaxy', 'CS', 'U145'], ['375', '01', '34', '21.43', '30', '39', '40.2', '19.38', '0.62', '10.28', '5.34', 'Cluster', 'CBF', '57;', 'Ma', '2001'], ['376', '01', '34', '21.59', '30', '36', '45.6', '18.36', '0.42', '0.55', '7.81', '3.87', 'Cluster', 'SBGHS', '23;', 'CBF', '36;', 'Ma', '2001'], ['377', '01', '34', '21.99', '30', '44', '39.1', '18.77', '-0.08', '7.32', '3.35', 'Cluster', 'CBF', '10;', 'CS', 'U59;', 'Ma', '2001'], ['378', '01', '34', '22.23', '30', '47', '11.0', 'Unknown', 'CS', 'U45'], ['379', '01', '34', '22.24', '30', '30', '42.6', 'Unknown', 'CS', 'U120'], ['380', '01', '34', '22.81', '30', '54', '26.1', 'Chip', 'Gap', 'CS', 'U9'], ['381', '01', '34', '22.92', '30', '47', '33.7', 'Stellar', 'CS', 'H11'], ['382', '01', '34', '23.05', '30', '37', '39.8', '18.75', '0.68', 'Cluster', 'SBGHS', '22'], ['383', '01', '34', '23.13', '30', '43', '46.4', '19.01', '0.30', '6.94', '2.79', 'Cluster', 'CBF', '12;', 'Ma', '2001'], ['384', '01', '34', '23.52', '30', '25', '58.2', '17.96', '0.16', '8.01', '4.14', 'Cluster', 'CS', 'U148;', 'Hilt', 'G;', 'MD', '43;', 'Ma', '2002a;', 'Ma', '2004b'], ['385', '01', '34', '24.53', '30', '53', '05.4', '18.19', '0.80', '0.99', '10.13', '5.65', 'Cluster', 'CS', 'C18;', 'MD', '49;', 'Ma', '2002a;', 'Ma', '2004b'], ['386', '01', '34', '25.00', '30', '51', '33.3', '19.65', '0.47', '0.06', 'Unknown', 'CS', 'U19'], ['387', '01', '34', '25.40', '30', '41', '28.4', '17.49', '0.66', '0.79', '9.01', '4.99', 'Cluster', 'MKKSS', '51;', 'CS', 'H21;', 'Hilt', 'F;', 'MD', '45;', 'Ma', '2002a;', 'Ma', '2004b;', 'Ma', '2004a;', 'Ma', '2002c'], ['388', '01', '34', '25.51', '30', '36', '56.8', '18.17', '0.42', '0.85', 'Cluster', 'SBGHS', '20;', 'CS', 'U100'], ['389', '01', '34', '26.32', '30', '37', '23.3', '18.10', '0.72', 'Cluster', 'SBGHS', '21'], ['390', '01', '34', '26.39', '30', '47', '13.8', 'Unknown', 'CS', 'U44'], ['391', '01', '34', '26.88', '30', '41', '46.2', '18.92', '0.66', 'Unknown', 'CS', 'U80'], ['392', '01', '34', '27.10', '30', '36', '42.3', '17.69', '0.44', '0.69', '8.91', '4.89', 'Cluster', 'SBGHS', '19;', 'CS', 'U101;', 'MD', '46;', 'Ma', '2002a;', 'Ma', '2004b'], ['393', '01', '34', '27.61', '30', '55', '53.3', '19.74', 'Cluster', 'CS', 'C4'], ['394', '01', '34', '28.14', '30', '42', '48.2', '18.86', '0.35', 'Unknown', 'CS', 'U72'], ['395', '01', '34', '28.19', '30', '36', '17.1', '15.95', '0.46', 'Cluster', 'SBGHS', '18;', 'Hilt', 'C'], ['396', '01', '34', '28.50', '30', '37', '56.1', '18.59', '0.47', 'Cluster', 'SBGHS', '24'], ['397', '01', '34', '28.50', '30', '53', '35.9', '19.16', '0.63', '0.63', 'Galaxy', 'CS', 'C15'], ['398', '01', '34', '28.71', '30', '21', '44.0', 'Unknown', 'CS', 'U160'], ['399', '01', '34', '29.07', '30', '38', '05.4', '18.81', '0.86', '8.61', '4.10', 'Cluster', 'SBGHS', '14;', 'CBF', '71;', 'Ma', '2002b'], ['400', '01', '34', '29.10', '30', '53', '20.6', '18.35', '0.71', '0.69', '8.81', '4.49', 'Cluster', 'CS', 'C16;', 'MD', '50;', 'Ma', '2002a;', 'Ma', '2004b'], ['401', '01', '34', '29.29', '30', '56', '06.0', '18.27', '0.87', 'Cluster', 'CS', 'C3'], ['402', '01', '34', '30.20', '30', '38', '13.0', '17.19', '0.77', '1.01', 'Cluster', 'SBGHS', '13;', 'CBF', '70;', 'Hilt', 'Q;', 'MD', '47;', 'CS', 'M9'], ['403', '01', '34', '30.50', '30', '36', '48.2', '19.34', '0.49', '0.46', 'Unknown', 'CS', 'U102'], ['404', '01', '34', '31.00', '30', '57', '57.5', 'Stellar', 'CS', 'H1'], ['405', '01', '34', '31.07', '30', '37', '41.1', '19.50', '0.09', 'Cluster', 'CBF', '80'], ['406', '01', '34', '31.74', '30', '39', '14.8', '19.43', '0.57', '9.11', '4.23', 'Cluster', 'CBF', '73;', 'Ma', '2002b'], ['407', '01', '34', '32.29', '30', '55', '09.9', '19.77', '0.36', 'Unknown', 'CS', 'U8'], ['408', '01', '34', '32.78', '30', '54', '23.6', 'Chip', 'Gap', 'CS', 'C12'], ['409', '01', '34', '32.90', '30', '38', '12.0', '18.99', '1.08', '9.11', '4.44', 'Cluster', 'SBGHS', '16;', 'CBF', '79;', 'Ma', '2002b'], ['410', '01', '34', '33.09', '30', '37', '36.3', '18.23', '0.09', '6.80', '2.99', 'Cluster', 'SBGHS', '17;', 'CBF', '78;', 'Ma', '2002b'], ['411', '01', '34', '33.12', '30', '38', '14.2', '19.46', '0.58', '8.76', '4.05', 'Cluster', 'SBGHS', '15;', 'CBF', '76;', 'Ma', '2002b'], ['412', '01', '34', '33.19', '30', '38', '26.6', '19.53', '1.06', '8.76', '4.05', 'Cluster', 'CBF', '75;', 'Ma', '2002b'], ['413', '01', '34', '33.73', '30', '39', '15.7', '18.32', '0.30', '0.56', '9.11', '4.76', 'Cluster', 'CBF', '72;', 'MD', '48;', 'CS', 'M8;', 'Ma', '2002b'], ['414', '01', '34', '34.42', '30', '42', '43.2', 'Unknown', 'CS', 'U71'], ['415', '01', '34', '35.16', '30', '44', '59.5', 'Stellar', 'CS', 'H15'], ['416', '01', '34', '35.30', '30', '38', '30.1', '18.78', '1.06', '9.32', '4.72', 'Cluster', 'CBF', '74;', 'CS', 'H24;', 'Ma', '2002b;', 'Ma', '2004a'], ['417', '01', '34', '36.92', '30', '03', '47.6', 'Unknown', 'CS', 'U139'], ['418', '01', '34', '38.39', '30', '54', '49.3', '16.83', '1.09', '10.14', '6.20', 'Galaxy', 'CS', 'C13;', 'Hilt', 'N;', 'MD', '53;', 'Ma', '2002a;', 'Ma', '2004b'], ['419', '01', '34', '38.90', '30', '38', '51.8', '18.78', '0.44', '9.01', '4.60', 'Cluster', 'CBF', '77;', 'Ma', '2002b'], ['420', '01', '34', '40.41', '30', '46', '01.3', '15.85', '0.81', '6.94', '4.01', 'Cluster', 'CBF', '142;', 'Ma', '2002b'], ['421', '01', '34', '40.66', '30', '49', '47.3', 'Cluster', 'CS', 'U27'], ['422', '01', '34', '40.72', '30', '53', '02.0', '19.45', '0.42', '1.03', '6.94', '2.65', 'Cluster', 'CBF', '83;', 'CS', 'U14;', 'Ma', '2002b'], ['423', '01', '34', '41.20', '30', '49', '52.7', '17.90', '0.25', '0.36', 'Stellar', 'CS', 'U30'], ['424', '01', '34', '41.65', '30', '46', '38.8', '19.10', '0.52', 'Unknown', 'CS', 'U57'], ['425', '01', '34', '42.80', '30', '49', '19.2', '18.93', '0.71', '0.94', 'Cluster', 'CS', 'U28'], ['426', '01', '34', '43.19', '30', '52', '19.1', '19.88', '0.48', 'Cluster', 'CBF', '82'], ['427', '01', '34', '43.70', '30', '47', '37.9', '17.20', '0.43', '0.72', '8.76', '4.91', 'Cluster', 'CS', 'C27;', 'Hilt', 'B;', 'MD', '54;', 'Ma', '2002a;', 'Ma', '2004b'], ['428', '01', '34', '44.20', '30', '52', '18.9', '17.64', '0.83', '1.00', '9.95', '5.68', 'Cluster', 'CBF', '81;', 'CS', 'C20;', 'Hilt', 'M;', 'MD', '55;', 'Ma', '2004a'], ['429', '01', '34', '45.09', '30', '50', '33.5', 'Cluster', 'CS', 'U25'], ['430', '01', '34', '45.59', '30', '44', '23.0', 'Chip', 'Gap', 'CS', 'C30'], ['431', '01', '34', '45.70', '30', '52', '26.9', 'Unknown', 'CS', 'C19'], ['432', '01', '34', '45.91', '30', '53', '04.4', '19.70', '0.55', '6.86', '2.31', 'Cluster', 'CBF', '84;', 'Ma', '2002b'], ['433', '01', '34', '45.99', '30', '50', '50.4', 'Stellar', 'CS', 'U31'], ['434', '01', '34', '46.51', '30', '44', '30.8', 'Stellar', 'CS', 'C29'], ['435', '01', '34', '46.68', '30', '49', '25.0', 'Stellar', 'CS', 'U34'], ['436', '01', '34', '46.80', '30', '49', '16.1', '18.94', '0.40', '0.62', 'Cluster', 'CS', 'U26'], ['437', '01', '34', '47.53', '30', '47', '29.0', '18.94', '0.44', 'Stellar', 'CS', 'U43'], ['438', '01', '34', '49.62', '30', '21', '55.5', '16.11', '0.81', '9.26', '5.75', 'Cluster', 'CS', 'C39;', 'MD', '52;', 'Ma', '2002a;', 'Ma', '2004b'], ['439', '01', '34', '50.10', '30', '47', '04.1', '16.55', '0.26', '0.57', '8.06', '4.69', 'Cluster', 'Hilt', 'A;', 'MD', '56;', 'CS', 'M6;', 'Ma', '2002a;', 'Ma', '2004b'], ['440', '01', '34', '51.16', '30', '54', '48.7', 'Chip', 'Gap', 'CS', 'C14'], ['441', '01', '34', '52.24', '30', '50', '05.6', 'Cluster', 'CS', 'U32'], ['442', '01', '34', '52.90', '30', '10', '51.2', 'Galaxy', 'MD', '51'], ['443', '01', '34', '53.17', '30', '51', '47.8', 'Cluster', 'CS', 'U15;', 'CS', 'U17'], ['444', '01', '34', '56.88', '30', '52', '35.0', 'Unknown', 'CS', 'U16'], ['445', '01', '34', '58.32', '30', '31', '10.5', 'Unknown', 'CS', 'U122'], ['446', '01', '35', '01.56', '30', '51', '27.0', 'Cluster', 'CS', 'U18'], ['447', '01', '35', '04.69', '30', '46', '10.6', 'Cluster', 'CS', 'U58'], ['448', '01', '35', '14.01', '30', '52', '32.9', '18.01', '0.60', 'Galaxy', 'CS', 'U90'], ['449', '01', '35', '18.25', '30', '49', '53.9', 'Cluster', 'CS', 'C22'], ['450', '01', '35', '45.70', '30', '26', '51.4', '17.20', '0.82', '10.02', '5.91', 'Galaxy', 'MD', '57;', 'Ma', '2002a;', 'Ma', '2004b'], ['451', '01', '36', '05.40', '30', '58', '19.7', 'Galaxy', 'MD', '58']]\n"
          ]
        }
      ],
      "source": [
        "print(obj)"
      ]
    },
    {
      "cell_type": "code",
      "execution_count": null,
      "metadata": {
        "id": "oBp6CMV4eE2E"
      },
      "outputs": [],
      "source": [
        "labeled = []\n",
        "counter = 1\n",
        "for i in obj:\n",
        "  for j in i:\n",
        "    if j in ['Unknown', 'Stellar', 'Cluster', 'Galaxy', 'Chip']:\n",
        "      labeled.append('{' + str(counter) + '.' + j + '}')\n",
        "  counter += 1"
      ]
    },
    {
      "cell_type": "code",
      "execution_count": null,
      "metadata": {
        "colab": {
          "base_uri": "https://localhost:8080/"
        },
        "id": "_bhx_CZofgg-",
        "outputId": "d8dfa1dd-a02d-48ad-a48b-fb7d57c8ab3e"
      },
      "outputs": [
        {
          "name": "stdout",
          "output_type": "stream",
          "text": [
            "['{1.Unknown}', '{2.Stellar}', '{3.Cluster}', '{4.Unknown}', '{5.Galaxy}', '{6.Cluster}', '{7.Unknown}', '{8.Unknown}', '{9.Cluster}', '{10.Cluster}', '{11.Unknown}', '{12.Stellar}', '{13.Stellar}', '{14.Stellar}', '{15.Cluster}', '{16.Cluster}', '{17.Unknown}', '{18.Unknown}', '{19.Stellar}', '{20.Unknown}', '{21.Unknown}', '{22.Unknown}', '{23.Cluster}', '{24.Stellar}', '{25.Stellar}', '{26.Cluster}', '{27.Stellar}', '{28.Cluster}', '{29.Cluster}', '{30.Unknown}', '{31.Unknown}', '{32.Cluster}', '{33.Unknown}', '{34.Cluster}', '{35.Cluster}', '{36.Unknown}', '{37.Unknown}', '{38.Unknown}', '{39.Stellar}', '{40.Cluster}', '{41.Cluster}', '{42.Cluster}', '{43.Galaxy}', '{44.Cluster}', '{45.Cluster}', '{46.Cluster}', '{47.Cluster}', '{48.Unknown}', '{49.Cluster}', '{50.Galaxy}', '{51.Unknown}', '{52.Cluster}', '{53.Cluster}', '{54.Cluster}', '{55.Unknown}', '{56.Unknown}', '{57.Galaxy}', '{58.Unknown}', '{59.Unknown}', '{60.Stellar}', '{61.Unknown}', '{62.Stellar}', '{63.Unknown}', '{64.Galaxy}', '{65.Cluster}', '{66.Cluster}', '{67.Cluster}', '{68.Cluster}', '{69.Stellar}', '{70.Cluster}', '{71.Unknown}', '{72.Unknown}', '{73.Galaxy}', '{74.Cluster}', '{75.Cluster}', '{76.Cluster}', '{77.Cluster}', '{78.Cluster}', '{79.Unknown}', '{80.Unknown}', '{81.Cluster}', '{82.Unknown}', '{83.Cluster}', '{84.Unknown}', '{85.Cluster}', '{86.Cluster}', '{87.Cluster}', '{88.Cluster}', '{89.Unknown}', '{90.Cluster}', '{91.Cluster}', '{92.Unknown}', '{93.Cluster}', '{94.Cluster}', '{95.Cluster}', '{96.Unknown}', '{97.Unknown}', '{98.Unknown}', '{99.Stellar}', '{100.Cluster}', '{101.Cluster}', '{102.Cluster}', '{103.Cluster}', '{104.Cluster}', '{105.Cluster}', '{106.Cluster}', '{107.Unknown}', '{108.Chip}', '{109.Cluster}', '{110.Cluster}', '{111.Chip}', '{112.Unknown}', '{113.Cluster}', '{114.Cluster}', '{115.Cluster}', '{116.Cluster}', '{117.Cluster}', '{118.Cluster}', '{119.Cluster}', '{120.Cluster}', '{121.Cluster}', '{122.Cluster}', '{123.Cluster}', '{124.Cluster}', '{125.Unknown}', '{126.Cluster}', '{127.Cluster}', '{128.Unknown}', '{129.Unknown}', '{130.Cluster}', '{131.Cluster}', '{132.Cluster}', '{133.Stellar}', '{134.Cluster}', '{135.Stellar}', '{136.Unknown}', '{137.Unknown}', '{138.Cluster}', '{139.Unknown}', '{140.Cluster}', '{141.Unknown}', '{142.Cluster}', '{143.Unknown}', '{144.Cluster}', '{145.Cluster}', '{146.Cluster}', '{147.Unknown}', '{148.Unknown}', '{149.Cluster}', '{150.Unknown}', '{151.Cluster}', '{152.Unknown}', '{153.Cluster}', '{154.Unknown}', '{155.Cluster}', '{156.Unknown}', '{157.Unknown}', '{158.Unknown}', '{159.Unknown}', '{160.Stellar}', '{161.Unknown}', '{162.Unknown}', '{163.Unknown}', '{164.Stellar}', '{165.Cluster}', '{166.Cluster}', '{167.Unknown}', '{168.Cluster}', '{169.Unknown}', '{170.Stellar}', '{171.Cluster}', '{172.Cluster}', '{173.Unknown}', '{174.Unknown}', '{175.Unknown}', '{176.Unknown}', '{177.Stellar}', '{178.Cluster}', '{179.Cluster}', '{180.Cluster}', '{181.Cluster}', '{182.Cluster}', '{183.Unknown}', '{184.Cluster}', '{185.Chip}', '{186.Cluster}', '{187.Cluster}', '{188.Chip}', '{189.Cluster}', '{190.Cluster}', '{191.Cluster}', '{192.Cluster}', '{193.Cluster}', '{194.Cluster}', '{195.Cluster}', '{196.Cluster}', '{197.Cluster}', '{198.Cluster}', '{199.Cluster}', '{200.Unknown}', '{201.Cluster}', '{202.Unknown}', '{203.Unknown}', '{204.Cluster}', '{205.Unknown}', '{206.Cluster}', '{207.Cluster}', '{208.Cluster}', '{209.Unknown}', '{210.Cluster}', '{211.Unknown}', '{212.Cluster}', '{213.Unknown}', '{214.Cluster}', '{215.Cluster}', '{216.Cluster}', '{217.Cluster}', '{218.Cluster}', '{219.Cluster}', '{220.Cluster}', '{221.Cluster}', '{222.Cluster}', '{223.Unknown}', '{224.Unknown}', '{225.Stellar}', '{226.Galaxy}', '{227.Unknown}', '{228.Cluster}', '{229.Cluster}', '{230.Galaxy}', '{231.Cluster}', '{232.Cluster}', '{233.Cluster}', '{234.Cluster}', '{235.Cluster}', '{236.Cluster}', '{237.Cluster}', '{238.Cluster}', '{239.Cluster}', '{240.Cluster}', '{241.Cluster}', '{242.Cluster}', '{243.Cluster}', '{244.Unknown}', '{245.Cluster}', '{246.Cluster}', '{247.Cluster}', '{248.Cluster}', '{249.Cluster}', '{250.Cluster}', '{251.Cluster}', '{252.Cluster}', '{253.Cluster}', '{254.Cluster}', '{255.Cluster}', '{256.Cluster}', '{257.Cluster}', '{258.Cluster}', '{259.Unknown}', '{260.Cluster}', '{261.Unknown}', '{262.Cluster}', '{263.Unknown}', '{264.Cluster}', '{265.Cluster}', '{266.Cluster}', '{267.Cluster}', '{268.Cluster}', '{269.Unknown}', '{270.Cluster}', '{271.Cluster}', '{272.Cluster}', '{273.Cluster}', '{274.Cluster}', '{275.Cluster}', '{276.Unknown}', '{277.Galaxy}', '{278.Stellar}', '{279.Cluster}', '{280.Unknown}', '{281.Cluster}', '{282.Cluster}', '{283.Unknown}', '{284.Cluster}', '{285.Cluster}', '{286.Unknown}', '{287.Cluster}', '{288.Unknown}', '{289.Cluster}', '{290.Unknown}', '{291.Unknown}', '{292.Cluster}', '{293.Stellar}', '{294.Cluster}', '{295.Unknown}', '{296.Cluster}', '{297.Stellar}', '{298.Cluster}', '{299.Unknown}', '{300.Cluster}', '{301.Cluster}', '{302.Cluster}', '{303.Cluster}', '{304.Cluster}', '{305.Cluster}', '{306.Unknown}', '{307.Cluster}', '{308.Cluster}', '{309.Stellar}', '{310.Cluster}', '{311.Cluster}', '{312.Cluster}', '{313.Unknown}', '{314.Stellar}', '{315.Stellar}', '{316.Cluster}', '{317.Unknown}', '{318.Stellar}', '{319.Stellar}', '{320.Cluster}', '{321.Cluster}', '{322.Cluster}', '{323.Cluster}', '{324.Stellar}', '{325.Unknown}', '{326.Unknown}', '{327.Cluster}', '{328.Cluster}', '{329.Cluster}', '{330.Unknown}', '{331.Unknown}', '{332.Unknown}', '{333.Cluster}', '{334.Chip}', '{335.Cluster}', '{336.Unknown}', '{337.Unknown}', '{338.Cluster}', '{339.Chip}', '{340.Stellar}', '{341.Unknown}', '{342.Unknown}', '{343.Unknown}', '{344.Unknown}', '{345.Cluster}', '{346.Cluster}', '{347.Cluster}', '{348.Unknown}', '{349.Unknown}', '{350.Cluster}', '{351.Cluster}', '{352.Unknown}', '{353.Cluster}', '{354.Unknown}', '{355.Cluster}', '{356.Galaxy}', '{357.Unknown}', '{358.Cluster}', '{359.Cluster}', '{360.Cluster}', '{361.Cluster}', '{362.Galaxy}', '{363.Stellar}', '{364.Unknown}', '{365.Unknown}', '{366.Unknown}', '{367.Cluster}', '{368.Unknown}', '{369.Stellar}', '{370.Unknown}', '{371.Cluster}', '{372.Cluster}', '{373.Unknown}', '{374.Galaxy}', '{375.Cluster}', '{376.Cluster}', '{377.Cluster}', '{378.Unknown}', '{379.Unknown}', '{380.Chip}', '{381.Stellar}', '{382.Cluster}', '{383.Cluster}', '{384.Cluster}', '{385.Cluster}', '{386.Unknown}', '{387.Cluster}', '{388.Cluster}', '{389.Cluster}', '{390.Unknown}', '{391.Unknown}', '{392.Cluster}', '{393.Cluster}', '{394.Unknown}', '{395.Cluster}', '{396.Cluster}', '{397.Galaxy}', '{398.Unknown}', '{399.Cluster}', '{400.Cluster}', '{401.Cluster}', '{402.Cluster}', '{403.Unknown}', '{404.Stellar}', '{405.Cluster}', '{406.Cluster}', '{407.Unknown}', '{408.Chip}', '{409.Cluster}', '{410.Cluster}', '{411.Cluster}', '{412.Cluster}', '{413.Cluster}', '{414.Unknown}', '{415.Stellar}', '{416.Cluster}', '{417.Unknown}', '{418.Galaxy}', '{419.Cluster}', '{420.Cluster}', '{421.Cluster}', '{422.Cluster}', '{423.Stellar}', '{424.Unknown}', '{425.Cluster}', '{426.Cluster}', '{427.Cluster}', '{428.Cluster}', '{429.Cluster}', '{430.Chip}', '{431.Unknown}', '{432.Cluster}', '{433.Stellar}', '{434.Stellar}', '{435.Stellar}', '{436.Cluster}', '{437.Stellar}', '{438.Cluster}', '{439.Cluster}', '{440.Chip}', '{441.Cluster}', '{442.Galaxy}', '{443.Cluster}', '{444.Unknown}', '{445.Unknown}', '{446.Cluster}', '{447.Cluster}', '{448.Galaxy}', '{449.Cluster}', '{450.Galaxy}', '{451.Galaxy}']\n"
          ]
        }
      ],
      "source": [
        "print(labeled)"
      ]
    },
    {
      "cell_type": "markdown",
      "metadata": {
        "id": "DRJy0vgV4cA7"
      },
      "source": [
        "# keep dec ac"
      ]
    },
    {
      "cell_type": "code",
      "execution_count": null,
      "metadata": {
        "id": "881f4QlSBkJJ"
      },
      "outputs": [],
      "source": [
        "import pandas as pd"
      ]
    },
    {
      "cell_type": "code",
      "execution_count": null,
      "metadata": {
        "id": "Zu-jbVbr4ef0"
      },
      "outputs": [],
      "source": [
        "obj_ = []\n",
        "with open('dec.txt') as f:\n",
        "   for line in f:\n",
        "       # For Python3, use print(line)\n",
        "      #  print(line)\n",
        "      # print(line.split())\n",
        "      split_list = line.split()\n",
        "      obj_.append(split_list[:7])"
      ]
    },
    {
      "cell_type": "code",
      "execution_count": null,
      "metadata": {
        "colab": {
          "base_uri": "https://localhost:8080/"
        },
        "id": "X_ZZYYClJ4s4",
        "outputId": "1615163f-e77d-405f-c74c-31532216d93a"
      },
      "outputs": [
        {
          "name": "stdout",
          "output_type": "stream",
          "text": [
            "01:32\n"
          ]
        }
      ],
      "source": [
        "z = []\n",
        "x =['01', '32', '31.97']\n",
        "y = ['30', '37', '37.5']\n",
        "print((x[0] + ':' + x[1]))"
      ]
    },
    {
      "cell_type": "code",
      "execution_count": null,
      "metadata": {
        "colab": {
          "base_uri": "https://localhost:8080/"
        },
        "id": "Ao6WOcUsCwSX",
        "outputId": "e899062d-3f54-4284-ab70-0eebd663861c"
      },
      "outputs": [
        {
          "name": "stdout",
          "output_type": "stream",
          "text": [
            "['01', '32', '31.97']\n",
            "['30', '37', '37.5']\n"
          ]
        }
      ],
      "source": [
        "print(obj_[0][1:4])\n",
        "print(obj_[0][4:])"
      ]
    },
    {
      "cell_type": "code",
      "execution_count": null,
      "metadata": {
        "id": "58z_oz3kCkLA"
      },
      "outputs": [],
      "source": [
        "merge_list = []\n",
        "for i in obj_:\n",
        "  temp_ = []\n",
        "  \n",
        "  str_1 = i[1] + ':' + i[2] + ':' + i[3]\n",
        "  str_2 = i[4] + ':' + i[5] + ':' + i[6]\n",
        "  \n",
        "  temp_.append(i[0])\n",
        "  temp_.append(str_1)\n",
        "  temp_.append(str_2)\n",
        "  merge_list.append(temp_)\n",
        "  "
      ]
    },
    {
      "cell_type": "code",
      "execution_count": null,
      "metadata": {
        "colab": {
          "base_uri": "https://localhost:8080/"
        },
        "id": "t-LewT8ULMMo",
        "outputId": "953e8491-10ec-476d-a2cc-847581d512f6"
      },
      "outputs": [
        {
          "data": {
            "text/plain": [
              "[['1', '01:32:31.97', '30:37:37.5'],\n",
              " ['2', '01:32:33.36', '30:26:20.9'],\n",
              " ['3', '01:32:34.40', '30:37:42.6'],\n",
              " ['4', '01:32:35.60', '30:41:28.0'],\n",
              " ['5', '01:32:38.87', '30:47:07.1'],\n",
              " ['6', '01:32:38.97', '30:39:17.9'],\n",
              " ['7', '01:32:39.13', '30:40:42.0'],\n",
              " ['8', '01:32:41.27', '30:27:51.9'],\n",
              " ['9', '01:32:42.93', '30:35:38.6'],\n",
              " ['10', '01:32:44.30', '30:40:12.4'],\n",
              " ['11', '01:32:45.31', '30:30:24.3'],\n",
              " ['12', '01:32:46.80', '30:33:35.3'],\n",
              " ['13', '01:32:51.77', '30:33:05.3'],\n",
              " ['14', '01:32:51.78', '30:29:47.8'],\n",
              " ['15', '01:32:51.82', '30:29:36.4'],\n",
              " ['16', '01:32:52.65', '30:14:30.9'],\n",
              " ['17', '01:32:52.70', '30:32:00.4'],\n",
              " ['18', '01:32:52.87', '30:34:10.2'],\n",
              " ['19', '01:32:53.80', '30:37:52.9'],\n",
              " ['20', '01:32:54.31', '30:55:29.5'],\n",
              " ['21', '01:32:54.63', '30:23:20.6'],\n",
              " ['22', '01:32:54.95', '30:46:25.4'],\n",
              " ['23', '01:32:55.47', '30:29:22.2'],\n",
              " ['24', '01:32:56.09', '30:38:25.7'],\n",
              " ['25', '01:32:56.18', '30:25:45.8'],\n",
              " ['26', '01:32:56.32', '30:14:58.9'],\n",
              " ['27', '01:32:56.36', '30:44:51.2'],\n",
              " ['28', '01:32:57.60', '30:55:42.7'],\n",
              " ['29', '01:32:58.63', '30:47:57.3'],\n",
              " ['30', '01:32:59.28', '30:23:04.4'],\n",
              " ['31', '01:33:00.37', '30:26:47.7'],\n",
              " ['32', '01:33:00.54', '30:45:17.6'],\n",
              " ['33', '01:33:00.89', '30:25:32.7'],\n",
              " ['34', '01:33:01.10', '30:35:45.1'],\n",
              " ['35', '01:33:02.40', '30:34:44.5'],\n",
              " ['36', '01:33:04.91', '30:25:27.0'],\n",
              " ['37', '01:33:05.56', '30:36:40.4'],\n",
              " ['38', '01:33:06.40', '30:37:35.8'],\n",
              " ['39', '01:33:07.37', '30:23:14.3'],\n",
              " ['40', '01:33:08.11', '30:28:00.2'],\n",
              " ['41', '01:33:09.82', '30:12:50.7'],\n",
              " ['42', '01:33:10.11', '30:29:56.9'],\n",
              " ['43', '01:33:11.61', '30:13:14.1'],\n",
              " ['44', '01:33:13.80', '30:29:03.6'],\n",
              " ['45', '01:33:13.87', '30:29:05.1'],\n",
              " ['46', '01:33:13.88', '30:28:24.4'],\n",
              " ['47', '01:33:13.90', '30:29:44.7'],\n",
              " ['48', '01:33:14.29', '30:27:11.1'],\n",
              " ['49', '01:33:14.30', '30:28:22.8'],\n",
              " ['50', '01:33:14.61', '30:51:37.8'],\n",
              " ['51', '01:33:15.09', '30:54:12.7'],\n",
              " ['52', '01:33:15.17', '30:32:53.0'],\n",
              " ['53', '01:33:16.10', '30:20:56.7'],\n",
              " ['54', '01:33:16.63', '30:34:35.7'],\n",
              " ['55', '01:33:18.20', '30:43:48.1'],\n",
              " ['56', '01:33:18.87', '30:26:45.0'],\n",
              " ['57', '01:33:19.21', '30:23:22.5'],\n",
              " ['58', '01:33:19.41', '30:48:48.7'],\n",
              " ['59', '01:33:20.40', '30:40:23.3'],\n",
              " ['60', '01:33:20.48', '30:26:15.2'],\n",
              " ['61', '01:33:21.18', '30:37:55.5'],\n",
              " ['62', '01:33:21.57', '30:31:51.4'],\n",
              " ['63', '01:33:21.66', '30:37:48.4'],\n",
              " ['64', '01:33:21.90', '31:01:11.2'],\n",
              " ['65', '01:33:22.10', '30:45:34.3'],\n",
              " ['66', '01:33:22.11', '30:40:28.4'],\n",
              " ['67', '01:33:22.16', '30:40:26.0'],\n",
              " ['68', '01:33:22.32', '30:40:59.4'],\n",
              " ['69', '01:33:22.38', '30:30:14.3'],\n",
              " ['70', '01:33:23.10', '30:33:00.5'],\n",
              " ['71', '01:33:23.11', '30:32:22.9'],\n",
              " ['72', '01:33:23.30', '30:46:09.0'],\n",
              " ['73', '01:33:23.44', '30:22:31.0'],\n",
              " ['74', '01:33:23.90', '30:40:26.0'],\n",
              " ['75', '01:33:24.61', '30:32:56.1'],\n",
              " ['76', '01:33:24.85', '30:33:55.0'],\n",
              " ['77', '01:33:25.60', '30:29:56.8'],\n",
              " ['78', '01:33:25.60', '30:45:30.5'],\n",
              " ['79', '01:33:25.65', '30:27:52.8'],\n",
              " ['80', '01:33:26.00', '30:36:24.3'],\n",
              " ['81', '01:33:26.37', '30:41:06.9'],\n",
              " ['82', '01:33:26.47', '30:55:10.9'],\n",
              " ['83', '01:33:26.49', '30:41:11.6'],\n",
              " ['84', '01:33:26.53', '30:27:00.4'],\n",
              " ['85', '01:33:26.75', '30:33:21.4'],\n",
              " ['86', '01:33:26.94', '30:34:52.6'],\n",
              " ['87', '01:33:27.40', '30:41:59.8'],\n",
              " ['88', '01:33:27.96', '30:37:28.4'],\n",
              " ['89', '01:33:27.98', '30:32:43.1'],\n",
              " ['90', '01:33:28.00', '30:21:06.2'],\n",
              " ['91', '01:33:28.13', '30:58:30.6'],\n",
              " ['92', '01:33:28.23', '30:46:39.9'],\n",
              " ['93', '01:33:28.40', '30:36:23.1'],\n",
              " ['94', '01:33:28.70', '30:36:37.5'],\n",
              " ['95', '01:33:28.72', '30:41:35.0'],\n",
              " ['96', '01:33:29.30', '30:44:01.6'],\n",
              " ['97', '01:33:29.40', '30:23:59.2'],\n",
              " ['98', '01:33:29.48', '30:30:02.1'],\n",
              " ['99', '01:33:29.85', '30:26:49.1'],\n",
              " ['100', '01:33:30.07', '30:49:29.0'],\n",
              " ['101', '01:33:30.68', '30:26:31.8'],\n",
              " ['102', '01:33:30.70', '30:22:21.4'],\n",
              " ['103', '01:33:30.90', '30:49:11.8'],\n",
              " ['104', '01:33:30.92', '30:37:12.9'],\n",
              " ['105', '01:33:31.00', '30:36:52.6'],\n",
              " ['106', '01:33:31.10', '30:33:45.5'],\n",
              " ['107', '01:33:31.22', '30:33:33.5'],\n",
              " ['108', '01:33:31.22', '30:54:41.6'],\n",
              " ['109', '01:33:31.25', '30:50:07.0'],\n",
              " ['110', '01:33:31.39', '30:40:20.4'],\n",
              " ['111', '01:33:31.86', '30:54:40.1'],\n",
              " ['112', '01:33:32.00', '30:46:25.0'],\n",
              " ['113', '01:33:32.01', '30:33:21.8'],\n",
              " ['114', '01:33:32.17', '30:40:31.9'],\n",
              " ['115', '01:33:32.19', '30:56:04.9'],\n",
              " ['116', '01:33:32.36', '30:38:28.0'],\n",
              " ['117', '01:33:32.43', '30:38:24.5'],\n",
              " ['118', '01:33:32.59', '30:39:24.5'],\n",
              " ['119', '01:33:32.72', '30:36:55.2'],\n",
              " ['120', '01:33:32.75', '30:31:45.1'],\n",
              " ['121', '01:33:33.00', '30:49:41.7'],\n",
              " ['122', '01:33:33.28', '30:48:30.5'],\n",
              " ['123', '01:33:33.57', '30:36:35.8'],\n",
              " ['124', '01:33:33.72', '30:40:03.0'],\n",
              " ['125', '01:33:34.17', '30:44:00.2'],\n",
              " ['126', '01:33:34.38', '30:42:01.3'],\n",
              " ['127', '01:33:34.68', '30:48:21.2'],\n",
              " ['128', '01:33:34.90', '30:37:05.6'],\n",
              " ['129', '01:33:34.96', '30:55:06.1'],\n",
              " ['130', '01:33:35.10', '30:49:00.0'],\n",
              " ['131', '01:33:35.27', '30:33:11.6'],\n",
              " ['132', '01:33:35.62', '30:38:36.7'],\n",
              " ['133', '01:33:35.94', '30:36:28.8'],\n",
              " ['134', '01:33:36.19', '30:47:55.1'],\n",
              " ['135', '01:33:36.30', '30:56:15.9'],\n",
              " ['136', '01:33:36.70', '30:27:08.0'],\n",
              " ['137', '01:33:36.77', '30:43:23.1'],\n",
              " ['138', '01:33:36.79', '30:49:17.5'],\n",
              " ['139', '01:33:36.98', '30:37:12.0'],\n",
              " ['140', '01:33:37.24', '30:34:13.9'],\n",
              " ['141', '01:33:37.60', '30:28:04.6'],\n",
              " ['142', '01:33:37.81', '30:50:32.3'],\n",
              " ['143', '01:33:38.00', '30:38:02.2'],\n",
              " ['144', '01:33:38.04', '30:33:05.4'],\n",
              " ['145', '01:33:38.08', '30:33:17.6'],\n",
              " ['146', '01:33:38.14', '30:42:22.9'],\n",
              " ['147', '01:33:38.19', '30:43:23.9'],\n",
              " ['148', '01:33:38.63', '30:46:10.7'],\n",
              " ['149', '01:33:39.46', '30:55:59.7'],\n",
              " ['150', '01:33:39.46', '30:56:18.0'],\n",
              " ['151', '01:33:39.49', '30:48:48.2'],\n",
              " ['152', '01:33:39.69', '30:31:09.2'],\n",
              " ['153', '01:33:39.71', '30:32:29.2'],\n",
              " ['154', '01:33:39.94', '30:38:26.2'],\n",
              " ['155', '01:33:40.08', '30:21:37.2'],\n",
              " ['156', '01:33:40.38', '30:43:58.0'],\n",
              " ['157', '01:33:40.56', '30:49:04.7'],\n",
              " ['158', '01:33:41.14', '30:25:50.4'],\n",
              " ['159', '01:33:41.20', '30:29:53.8'],\n",
              " ['160', '01:33:41.32', '30:52:56.8'],\n",
              " ['161', '01:33:41.54', '30:42:44.9'],\n",
              " ['162', '01:33:41.56', '30:30:24.1'],\n",
              " ['163', '01:33:41.60', '30:28:09.2'],\n",
              " ['164', '01:33:41.60', '30:41:43.4'],\n",
              " ['165', '01:33:41.60', '30:48:08.5'],\n",
              " ['166', '01:33:41.94', '30:49:20.1'],\n",
              " ['167', '01:33:42.00', '30:26:53.5'],\n",
              " ['168', '01:33:42.71', '30:43:49.6'],\n",
              " ['169', '01:33:42.96', '30:42:53.0'],\n",
              " ['170', '01:33:43.02', '30:44:40.8'],\n",
              " ['171', '01:33:43.80', '30:40:56.7'],\n",
              " ['172', '01:33:43.85', '30:32:10.4'],\n",
              " ['173', '01:33:44.10', '30:26:50.2'],\n",
              " ['174', '01:33:44.10', '30:30:00.8'],\n",
              " ['175', '01:33:44.15', '30:48:36.0'],\n",
              " ['176', '01:33:44.51', '30:37:52.7'],\n",
              " ['177', '01:33:44.66', '30:21:09.4'],\n",
              " ['178', '01:33:45.10', '30:47:46.7'],\n",
              " ['179', '01:33:45.14', '30:49:09.2'],\n",
              " ['180', '01:33:45.50', '30:30:40.7'],\n",
              " ['181', '01:33:45.80', '30:27:17.3'],\n",
              " ['182', '01:33:46.29', '30:47:51.0'],\n",
              " ['183', '01:33:47.00', '30:45:58.8'],\n",
              " ['184', '01:33:47.00', '30:46:36.3'],\n",
              " ['185', '01:33:48.07', '30:54:51.7'],\n",
              " ['186', '01:33:48.46', '30:45:38.7'],\n",
              " ['187', '01:33:48.65', '30:47:42.6'],\n",
              " ['188', '01:33:48.71', '30:24:17.0'],\n",
              " ['189', '01:33:49.15', '30:49:01.5'],\n",
              " ['190', '01:33:49.36', '30:47:12.5'],\n",
              " ['191', '01:33:49.62', '30:34:25.7'],\n",
              " ['192', '01:33:50.19', '30:34:18.8'],\n",
              " ['193', '01:33:50.27', '30:31:11.0'],\n",
              " ['194', '01:33:50.70', '30:58:50.3'],\n",
              " ['195', '01:33:50.73', '30:44:56.2'],\n",
              " ['196', '01:33:50.85', '30:28:59.9'],\n",
              " ['197', '01:33:50.85', '30:38:34.5'],\n",
              " ['198', '01:33:50.90', '30:38:55.5'],\n",
              " ['199', '01:33:50.90', '30:31:44.8'],\n",
              " ['200', '01:33:50.90', '30:34:37.0'],\n",
              " ['201', '01:33:51.24', '30:34:13.2'],\n",
              " ['202', '01:33:51.30', '30:50:55.8'],\n",
              " ['203', '01:33:51.31', '30:34:37.0'],\n",
              " ['204', '01:33:51.80', '30:31:47.2'],\n",
              " ['205', '01:33:52.10', '30:47:16.2'],\n",
              " ['206', '01:33:52.20', '30:29:03.8'],\n",
              " ['207', '01:33:52.38', '30:35:00.8'],\n",
              " ['208', '01:33:52.39', '30:34:21.1'],\n",
              " ['209', '01:33:52.40', '30:50:17.1'],\n",
              " ['210', '01:33:52.67', '30:48:10.1'],\n",
              " ['211', '01:33:53.14', '30:48:33.8'],\n",
              " ['212', '01:33:53.40', '30:33:02.8'],\n",
              " ['213', '01:33:53.43', '30:57:18.0'],\n",
              " ['214', '01:33:53.69', '30:48:21.5'],\n",
              " ['215', '01:33:54.10', '30:33:09.7'],\n",
              " ['216', '01:33:54.38', '30:21:51.9'],\n",
              " ['217', '01:33:54.63', '30:34:48.3'],\n",
              " ['218', '01:33:54.73', '30:48:43.7'],\n",
              " ['219', '01:33:54.75', '30:45:28.4'],\n",
              " ['220', '01:33:54.80', '30:32:15.8'],\n",
              " ['221', '01:33:55.00', '30:32:14.5'],\n",
              " ['222', '01:33:55.18', '30:47:58.0'],\n",
              " ['223', '01:33:55.32', '30:37:34.0'],\n",
              " ['224', '01:33:55.35', '30:45:43.5'],\n",
              " ['225', '01:33:55.50', '30:57:06.3'],\n",
              " ['226', '01:33:55.87', '30:29:34.3'],\n",
              " ['227', '01:33:55.90', '30:52:28.7'],\n",
              " ['228', '01:33:56.18', '30:38:39.8'],\n",
              " ['229', '01:33:56.21', '30:45:51.8'],\n",
              " ['230', '01:33:56.41', '30:29:28.4'],\n",
              " ['231', '01:33:56.50', '30:36:10.6'],\n",
              " ['232', '01:33:56.93', '30:41:38.4'],\n",
              " ['233', '01:33:56.93', '30:49:26.8'],\n",
              " ['234', '01:33:57.10', '30:50:31.5'],\n",
              " ['235', '01:33:57.10', '30:48:03.5'],\n",
              " ['236', '01:33:57.16', '30:40:20.7'],\n",
              " ['237', '01:33:57.28', '30:39:15.3'],\n",
              " ['238', '01:33:57.35', '30:41:28.5'],\n",
              " ['239', '01:33:57.40', '30:52:17.9'],\n",
              " ['240', '01:33:57.66', '30:41:32.6'],\n",
              " ['241', '01:33:57.84', '30:35:31.8'],\n",
              " ['242', '01:33:57.85', '30:49:04.9'],\n",
              " ['243', '01:33:57.87', '30:33:25.7'],\n",
              " ['244', '01:33:57.93', '31:04:08.7'],\n",
              " ['245', '01:33:58.01', '30:45:45.2'],\n",
              " ['246', '01:33:58.03', '30:39:26.2'],\n",
              " ['247', '01:33:58.10', '30:38:15.5'],\n",
              " ['248', '01:33:58.41', '30:39:14.9'],\n",
              " ['249', '01:33:58.58', '30:48:42.7'],\n",
              " ['250', '01:33:58.86', '30:34:43.2'],\n",
              " ['251', '01:33:58.90', '30:49:11.0'],\n",
              " ['252', '01:33:59.07', '30:50:05.9'],\n",
              " ['253', '01:33:59.46', '30:48:26.7'],\n",
              " ['254', '01:33:59.52', '30:47:29.5'],\n",
              " ['255', '01:33:59.52', '30:45:49.9'],\n",
              " ['256', '01:33:59.67', '30:47:38.2'],\n",
              " ['257', '01:33:59.74', '30:41:24.4'],\n",
              " ['258', '01:33:59.84', '30:39:45.4'],\n",
              " ['259', '01:33:59.92', '30:32:44.2'],\n",
              " ['260', '01:34:00.01', '30:33:54.3'],\n",
              " ['261', '01:34:00.21', '30:37:47.2'],\n",
              " ['262', '01:34:00.27', '30:48:36.6'],\n",
              " ['263', '01:34:00.44', '30:51:01.2'],\n",
              " ['264', '01:34:00.47', '30:41:23.1'],\n",
              " ['265', '01:34:00.76', '30:50:09.1'],\n",
              " ['266', '01:34:01.03', '30:46:58.8'],\n",
              " ['267', '01:34:01.31', '30:39:23.5'],\n",
              " ['268', '01:34:01.56', '30:42:31.0'],\n",
              " ['269', '01:34:01.60', '30:42:31.1'],\n",
              " ['270', '01:34:01.68', '30:49:43.9'],\n",
              " ['271', '01:34:01.75', '30:32:25.7'],\n",
              " ['272', '01:34:01.99', '30:38:10.9'],\n",
              " ['273', '01:34:01.99', '30:39:37.8'],\n",
              " ['274', '01:34:02.33', '30:50:27.8'],\n",
              " ['275', '01:34:02.48', '30:40:40.7'],\n",
              " ['276', '01:34:02.48', '30:38:41.1'],\n",
              " ['277', '01:34:02.59', '30:58:10.3'],\n",
              " ['278', '01:34:02.63', '30:49:38.6'],\n",
              " ['279', '01:34:02.77', '30:48:36.5'],\n",
              " ['280', '01:34:02.79', '30:46:36.8'],\n",
              " ['281', '01:34:02.90', '30:43:20.8'],\n",
              " ['282', '01:34:03.09', '30:45:35.6'],\n",
              " ['283', '01:34:03.10', '30:42:21.3'],\n",
              " ['284', '01:34:03.12', '30:52:13.9'],\n",
              " ['285', '01:34:03.12', '30:48:11.0'],\n",
              " ['286', '01:34:03.14', '30:46:55.2'],\n",
              " ['287', '01:34:03.34', '30:48:28.0'],\n",
              " ['288', '01:34:03.83', '30:29:33.5'],\n",
              " ['289', '01:34:03.90', '30:47:29.1'],\n",
              " ['290', '01:34:04.32', '30:39:22.8'],\n",
              " ['291', '01:34:04.47', '30:36:56.1'],\n",
              " ['292', '01:34:04.79', '30:49:17.9'],\n",
              " ['293', '01:34:04.80', '30:47:39.1'],\n",
              " ['294', '01:34:05.08', '30:49:43.1'],\n",
              " ['295', '01:34:05.12', '30:40:36.7'],\n",
              " ['296', '01:34:05.24', '30:57:01.1'],\n",
              " ['297', '01:34:05.40', '30:47:50.9'],\n",
              " ['298', '01:34:05.85', '30:49:56.9'],\n",
              " ['299', '01:34:06.20', '30:40:12.6'],\n",
              " ['300', '01:34:06.30', '30:37:26.1'],\n",
              " ['301', '01:34:06.40', '30:37:30.5'],\n",
              " ['302', '01:34:06.59', '30:50:18.3'],\n",
              " ['303', '01:34:06.68', '30:48:56.2'],\n",
              " ['304', '01:34:06.77', '30:48:32.8'],\n",
              " ['305', '01:34:06.79', '30:47:27.0'],\n",
              " ['306', '01:34:06.98', '30:32:00.1'],\n",
              " ['307', '01:34:07.02', '30:50:57.4'],\n",
              " ['308', '01:34:07.03', '30:49:24.4'],\n",
              " ['309', '01:34:07.18', '30:35:23.1'],\n",
              " ['310', '01:34:07.28', '30:38:29.5'],\n",
              " ['311', '01:34:07.37', '30:47:41.6'],\n",
              " ['312', '01:34:07.51', '30:50:11.1'],\n",
              " ['313', '01:34:07.73', '30:52:18.1'],\n",
              " ['314', '01:34:07.78', '30:51:41.4'],\n",
              " ['315', '01:34:07.79', '30:31:21.2'],\n",
              " ['316', '01:34:08.04', '30:38:38.2'],\n",
              " ['317', '01:34:08.08', '30:31:18.7'],\n",
              " ['318', '01:34:08.10', '30:53:32.1'],\n",
              " ['319', '01:34:08.22', '30:34:05.0'],\n",
              " ['320', '01:34:08.53', '30:39:02.4'],\n",
              " ['321', '01:34:08.63', '30:39:22.8'],\n",
              " ['322', '01:34:08.70', '30:42:55.3'],\n",
              " ['323', '01:34:08.76', '30:48:16.1'],\n",
              " ['324', '01:34:08.77', '30:30:57.0'],\n",
              " ['325', '01:34:08.96', '30:36:33.8'],\n",
              " ['326', '01:34:09.36', '30:47:01.8'],\n",
              " ['327', '01:34:09.71', '30:21:30.0'],\n",
              " ['328', '01:34:09.78', '30:52:06.1'],\n",
              " ['329', '01:34:10.09', '30:45:29.4'],\n",
              " ['330', '01:34:10.24', '30:55:26.6'],\n",
              " ['331', '01:34:10.66', '30:45:48.9'],\n",
              " ['332', '01:34:10.67', '30:35:16.8'],\n",
              " ['333', '01:34:11.00', '30:40:30.1'],\n",
              " ['334', '01:34:11.29', '30:24:13.2'],\n",
              " ['335', '01:34:11.35', '30:41:27.9'],\n",
              " ['336', '01:34:11.36', '30:41:27.9'],\n",
              " ['337', '01:34:11.55', '30:34:52.5'],\n",
              " ['338', '01:34:11.82', '30:42:19.9'],\n",
              " ['339', '01:34:11.86', '30:24:10.1'],\n",
              " ['340', '01:34:12.68', '30:47:05.3'],\n",
              " ['341', '01:34:13.60', '30:34:48.5'],\n",
              " ['342', '01:34:13.69', '30:43:18.4'],\n",
              " ['343', '01:34:13.70', '30:35:22.2'],\n",
              " ['344', '01:34:13.80', '30:45:31.5'],\n",
              " ['345', '01:34:13.84', '30:19:47.3'],\n",
              " ['346', '01:34:13.99', '30:27:59.0'],\n",
              " ['347', '01:34:14.02', '30:39:29.5'],\n",
              " ['348', '01:34:14.14', '30:52:59.8'],\n",
              " ['349', '01:34:14.19', '30:36:12.1'],\n",
              " ['350', '01:34:14.20', '30:39:58.4'],\n",
              " ['351', '01:34:14.65', '30:32:35.0'],\n",
              " ['352', '01:34:15.02', '30:53:33.9'],\n",
              " ['353', '01:34:15.04', '30:41:19.2'],\n",
              " ['354', '01:34:15.51', '30:50:01.7'],\n",
              " ['355', '01:34:15.51', '30:42:11.5'],\n",
              " ['356', '01:34:15.78', '30:27:45.7'],\n",
              " ['357', '01:34:16.10', '30:45:03.9'],\n",
              " ['358', '01:34:16.37', '30:47:43.0'],\n",
              " ['359', '01:34:16.38', '30:37:49.1'],\n",
              " ['360', '01:34:16.57', '30:40:29.0'],\n",
              " ['361', '01:34:17.54', '30:42:36.7'],\n",
              " ['362', '01:34:17.64', '30:28:24.0'],\n",
              " ['363', '01:34:17.87', '30:35:34.1'],\n",
              " ['364', '01:34:18.19', '30:52:30.0'],\n",
              " ['365', '01:34:18.21', '30:53:47.4'],\n",
              " ['366', '01:34:18.26', '30:22:02.5'],\n",
              " ['367', '01:34:18.59', '30:44:47.8'],\n",
              " ['368', '01:34:18.69', '30:31:37.6'],\n",
              " ['369', '01:34:19.29', '30:23:33.0'],\n",
              " ['370', '01:34:19.44', '30:46:21.2'],\n",
              " ['371', '01:34:19.89', '30:36:12.7'],\n",
              " ['372', '01:34:20.17', '30:39:33.3'],\n",
              " ['373', '01:34:20.78', '30:38:33.1'],\n",
              " ['374', '01:34:20.95', '30:22:57.6'],\n",
              " ['375', '01:34:21.43', '30:39:40.2'],\n",
              " ['376', '01:34:21.59', '30:36:45.6'],\n",
              " ['377', '01:34:21.99', '30:44:39.1'],\n",
              " ['378', '01:34:22.23', '30:47:11.0'],\n",
              " ['379', '01:34:22.24', '30:30:42.6'],\n",
              " ['380', '01:34:22.81', '30:54:26.1'],\n",
              " ['381', '01:34:22.92', '30:47:33.7'],\n",
              " ['382', '01:34:23.05', '30:37:39.8'],\n",
              " ['383', '01:34:23.13', '30:43:46.4'],\n",
              " ['384', '01:34:23.52', '30:25:58.2'],\n",
              " ['385', '01:34:24.53', '30:53:05.4'],\n",
              " ['386', '01:34:25.00', '30:51:33.3'],\n",
              " ['387', '01:34:25.40', '30:41:28.4'],\n",
              " ['388', '01:34:25.51', '30:36:56.8'],\n",
              " ['389', '01:34:26.32', '30:37:23.3'],\n",
              " ['390', '01:34:26.39', '30:47:13.8'],\n",
              " ['391', '01:34:26.88', '30:41:46.2'],\n",
              " ['392', '01:34:27.10', '30:36:42.3'],\n",
              " ['393', '01:34:27.61', '30:55:53.3'],\n",
              " ['394', '01:34:28.14', '30:42:48.2'],\n",
              " ['395', '01:34:28.19', '30:36:17.1'],\n",
              " ['396', '01:34:28.50', '30:37:56.1'],\n",
              " ['397', '01:34:28.50', '30:53:35.9'],\n",
              " ['398', '01:34:28.71', '30:21:44.0'],\n",
              " ['399', '01:34:29.07', '30:38:05.4'],\n",
              " ['400', '01:34:29.10', '30:53:20.6'],\n",
              " ['401', '01:34:29.29', '30:56:06.0'],\n",
              " ['402', '01:34:30.20', '30:38:13.0'],\n",
              " ['403', '01:34:30.50', '30:36:48.2'],\n",
              " ['404', '01:34:31.00', '30:57:57.5'],\n",
              " ['405', '01:34:31.07', '30:37:41.1'],\n",
              " ['406', '01:34:31.74', '30:39:14.8'],\n",
              " ['407', '01:34:32.29', '30:55:09.9'],\n",
              " ['408', '01:34:32.78', '30:54:23.6'],\n",
              " ['409', '01:34:32.90', '30:38:12.0'],\n",
              " ['410', '01:34:33.09', '30:37:36.3'],\n",
              " ['411', '01:34:33.12', '30:38:14.2'],\n",
              " ['412', '01:34:33.19', '30:38:26.6'],\n",
              " ['413', '01:34:33.73', '30:39:15.7'],\n",
              " ['414', '01:34:34.42', '30:42:43.2'],\n",
              " ['415', '01:34:35.16', '30:44:59.5'],\n",
              " ['416', '01:34:35.30', '30:38:30.1'],\n",
              " ['417', '01:34:36.92', '30:03:47.6'],\n",
              " ['418', '01:34:38.39', '30:54:49.3'],\n",
              " ['419', '01:34:38.90', '30:38:51.8'],\n",
              " ['420', '01:34:40.41', '30:46:01.3'],\n",
              " ['421', '01:34:40.66', '30:49:47.3'],\n",
              " ['422', '01:34:40.72', '30:53:02.0'],\n",
              " ['423', '01:34:41.20', '30:49:52.7'],\n",
              " ['424', '01:34:41.65', '30:46:38.8'],\n",
              " ['425', '01:34:42.80', '30:49:19.2'],\n",
              " ['426', '01:34:43.19', '30:52:19.1'],\n",
              " ['427', '01:34:43.70', '30:47:37.9'],\n",
              " ['428', '01:34:44.20', '30:52:18.9'],\n",
              " ['429', '01:34:45.09', '30:50:33.5'],\n",
              " ['430', '01:34:45.59', '30:44:23.0'],\n",
              " ['431', '01:34:45.70', '30:52:26.9'],\n",
              " ['432', '01:34:45.91', '30:53:04.4'],\n",
              " ['433', '01:34:45.99', '30:50:50.4'],\n",
              " ['434', '01:34:46.51', '30:44:30.8'],\n",
              " ['435', '01:34:46.68', '30:49:25.0'],\n",
              " ['436', '01:34:46.80', '30:49:16.1'],\n",
              " ['437', '01:34:47.53', '30:47:29.0'],\n",
              " ['438', '01:34:49.62', '30:21:55.5'],\n",
              " ['439', '01:34:50.10', '30:47:04.1'],\n",
              " ['440', '01:34:51.16', '30:54:48.7'],\n",
              " ['441', '01:34:52.24', '30:50:05.6'],\n",
              " ['442', '01:34:52.90', '30:10:51.2'],\n",
              " ['443', '01:34:53.17', '30:51:47.8'],\n",
              " ['444', '01:34:56.88', '30:52:35.0'],\n",
              " ['445', '01:34:58.32', '30:31:10.5'],\n",
              " ['446', '01:35:01.56', '30:51:27.0'],\n",
              " ['447', '01:35:04.69', '30:46:10.6'],\n",
              " ['448', '01:35:14.01', '30:52:32.9'],\n",
              " ['449', '01:35:18.25', '30:49:53.9'],\n",
              " ['450', '01:35:45.70', '30:26:51.4'],\n",
              " ['451', '01:36:05.40', '30:58:19.7']]"
            ]
          },
          "execution_count": 138,
          "metadata": {},
          "output_type": "execute_result"
        }
      ],
      "source": [
        "merge_list"
      ]
    },
    {
      "cell_type": "code",
      "execution_count": null,
      "metadata": {
        "id": "EK74BjHPBAEj"
      },
      "outputs": [],
      "source": [
        "df3 = pd.DataFrame(merge_list)"
      ]
    },
    {
      "cell_type": "code",
      "execution_count": null,
      "metadata": {
        "colab": {
          "base_uri": "https://localhost:8080/",
          "height": 424
        },
        "id": "O3uh2HXUCdmY",
        "outputId": "08184ca0-59a2-4f7d-9060-b2de671d4bb6"
      },
      "outputs": [
        {
          "data": {
            "text/html": [
              "\n",
              "  <div id=\"df-265e8366-e637-4b06-9245-c04a41af2510\">\n",
              "    <div class=\"colab-df-container\">\n",
              "      <div>\n",
              "<style scoped>\n",
              "    .dataframe tbody tr th:only-of-type {\n",
              "        vertical-align: middle;\n",
              "    }\n",
              "\n",
              "    .dataframe tbody tr th {\n",
              "        vertical-align: top;\n",
              "    }\n",
              "\n",
              "    .dataframe thead th {\n",
              "        text-align: right;\n",
              "    }\n",
              "</style>\n",
              "<table border=\"1\" class=\"dataframe\">\n",
              "  <thead>\n",
              "    <tr style=\"text-align: right;\">\n",
              "      <th></th>\n",
              "      <th>0</th>\n",
              "      <th>1</th>\n",
              "      <th>2</th>\n",
              "    </tr>\n",
              "  </thead>\n",
              "  <tbody>\n",
              "    <tr>\n",
              "      <th>0</th>\n",
              "      <td>1</td>\n",
              "      <td>01:32:31.97</td>\n",
              "      <td>30:37:37.5</td>\n",
              "    </tr>\n",
              "    <tr>\n",
              "      <th>1</th>\n",
              "      <td>2</td>\n",
              "      <td>01:32:33.36</td>\n",
              "      <td>30:26:20.9</td>\n",
              "    </tr>\n",
              "    <tr>\n",
              "      <th>2</th>\n",
              "      <td>3</td>\n",
              "      <td>01:32:34.40</td>\n",
              "      <td>30:37:42.6</td>\n",
              "    </tr>\n",
              "    <tr>\n",
              "      <th>3</th>\n",
              "      <td>4</td>\n",
              "      <td>01:32:35.60</td>\n",
              "      <td>30:41:28.0</td>\n",
              "    </tr>\n",
              "    <tr>\n",
              "      <th>4</th>\n",
              "      <td>5</td>\n",
              "      <td>01:32:38.87</td>\n",
              "      <td>30:47:07.1</td>\n",
              "    </tr>\n",
              "    <tr>\n",
              "      <th>...</th>\n",
              "      <td>...</td>\n",
              "      <td>...</td>\n",
              "      <td>...</td>\n",
              "    </tr>\n",
              "    <tr>\n",
              "      <th>446</th>\n",
              "      <td>447</td>\n",
              "      <td>01:35:04.69</td>\n",
              "      <td>30:46:10.6</td>\n",
              "    </tr>\n",
              "    <tr>\n",
              "      <th>447</th>\n",
              "      <td>448</td>\n",
              "      <td>01:35:14.01</td>\n",
              "      <td>30:52:32.9</td>\n",
              "    </tr>\n",
              "    <tr>\n",
              "      <th>448</th>\n",
              "      <td>449</td>\n",
              "      <td>01:35:18.25</td>\n",
              "      <td>30:49:53.9</td>\n",
              "    </tr>\n",
              "    <tr>\n",
              "      <th>449</th>\n",
              "      <td>450</td>\n",
              "      <td>01:35:45.70</td>\n",
              "      <td>30:26:51.4</td>\n",
              "    </tr>\n",
              "    <tr>\n",
              "      <th>450</th>\n",
              "      <td>451</td>\n",
              "      <td>01:36:05.40</td>\n",
              "      <td>30:58:19.7</td>\n",
              "    </tr>\n",
              "  </tbody>\n",
              "</table>\n",
              "<p>451 rows × 3 columns</p>\n",
              "</div>\n",
              "      <button class=\"colab-df-convert\" onclick=\"convertToInteractive('df-265e8366-e637-4b06-9245-c04a41af2510')\"\n",
              "              title=\"Convert this dataframe to an interactive table.\"\n",
              "              style=\"display:none;\">\n",
              "        \n",
              "  <svg xmlns=\"http://www.w3.org/2000/svg\" height=\"24px\"viewBox=\"0 0 24 24\"\n",
              "       width=\"24px\">\n",
              "    <path d=\"M0 0h24v24H0V0z\" fill=\"none\"/>\n",
              "    <path d=\"M18.56 5.44l.94 2.06.94-2.06 2.06-.94-2.06-.94-.94-2.06-.94 2.06-2.06.94zm-11 1L8.5 8.5l.94-2.06 2.06-.94-2.06-.94L8.5 2.5l-.94 2.06-2.06.94zm10 10l.94 2.06.94-2.06 2.06-.94-2.06-.94-.94-2.06-.94 2.06-2.06.94z\"/><path d=\"M17.41 7.96l-1.37-1.37c-.4-.4-.92-.59-1.43-.59-.52 0-1.04.2-1.43.59L10.3 9.45l-7.72 7.72c-.78.78-.78 2.05 0 2.83L4 21.41c.39.39.9.59 1.41.59.51 0 1.02-.2 1.41-.59l7.78-7.78 2.81-2.81c.8-.78.8-2.07 0-2.86zM5.41 20L4 18.59l7.72-7.72 1.47 1.35L5.41 20z\"/>\n",
              "  </svg>\n",
              "      </button>\n",
              "      \n",
              "  <style>\n",
              "    .colab-df-container {\n",
              "      display:flex;\n",
              "      flex-wrap:wrap;\n",
              "      gap: 12px;\n",
              "    }\n",
              "\n",
              "    .colab-df-convert {\n",
              "      background-color: #E8F0FE;\n",
              "      border: none;\n",
              "      border-radius: 50%;\n",
              "      cursor: pointer;\n",
              "      display: none;\n",
              "      fill: #1967D2;\n",
              "      height: 32px;\n",
              "      padding: 0 0 0 0;\n",
              "      width: 32px;\n",
              "    }\n",
              "\n",
              "    .colab-df-convert:hover {\n",
              "      background-color: #E2EBFA;\n",
              "      box-shadow: 0px 1px 2px rgba(60, 64, 67, 0.3), 0px 1px 3px 1px rgba(60, 64, 67, 0.15);\n",
              "      fill: #174EA6;\n",
              "    }\n",
              "\n",
              "    [theme=dark] .colab-df-convert {\n",
              "      background-color: #3B4455;\n",
              "      fill: #D2E3FC;\n",
              "    }\n",
              "\n",
              "    [theme=dark] .colab-df-convert:hover {\n",
              "      background-color: #434B5C;\n",
              "      box-shadow: 0px 1px 3px 1px rgba(0, 0, 0, 0.15);\n",
              "      filter: drop-shadow(0px 1px 2px rgba(0, 0, 0, 0.3));\n",
              "      fill: #FFFFFF;\n",
              "    }\n",
              "  </style>\n",
              "\n",
              "      <script>\n",
              "        const buttonEl =\n",
              "          document.querySelector('#df-265e8366-e637-4b06-9245-c04a41af2510 button.colab-df-convert');\n",
              "        buttonEl.style.display =\n",
              "          google.colab.kernel.accessAllowed ? 'block' : 'none';\n",
              "\n",
              "        async function convertToInteractive(key) {\n",
              "          const element = document.querySelector('#df-265e8366-e637-4b06-9245-c04a41af2510');\n",
              "          const dataTable =\n",
              "            await google.colab.kernel.invokeFunction('convertToInteractive',\n",
              "                                                     [key], {});\n",
              "          if (!dataTable) return;\n",
              "\n",
              "          const docLinkHtml = 'Like what you see? Visit the ' +\n",
              "            '<a target=\"_blank\" href=https://colab.research.google.com/notebooks/data_table.ipynb>data table notebook</a>'\n",
              "            + ' to learn more about interactive tables.';\n",
              "          element.innerHTML = '';\n",
              "          dataTable['output_type'] = 'display_data';\n",
              "          await google.colab.output.renderOutput(dataTable, element);\n",
              "          const docLink = document.createElement('div');\n",
              "          docLink.innerHTML = docLinkHtml;\n",
              "          element.appendChild(docLink);\n",
              "        }\n",
              "      </script>\n",
              "    </div>\n",
              "  </div>\n",
              "  "
            ],
            "text/plain": [
              "       0            1           2\n",
              "0      1  01:32:31.97  30:37:37.5\n",
              "1      2  01:32:33.36  30:26:20.9\n",
              "2      3  01:32:34.40  30:37:42.6\n",
              "3      4  01:32:35.60  30:41:28.0\n",
              "4      5  01:32:38.87  30:47:07.1\n",
              "..   ...          ...         ...\n",
              "446  447  01:35:04.69  30:46:10.6\n",
              "447  448  01:35:14.01  30:52:32.9\n",
              "448  449  01:35:18.25  30:49:53.9\n",
              "449  450  01:35:45.70  30:26:51.4\n",
              "450  451  01:36:05.40  30:58:19.7\n",
              "\n",
              "[451 rows x 3 columns]"
            ]
          },
          "execution_count": 140,
          "metadata": {},
          "output_type": "execute_result"
        }
      ],
      "source": [
        "df3"
      ]
    },
    {
      "cell_type": "code",
      "execution_count": null,
      "metadata": {
        "id": "H0wbDYtBBzng"
      },
      "outputs": [],
      "source": [
        "# df3.to_excel(\"output.xlsx\")"
      ]
    },
    {
      "cell_type": "code",
      "execution_count": null,
      "metadata": {
        "colab": {
          "base_uri": "https://localhost:8080/"
        },
        "id": "WbXW8kc_8lUI",
        "outputId": "14be3c04-1403-472a-cf1d-0725c38bb78a"
      },
      "outputs": [
        {
          "data": {
            "text/plain": [
              "[['1', '01:32:31.97', '30:37:37.5'], ['2', '01:32:33.36', '30:26:20.9']]"
            ]
          },
          "execution_count": 142,
          "metadata": {},
          "output_type": "execute_result"
        }
      ],
      "source": [
        "merge_list[0:2]"
      ]
    },
    {
      "cell_type": "code",
      "execution_count": null,
      "metadata": {
        "id": "rUOCqKKjvP6W"
      },
      "outputs": [],
      "source": [
        "st1 = ['01:32:31.97', '01:35:04.69', '01:36:05.40']\n",
        "st2 = ['30:46:10.6', '30:49:53.9', '30:58:19.7']"
      ]
    },
    {
      "cell_type": "code",
      "execution_count": null,
      "metadata": {
        "id": "6sBywDE1wNwu"
      },
      "outputs": [],
      "source": [
        "for i in range(len(st1)):\n",
        "  # new_str = (st1[i], ',', st2[i], 'radious')\n",
        "  # new_str = 'circle({},{},5.160)'.format(st1[i], st2[i])\n",
        "  new_str = 'Box({},{},100,100) # text={}'.format(st1[i], st2[i], labeled[i])"
      ]
    },
    {
      "cell_type": "code",
      "execution_count": null,
      "metadata": {
        "colab": {
          "base_uri": "https://localhost:8080/",
          "height": 35
        },
        "id": "OtnXzLhJ8qvP",
        "outputId": "185228d2-8aad-446b-8812-201efa0cafe8"
      },
      "outputs": [
        {
          "data": {
            "application/vnd.google.colaboratory.intrinsic+json": {
              "type": "string"
            },
            "text/plain": [
              "'Box(01:36:05.40,30:58:19.7,100,100) # text={3.Cluster}'"
            ]
          },
          "execution_count": 145,
          "metadata": {},
          "output_type": "execute_result"
        }
      ],
      "source": [
        "new_str"
      ]
    },
    {
      "cell_type": "code",
      "execution_count": null,
      "metadata": {
        "id": "SG7czT1R8tEI"
      },
      "outputs": [],
      "source": [
        "region_list = []"
      ]
    },
    {
      "cell_type": "code",
      "execution_count": null,
      "metadata": {
        "id": "KmV3fYb-8zty"
      },
      "outputs": [],
      "source": [
        "pointer = 0\n",
        "for i in merge_list:\n",
        "  # temp_ = 'circle({},{},5.160\")'.format(i[1], i[2])\n",
        "  temp_ = 'Box({},{},100,100) # text={}'.format(i[1], i[2], labeled[pointer])\n",
        "  region_list.append(temp_)\n",
        "  pointer += 1"
      ]
    },
    {
      "cell_type": "code",
      "execution_count": null,
      "metadata": {
        "colab": {
          "base_uri": "https://localhost:8080/"
        },
        "id": "aCWu1HBx9mXp",
        "outputId": "f27c9160-f1b4-483f-aa30-3d4ec1fff411"
      },
      "outputs": [
        {
          "data": {
            "text/plain": [
              "451"
            ]
          },
          "execution_count": 148,
          "metadata": {},
          "output_type": "execute_result"
        }
      ],
      "source": [
        "len(region_list)"
      ]
    },
    {
      "cell_type": "code",
      "execution_count": null,
      "metadata": {
        "id": "Xf5mv-LN9ytq"
      },
      "outputs": [],
      "source": [
        "my_df = pd.DataFrame(region_list)"
      ]
    },
    {
      "cell_type": "code",
      "execution_count": null,
      "metadata": {
        "colab": {
          "base_uri": "https://localhost:8080/",
          "height": 424
        },
        "id": "m2Zqx6hK91mo",
        "outputId": "b5496dc0-561c-4edd-b107-82d15a5b09ef"
      },
      "outputs": [
        {
          "data": {
            "text/html": [
              "\n",
              "  <div id=\"df-79205f88-ea9a-479b-a86f-71e0493e9d82\">\n",
              "    <div class=\"colab-df-container\">\n",
              "      <div>\n",
              "<style scoped>\n",
              "    .dataframe tbody tr th:only-of-type {\n",
              "        vertical-align: middle;\n",
              "    }\n",
              "\n",
              "    .dataframe tbody tr th {\n",
              "        vertical-align: top;\n",
              "    }\n",
              "\n",
              "    .dataframe thead th {\n",
              "        text-align: right;\n",
              "    }\n",
              "</style>\n",
              "<table border=\"1\" class=\"dataframe\">\n",
              "  <thead>\n",
              "    <tr style=\"text-align: right;\">\n",
              "      <th></th>\n",
              "      <th>0</th>\n",
              "    </tr>\n",
              "  </thead>\n",
              "  <tbody>\n",
              "    <tr>\n",
              "      <th>0</th>\n",
              "      <td>Box(01:32:31.97,30:37:37.5,100,100) # text={1....</td>\n",
              "    </tr>\n",
              "    <tr>\n",
              "      <th>1</th>\n",
              "      <td>Box(01:32:33.36,30:26:20.9,100,100) # text={2....</td>\n",
              "    </tr>\n",
              "    <tr>\n",
              "      <th>2</th>\n",
              "      <td>Box(01:32:34.40,30:37:42.6,100,100) # text={3....</td>\n",
              "    </tr>\n",
              "    <tr>\n",
              "      <th>3</th>\n",
              "      <td>Box(01:32:35.60,30:41:28.0,100,100) # text={4....</td>\n",
              "    </tr>\n",
              "    <tr>\n",
              "      <th>4</th>\n",
              "      <td>Box(01:32:38.87,30:47:07.1,100,100) # text={5....</td>\n",
              "    </tr>\n",
              "    <tr>\n",
              "      <th>...</th>\n",
              "      <td>...</td>\n",
              "    </tr>\n",
              "    <tr>\n",
              "      <th>446</th>\n",
              "      <td>Box(01:35:04.69,30:46:10.6,100,100) # text={44...</td>\n",
              "    </tr>\n",
              "    <tr>\n",
              "      <th>447</th>\n",
              "      <td>Box(01:35:14.01,30:52:32.9,100,100) # text={44...</td>\n",
              "    </tr>\n",
              "    <tr>\n",
              "      <th>448</th>\n",
              "      <td>Box(01:35:18.25,30:49:53.9,100,100) # text={44...</td>\n",
              "    </tr>\n",
              "    <tr>\n",
              "      <th>449</th>\n",
              "      <td>Box(01:35:45.70,30:26:51.4,100,100) # text={45...</td>\n",
              "    </tr>\n",
              "    <tr>\n",
              "      <th>450</th>\n",
              "      <td>Box(01:36:05.40,30:58:19.7,100,100) # text={45...</td>\n",
              "    </tr>\n",
              "  </tbody>\n",
              "</table>\n",
              "<p>451 rows × 1 columns</p>\n",
              "</div>\n",
              "      <button class=\"colab-df-convert\" onclick=\"convertToInteractive('df-79205f88-ea9a-479b-a86f-71e0493e9d82')\"\n",
              "              title=\"Convert this dataframe to an interactive table.\"\n",
              "              style=\"display:none;\">\n",
              "        \n",
              "  <svg xmlns=\"http://www.w3.org/2000/svg\" height=\"24px\"viewBox=\"0 0 24 24\"\n",
              "       width=\"24px\">\n",
              "    <path d=\"M0 0h24v24H0V0z\" fill=\"none\"/>\n",
              "    <path d=\"M18.56 5.44l.94 2.06.94-2.06 2.06-.94-2.06-.94-.94-2.06-.94 2.06-2.06.94zm-11 1L8.5 8.5l.94-2.06 2.06-.94-2.06-.94L8.5 2.5l-.94 2.06-2.06.94zm10 10l.94 2.06.94-2.06 2.06-.94-2.06-.94-.94-2.06-.94 2.06-2.06.94z\"/><path d=\"M17.41 7.96l-1.37-1.37c-.4-.4-.92-.59-1.43-.59-.52 0-1.04.2-1.43.59L10.3 9.45l-7.72 7.72c-.78.78-.78 2.05 0 2.83L4 21.41c.39.39.9.59 1.41.59.51 0 1.02-.2 1.41-.59l7.78-7.78 2.81-2.81c.8-.78.8-2.07 0-2.86zM5.41 20L4 18.59l7.72-7.72 1.47 1.35L5.41 20z\"/>\n",
              "  </svg>\n",
              "      </button>\n",
              "      \n",
              "  <style>\n",
              "    .colab-df-container {\n",
              "      display:flex;\n",
              "      flex-wrap:wrap;\n",
              "      gap: 12px;\n",
              "    }\n",
              "\n",
              "    .colab-df-convert {\n",
              "      background-color: #E8F0FE;\n",
              "      border: none;\n",
              "      border-radius: 50%;\n",
              "      cursor: pointer;\n",
              "      display: none;\n",
              "      fill: #1967D2;\n",
              "      height: 32px;\n",
              "      padding: 0 0 0 0;\n",
              "      width: 32px;\n",
              "    }\n",
              "\n",
              "    .colab-df-convert:hover {\n",
              "      background-color: #E2EBFA;\n",
              "      box-shadow: 0px 1px 2px rgba(60, 64, 67, 0.3), 0px 1px 3px 1px rgba(60, 64, 67, 0.15);\n",
              "      fill: #174EA6;\n",
              "    }\n",
              "\n",
              "    [theme=dark] .colab-df-convert {\n",
              "      background-color: #3B4455;\n",
              "      fill: #D2E3FC;\n",
              "    }\n",
              "\n",
              "    [theme=dark] .colab-df-convert:hover {\n",
              "      background-color: #434B5C;\n",
              "      box-shadow: 0px 1px 3px 1px rgba(0, 0, 0, 0.15);\n",
              "      filter: drop-shadow(0px 1px 2px rgba(0, 0, 0, 0.3));\n",
              "      fill: #FFFFFF;\n",
              "    }\n",
              "  </style>\n",
              "\n",
              "      <script>\n",
              "        const buttonEl =\n",
              "          document.querySelector('#df-79205f88-ea9a-479b-a86f-71e0493e9d82 button.colab-df-convert');\n",
              "        buttonEl.style.display =\n",
              "          google.colab.kernel.accessAllowed ? 'block' : 'none';\n",
              "\n",
              "        async function convertToInteractive(key) {\n",
              "          const element = document.querySelector('#df-79205f88-ea9a-479b-a86f-71e0493e9d82');\n",
              "          const dataTable =\n",
              "            await google.colab.kernel.invokeFunction('convertToInteractive',\n",
              "                                                     [key], {});\n",
              "          if (!dataTable) return;\n",
              "\n",
              "          const docLinkHtml = 'Like what you see? Visit the ' +\n",
              "            '<a target=\"_blank\" href=https://colab.research.google.com/notebooks/data_table.ipynb>data table notebook</a>'\n",
              "            + ' to learn more about interactive tables.';\n",
              "          element.innerHTML = '';\n",
              "          dataTable['output_type'] = 'display_data';\n",
              "          await google.colab.output.renderOutput(dataTable, element);\n",
              "          const docLink = document.createElement('div');\n",
              "          docLink.innerHTML = docLinkHtml;\n",
              "          element.appendChild(docLink);\n",
              "        }\n",
              "      </script>\n",
              "    </div>\n",
              "  </div>\n",
              "  "
            ],
            "text/plain": [
              "                                                     0\n",
              "0    Box(01:32:31.97,30:37:37.5,100,100) # text={1....\n",
              "1    Box(01:32:33.36,30:26:20.9,100,100) # text={2....\n",
              "2    Box(01:32:34.40,30:37:42.6,100,100) # text={3....\n",
              "3    Box(01:32:35.60,30:41:28.0,100,100) # text={4....\n",
              "4    Box(01:32:38.87,30:47:07.1,100,100) # text={5....\n",
              "..                                                 ...\n",
              "446  Box(01:35:04.69,30:46:10.6,100,100) # text={44...\n",
              "447  Box(01:35:14.01,30:52:32.9,100,100) # text={44...\n",
              "448  Box(01:35:18.25,30:49:53.9,100,100) # text={44...\n",
              "449  Box(01:35:45.70,30:26:51.4,100,100) # text={45...\n",
              "450  Box(01:36:05.40,30:58:19.7,100,100) # text={45...\n",
              "\n",
              "[451 rows x 1 columns]"
            ]
          },
          "execution_count": 150,
          "metadata": {},
          "output_type": "execute_result"
        }
      ],
      "source": [
        "my_df"
      ]
    },
    {
      "cell_type": "code",
      "execution_count": null,
      "metadata": {
        "id": "LuPoYEHl9z2R"
      },
      "outputs": [],
      "source": [
        "my_df.to_csv('Box_regions.csv', index=False, header=False)"
      ]
    },
    {
      "cell_type": "code",
      "execution_count": null,
      "metadata": {
        "id": "F13xFJDZ-U1k"
      },
      "outputs": [],
      "source": [
        "# circle(1:34:30.2467,+30:38:13.002,5.160\")\n",
        "# circle(1:34:28.0279,+30:38:33.127,5.160\")\n",
        "# circle(1:34:27.9879,+30:38:13.520,5.160\")"
      ]
    }
  ],
  "metadata": {
    "colab": {
      "provenance": [],
      "toc_visible": true
    },
    "kernelspec": {
      "display_name": "Python 3.10.6 64-bit",
      "language": "python",
      "name": "python3"
    },
    "language_info": {
      "name": "python",
      "version": "3.10.6"
    },
    "vscode": {
      "interpreter": {
        "hash": "916dbcbb3f70747c44a77c7bcd40155683ae19c65e1c03b4aa3499c5328201f1"
      }
    }
  },
  "nbformat": 4,
  "nbformat_minor": 0
}
