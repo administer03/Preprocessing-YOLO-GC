{
 "cells": [
  {
   "cell_type": "code",
   "execution_count": 1,
   "metadata": {},
   "outputs": [],
   "source": [
    "import os "
   ]
  },
  {
   "cell_type": "code",
   "execution_count": 3,
   "metadata": {},
   "outputs": [],
   "source": [
    "folder_target_name = 'datasets_augmentation_filter'\n",
    "path_dir = 'C:/Users/news1/Desktop/'\n",
    "os.makedirs(path_dir + folder_target_name)"
   ]
  },
  {
   "cell_type": "code",
   "execution_count": 25,
   "metadata": {},
   "outputs": [],
   "source": [
    "def build_yolo_folder(target_path, folder_name, images_path, labels_path create_subfolder = False):\n",
    "    if create_subfolder:\n",
    "        os.makedirs(target_path + folder_name)\n",
    "\n",
    "    os.makedirs(target_path + '{}/test'.format(folder_name))\n",
    "    os.makedirs(target_path + '{}/train'.format(folder_name))\n",
    "    os.makedirs(target_path + '{}/train/labels'.format(folder_name))\n",
    "    os.makedirs(target_path + '{}/train/images'.format(folder_name))\n",
    "    os.makedirs(target_path + '{}/test/labels'.format(folder_name))\n",
    "    os.makedirs(target_path + '{}/test/images'.format(folder_name))\n",
    "    # create txt file name data\n",
    "    with open(target_path + (folder_name + '/data.yaml'), 'w') as f:\n",
    "        f.write('nc: 1\\nnames: [\\'Globular Cluster\\']\\ntrain: /content/{}/train/images\\nval: /content/{}/train/images'.format(folder_name, folder_name))\n",
    "    f.close()\n",
    "\n",
    "    # copy images from C:\\Users\\news1\\Desktop\\master_thesis\\data\\data_augmentation\\filters\\images_filters_for_obj\\ASINH to C:\\Users\\news1\\Desktop\\datasets_augmentation_filter\\train\\images\n",
    "    for file in os.listdir(images_path):\n",
    "        os.rename(images_path + file, target_path + '{}/train/images/{}'.format(folder_name, file))\n",
    "        \n"
   ]
  },
  {
   "cell_type": "code",
   "execution_count": 26,
   "metadata": {},
   "outputs": [],
   "source": [
    "build_yolo_folder('C:/Users/news1/Desktop/', folder_target_name)"
   ]
  }
 ],
 "metadata": {
  "kernelspec": {
   "display_name": "narit",
   "language": "python",
   "name": "python3"
  },
  "language_info": {
   "codemirror_mode": {
    "name": "ipython",
    "version": 3
   },
   "file_extension": ".py",
   "mimetype": "text/x-python",
   "name": "python",
   "nbconvert_exporter": "python",
   "pygments_lexer": "ipython3",
   "version": "3.7.15 (default, Nov  9 2022, 10:44:37) [MSC v.1916 64 bit (AMD64)]"
  },
  "orig_nbformat": 4,
  "vscode": {
   "interpreter": {
    "hash": "37ab12f5734b1477e3698fcfc31ed3b33f01009b89a02af2647610dc6ae3fd14"
   }
  }
 },
 "nbformat": 4,
 "nbformat_minor": 2
}
