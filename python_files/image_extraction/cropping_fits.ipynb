{
  "cells": [
    {
      "cell_type": "markdown",
      "metadata": {
        "id": "4LbOIPqfymw7"
      },
      "source": [
        "# Pro-processing index"
      ]
    },
    {
      "cell_type": "code",
      "execution_count": 1,
      "metadata": {},
      "outputs": [],
      "source": [
        "number_of_file = 10"
      ]
    },
    {
      "cell_type": "code",
      "execution_count": 2,
      "metadata": {
        "id": "x_Oh1UpF3-oY"
      },
      "outputs": [],
      "source": [
        "file_name = '../../regions/local/{}'.format(number_of_file)"
      ]
    },
    {
      "cell_type": "code",
      "execution_count": 3,
      "metadata": {
        "id": "plhfu-8s2eL5"
      },
      "outputs": [],
      "source": [
        "obj = []\n",
        "with open(file_name) as f:\n",
        "  counter_ = 0\n",
        "  for line in f:\n",
        "      if counter_ < 2: # for skipping 2 line header\n",
        "        counter_ += 1\n",
        "      else:\n",
        "        # print(line.split())\n",
        "        obj.append(line.split())"
      ]
    },
    {
      "cell_type": "code",
      "execution_count": 4,
      "metadata": {
        "colab": {
          "base_uri": "https://localhost:8080/"
        },
        "id": "lFV4xkVf39xZ",
        "outputId": "40f67e77-75af-4d3f-ff24-1e94a5b103ee"
      },
      "outputs": [
        {
          "name": "stdout",
          "output_type": "stream",
          "text": [
            "[['box(14180.812,2782.3144,100,100,0)', '#', 'text={39.Stellar}'], ['box(10351.446,3004.9325,100,100,0)', '#', 'text={57.Galaxy}'], ['box(16467.087,8108.0617,100,100,0)', '#', 'text={31.Unknown}'], ['box(13972.544,9931.3977,100,100,0)', '#', 'text={40.Cluster}'], ['box(12110.164,10544.885,100,100,0)', '#', 'text={46.Cluster}'], ['box(11974.225,10505.511,100,100,0)', '#', 'text={49.Cluster}'], ['box(4723.7498,8671.958,100,100,0)', '#', 'text={136.Unknown}'], ['box(4440.4576,10088.686,100,100,0)', '#', 'text={141.Unknown}'], ['box(3790.2594,14707.911,100,100,0)', '#', 'text={152.Unknown}'], ['box(3291.923,12825.445,100,100,0)', '#', 'text={159.Unknown}'], ['box(3179.8079,13583.684,100,100,0)', '#', 'text={162.Unknown}'], ['box(3148.089,10210.909,100,100,0)', '#', 'text={163.Unknown}'], ['box(2355.7681,13005.801,100,100,0)', '#', 'text={174.Unknown}'], ['box(9649.6117,15732.263,100,100,0)', '#', 'text={62.Stellar}'], ['box(9376.1173,13305.8,100,100,0)', '#', 'text={69.Stellar}'], ['box(9155.9876,16522.313,100,100,0)', '#', 'text={71.Unknown}'], ['box(7080.3269,13012.42,100,100,0)', '#', 'text={98.Unknown}'], ['box(6037.1711,15593.266,100,100,0)', '#', 'text={120.Cluster}']]\n"
          ]
        }
      ],
      "source": [
        "print(obj)"
      ]
    },
    {
      "cell_type": "code",
      "execution_count": 204,
      "metadata": {
        "id": "VJRJyVv_7R9i"
      },
      "outputs": [],
      "source": [
        "def extract_box(obj):\n",
        "  obj = obj.replace('(', ',').replace(')', ',').split(',')\n",
        "  x_center = int(float(obj[1]))\n",
        "  y_center = int(float(obj[2]))\n",
        "  crop_x_size = int(obj[3])\n",
        "  crop_y_size = int(obj[4])\n",
        "  return x_center, y_center, crop_x_size, crop_y_size\n",
        "# box(4123.3381,3690.8642,100,100,0) ->  (4123, 3690, 100, 100)"
      ]
    },
    {
      "cell_type": "code",
      "execution_count": 205,
      "metadata": {
        "id": "Mk24uDjFDxS8"
      },
      "outputs": [],
      "source": [
        "def extract_labels(obj):\n",
        "  temp_ = obj.replace('{', ',').replace('}', ',').split(',')\n",
        "  temp_ = temp_[1].split('.')\n",
        "  idx_obj = temp_[0]\n",
        "  labels_obj = temp_[1]\n",
        "  return labels_obj, idx_obj\n",
        "# 'text={254.Cluster}' -> ('Cluster', '254')"
      ]
    },
    {
      "cell_type": "code",
      "execution_count": 206,
      "metadata": {
        "id": "8hBtqdh6EcXM"
      },
      "outputs": [],
      "source": [
        "data = []\n",
        "for i in obj:\n",
        "  x_center, y_center, crop_x_size, crop_y_size = extract_box(i[0])\n",
        "  labels_obj, idx_obj = extract_labels(i[2])\n",
        "  temp_ = [x_center, y_center, crop_x_size, crop_y_size, labels_obj, idx_obj]\n",
        "  data.append(temp_)"
      ]
    },
    {
      "cell_type": "code",
      "execution_count": 207,
      "metadata": {
        "colab": {
          "base_uri": "https://localhost:8080/"
        },
        "id": "XBjCZSR0FB4N",
        "outputId": "f2b7ebbf-2722-4200-c116-f9d489565dc4"
      },
      "outputs": [
        {
          "data": {
            "text/plain": [
              "[[14180, 2782, 100, 100, 'Stellar', '39'],\n",
              " [10351, 3004, 100, 100, 'Galaxy', '57'],\n",
              " [16467, 8108, 100, 100, 'Unknown', '31'],\n",
              " [13972, 9931, 100, 100, 'Cluster', '40'],\n",
              " [12110, 10544, 100, 100, 'Cluster', '46'],\n",
              " [11974, 10505, 100, 100, 'Cluster', '49'],\n",
              " [4723, 8671, 100, 100, 'Unknown', '136'],\n",
              " [4440, 10088, 100, 100, 'Unknown', '141'],\n",
              " [3790, 14707, 100, 100, 'Unknown', '152'],\n",
              " [3291, 12825, 100, 100, 'Unknown', '159'],\n",
              " [3179, 13583, 100, 100, 'Unknown', '162'],\n",
              " [3148, 10210, 100, 100, 'Unknown', '163'],\n",
              " [2355, 13005, 100, 100, 'Unknown', '174'],\n",
              " [9649, 15732, 100, 100, 'Stellar', '62'],\n",
              " [9376, 13305, 100, 100, 'Stellar', '69'],\n",
              " [9155, 16522, 100, 100, 'Unknown', '71'],\n",
              " [7080, 13012, 100, 100, 'Unknown', '98'],\n",
              " [6037, 15593, 100, 100, 'Cluster', '120']]"
            ]
          },
          "execution_count": 207,
          "metadata": {},
          "output_type": "execute_result"
        }
      ],
      "source": [
        "data"
      ]
    },
    {
      "cell_type": "markdown",
      "metadata": {
        "id": "XU1C7qyJFi8z"
      },
      "source": [
        "# Cropping Data"
      ]
    },
    {
      "cell_type": "markdown",
      "metadata": {
        "id": "215KTb3AGkn1"
      },
      "source": [
        "## Survey"
      ]
    },
    {
      "cell_type": "code",
      "execution_count": 208,
      "metadata": {
        "id": "nRN_esnkGO9d"
      },
      "outputs": [],
      "source": [
        "import numpy as np\n",
        "from astropy.io import fits\n",
        "import matplotlib.pyplot as plt\n",
        "import random"
      ]
    },
    {
      "cell_type": "code",
      "execution_count": 209,
      "metadata": {
        "id": "Qf1sD2J4Fk9m"
      },
      "outputs": [],
      "source": [
        "file_i = '../../data/fits/{}.fits'.format(number_of_file)"
      ]
    },
    {
      "cell_type": "code",
      "execution_count": 210,
      "metadata": {
        "id": "0N9B_nRbGNBd"
      },
      "outputs": [
        {
          "name": "stdout",
          "output_type": "stream",
          "text": [
            "Filename: ../data/fits/10.fits\n",
            "No.    Name      Ver    Type      Cards   Dimensions   Format\n",
            "  0  PRIMARY       1 PrimaryHDU    1878   ()      \n",
            "  1  SCI           1 ImageHDU        82   (20921, 16750)   float32   \n",
            "  2  WHT           1 ImageHDU        44   (20921, 16750)   float32   \n",
            "  3  CTX           1 ImageHDU        35   ()      \n",
            "  4  HDRTAB        1 BinTableHDU    638   72R x 314C   [9A, 3A, K, D, D, D, D, D, D, D, D, D, D, D, D, D, K, 8A, 9A, 7A, 18A, 4A, D, D, D, D, 3A, D, D, D, D, D, D, D, D, D, D, D, D, K, 8A, 23A, D, D, D, D, K, K, K, 8A, K, 23A, 9A, 20A, K, 4A, K, K, K, K, K, K, 23A, D, D, D, D, K, K, 3A, 3A, 4A, 7A, L, D, D, D, 23A, 1A, K, D, D, D, 13A, 3A, 4A, 4A, 12A, 12A, 23A, 8A, 23A, 10A, 10A, D, D, 3A, 3A, 23A, 4A, 8A, 7A, 23A, D, K, D, 6A, 9A, 8A, D, D, L, 4A, 44A, 3A, K, 7A, 5A, 3A, D, 13A, 8A, 4A, 3A, L, K, L, K, L, K, K, D, D, D, D, D, D, 3A, 1A, D, 23A, D, D, D, 3A, 23A, L, 1A, 3A, 1A, D, 3A, 6A, K, D, D, D, D, D, D, D, D, D, D, 23A, D, D, D, D, 3A, D, D, D, 1A, K, K, K, K, K, K, 23A, K, 5A, 7A, D, D, D, D, D, D, D, D, D, D, D, D, D, D, D, D, D, 12A, D, 24A, 23A, D, 2A, 8A, D, K, D, D, 6A, 13A, D, 20A, K, D, K, 8A, D, D, D, D, D, 23A, 23A, D, 8A, D, 29A, D, 3A, D, L, D, D, 6A, 6A, 7A, 1A, D, 8A, K, 1A, 1A, 1A, 1A, D, D, D, D, D, D, 4A, D, 7A, D, 4A, K, 4A, 3A, 1A, L, K, K, 1A, D, D, D, D, K, 3A, L, L, 6A, L, D, D, 9A, D, D, 3A, 8A, 1A, D, K, D, L, L, 5A, 30A, 62A, 4A, K, D, D, D, D, D, D, D, D, D, D, D, D, D, D, 8A, 8A, 3A, 3A, 51A]   \n"
          ]
        }
      ],
      "source": [
        "hdu_list = fits.open(file_i, do_not_scale_image_data=True)\n",
        "hdu_list.info()\n",
        "# hdu_list.close()"
      ]
    },
    {
      "cell_type": "code",
      "execution_count": 211,
      "metadata": {},
      "outputs": [
        {
          "name": "stdout",
          "output_type": "stream",
          "text": [
            "<astropy.io.fits.hdu.image.ImageHDU object at 0x000002148ADCAF20>\n"
          ]
        }
      ],
      "source": [
        "print(hdu_list['SCI'])"
      ]
    },
    {
      "cell_type": "code",
      "execution_count": 212,
      "metadata": {
        "id": "82zz7vEUGSlT"
      },
      "outputs": [],
      "source": [
        "image_data = hdu_list['SCI'].data\n",
        "# image_data = hdu_list['SCI'].data"
      ]
    },
    {
      "cell_type": "code",
      "execution_count": 213,
      "metadata": {},
      "outputs": [
        {
          "data": {
            "text/plain": [
              "248504820"
            ]
          },
          "execution_count": 213,
          "metadata": {},
          "output_type": "execute_result"
        }
      ],
      "source": [
        "np.count_nonzero(np.isnan(image_data))\n"
      ]
    },
    {
      "cell_type": "code",
      "execution_count": 214,
      "metadata": {
        "id": "CEMin4fNGUqu"
      },
      "outputs": [
        {
          "name": "stdout",
          "output_type": "stream",
          "text": [
            "Min: nan\n",
            "Max: nan\n",
            "Mean: nan\n",
            "Stdev: nan\n"
          ]
        }
      ],
      "source": [
        "print('Min:', np.min(image_data))\n",
        "print('Max:', np.max(image_data))\n",
        "print('Mean:', np.mean(image_data))\n",
        "print('Stdev:', np.std(image_data))"
      ]
    },
    {
      "cell_type": "code",
      "execution_count": 215,
      "metadata": {
        "id": "epy_-DRXGV3d"
      },
      "outputs": [
        {
          "data": {
            "text/plain": [
              "<matplotlib.colorbar.Colorbar at 0x2148bff7460>"
            ]
          },
          "execution_count": 215,
          "metadata": {},
          "output_type": "execute_result"
        },
        {
          "data": {
            "image/png": "[encoded data removed]",
            "text/plain": [
              "<Figure size 432x288 with 2 Axes>"
            ]
          },
          "metadata": {
            "needs_background": "light"
          },
          "output_type": "display_data"
        }
      ],
      "source": [
        "plt.imshow(image_data, cmap='gray')\n",
        "plt.colorbar()"
      ]
    },
    {
      "cell_type": "markdown",
      "metadata": {
        "id": "k983nv-LGqm3"
      },
      "source": [
        "## Extraction"
      ]
    },
    {
      "cell_type": "code",
      "execution_count": 216,
      "metadata": {
        "id": "sCBB-yEoGz19"
      },
      "outputs": [],
      "source": [
        "# [4123, 3690, 100, 100, 'Cluster', '254'],"
      ]
    },
    {
      "cell_type": "code",
      "execution_count": 217,
      "metadata": {
        "id": "ONBYbXQ3Gskl"
      },
      "outputs": [],
      "source": [
        "t_ = 1\n",
        "pos_x = data[t_][0]\n",
        "pos_y = data[t_][1]\n",
        "crop_size_x = data[t_][2]\n",
        "crop_size_y = data[t_][3]\n",
        "\n",
        "if (crop_size_x * crop_size_x) % 2 != 0: # odd number of size\n",
        "  rad_x = crop_size_x // 2\n",
        "  rad_y = crop_size_y // 2\n",
        "\n",
        "  start_x = pos_x-rad_x\n",
        "  end_x = pos_x+rad_x + 1\n",
        "\n",
        "  start_y = pos_y-rad_y\n",
        "  end_y = pos_y+rad_y + 1\n",
        "else: # even number of size\n",
        "  rad_x = crop_size_x // 2\n",
        "  rad_y = crop_size_y // 2\n",
        "\n",
        "  start_x = pos_x-rad_x\n",
        "  end_x = pos_x+rad_x\n",
        "\n",
        "  start_y = pos_y-rad_y\n",
        "  end_y = pos_y+rad_y"
      ]
    },
    {
      "cell_type": "code",
      "execution_count": 218,
      "metadata": {},
      "outputs": [
        {
          "data": {
            "text/plain": [
              "<matplotlib.colorbar.Colorbar at 0x2148c0af340>"
            ]
          },
          "execution_count": 218,
          "metadata": {},
          "output_type": "execute_result"
        },
        {
          "data": {
            "image/png": "[encoded data removed]",
            "text/plain": [
              "<Figure size 432x288 with 2 Axes>"
            ]
          },
          "metadata": {
            "needs_background": "light"
          },
          "output_type": "display_data"
        }
      ],
      "source": [
        "example_image = image_data[start_y:end_y, start_x:end_x]\n",
        "plt.imshow(example_image, cmap='gray')\n",
        "plt.colorbar()"
      ]
    },
    {
      "cell_type": "code",
      "execution_count": 219,
      "metadata": {},
      "outputs": [
        {
          "data": {
            "text/plain": [
              "(100, 100)"
            ]
          },
          "execution_count": 219,
          "metadata": {},
          "output_type": "execute_result"
        }
      ],
      "source": [
        "example_image.shape"
      ]
    },
    {
      "cell_type": "code",
      "execution_count": 220,
      "metadata": {},
      "outputs": [],
      "source": [
        "def get_img_area(data, index):\n",
        "  pos_x = data[index][0]\n",
        "  pos_y = data[index][1]\n",
        "  crop_size_x = data[index][2]\n",
        "  crop_size_y = data[index][3]\n",
        "\n",
        "  if (crop_size_x * crop_size_x) % 2 != 0: # odd number of size\n",
        "    rad_x = crop_size_x // 2\n",
        "    rad_y = crop_size_y // 2\n",
        "\n",
        "    start_x = pos_x-rad_x\n",
        "    end_x = pos_x+rad_x + 1\n",
        "\n",
        "    start_y = pos_y-rad_y\n",
        "    end_y = pos_y+rad_y + 1\n",
        "  else: # even number of size\n",
        "    rad_x = crop_size_x // 2\n",
        "    rad_y = crop_size_y // 2\n",
        "\n",
        "    start_x = pos_x-rad_x\n",
        "    end_x = pos_x+rad_x\n",
        "\n",
        "    start_y = pos_y-rad_y\n",
        "    end_y = pos_y+rad_y\n",
        "  return start_x, end_x, start_y, end_y"
      ]
    },
    {
      "cell_type": "markdown",
      "metadata": {},
      "source": [
        "## Export the Image Data"
      ]
    },
    {
      "cell_type": "code",
      "execution_count": 221,
      "metadata": {},
      "outputs": [],
      "source": [
        "for i in range(len(data)):\n",
        "    start_x, end_x, start_y, end_y = get_img_area(data, i)\n",
        "    export_data = image_data[start_y:end_y, start_x:end_x]\n",
        "    hdu = fits.PrimaryHDU(export_data) # save img into google drive\n",
        "    hdulist = fits.HDUList([hdu])\n",
        "    # try:\n",
        "    #     path = '../../data/images/img_{}_{}.fits'.format(data[i][5], data[i][4])\n",
        "    #     hdulist.writeto(path)\n",
        "    # except:\n",
        "    #     path = '../../data/images/img_{}_{}_{}.fits'.format(data[i][5], data[i][4], random.randint(0, 9999))\n",
        "    #     hdulist.writeto(path)\n"
      ]
    }
  ],
  "metadata": {
    "colab": {
      "collapsed_sections": [],
      "provenance": []
    },
    "kernelspec": {
      "display_name": "Python 3.10.6 64-bit",
      "language": "python",
      "name": "python3"
    },
    "language_info": {
      "codemirror_mode": {
        "name": "ipython",
        "version": 3
      },
      "file_extension": ".py",
      "mimetype": "text/x-python",
      "name": "python",
      "nbconvert_exporter": "python",
      "pygments_lexer": "ipython3",
      "version": "3.10.6"
    },
    "vscode": {
      "interpreter": {
        "hash": "916dbcbb3f70747c44a77c7bcd40155683ae19c65e1c03b4aa3499c5328201f1"
      }
    }
  },
  "nbformat": 4,
  "nbformat_minor": 0
}
