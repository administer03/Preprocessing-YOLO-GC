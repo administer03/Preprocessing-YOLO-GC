{
 "cells": [
  {
   "cell_type": "code",
   "execution_count": 1,
   "metadata": {},
   "outputs": [],
   "source": [
    "from scipy import ndimage, misc\n",
    "import numpy as np\n",
    "import os\n",
    "import cv2"
   ]
  },
  {
   "cell_type": "code",
   "execution_count": 33,
   "metadata": {},
   "outputs": [],
   "source": [
    "from PIL import Image\n",
    "Image.MAX_IMAGE_PIXELS = 1000000000"
   ]
  },
  {
   "cell_type": "code",
   "execution_count": 35,
   "metadata": {},
   "outputs": [
    {
     "name": "stdout",
     "output_type": "stream",
     "text": [
      "1.jpg\n",
      "(5932, 5926)\n",
      "(100, 100)\n",
      "-----------------------------------------\n",
      "10.jpg\n",
      "(20921, 16750)\n",
      "(100, 100)\n",
      "-----------------------------------------\n",
      "2.jpg\n",
      "(5931, 5926)\n",
      "(100, 100)\n",
      "-----------------------------------------\n",
      "3.jpg\n",
      "(5929, 5923)\n",
      "(100, 100)\n",
      "-----------------------------------------\n",
      "4.jpg\n",
      "(6204, 6206)\n",
      "(100, 100)\n",
      "-----------------------------------------\n",
      "5.jpg\n",
      "(5932, 5927)\n",
      "(100, 100)\n",
      "-----------------------------------------\n",
      "6.jpg\n",
      "(5932, 5926)\n",
      "(100, 100)\n",
      "-----------------------------------------\n",
      "7.jpg\n",
      "(5559, 5541)\n",
      "(100, 100)\n",
      "-----------------------------------------\n",
      "8.jpg\n",
      "(5787, 5776)\n",
      "(100, 100)\n",
      "-----------------------------------------\n",
      "9.jpg\n",
      "(21953, 21953)\n",
      "(100, 100)\n",
      "-----------------------------------------\n"
     ]
    }
   ],
   "source": [
    "outPath = \"../../detection/test_data_2\"\n",
    "path = \"../../data/jpg/global\"\n",
    "\n",
    "# iterate through the names of contents of the folder\n",
    "for image_path in os.listdir(path):\n",
    "    print(image_path)\n",
    "    # create the full input path and read the file\n",
    "    image = Image.open(path + '/' + image_path)\n",
    "    print(image.size)\n",
    "\n",
    "    sunset_resized = image.resize((100, 100))\n",
    "    print(sunset_resized.size)\n",
    "    sunset_resized.save(\"{}\".format((outPath + '/' + image_path)))\n",
    "    print('-----------------------------------------')\n"
   ]
  }
 ],
 "metadata": {
  "kernelspec": {
   "display_name": "Python 3.10.6 64-bit",
   "language": "python",
   "name": "python3"
  },
  "language_info": {
   "codemirror_mode": {
    "name": "ipython",
    "version": 3
   },
   "file_extension": ".py",
   "mimetype": "text/x-python",
   "name": "python",
   "nbconvert_exporter": "python",
   "pygments_lexer": "ipython3",
   "version": "3.10.6"
  },
  "orig_nbformat": 4,
  "vscode": {
   "interpreter": {
    "hash": "916dbcbb3f70747c44a77c7bcd40155683ae19c65e1c03b4aa3499c5328201f1"
   }
  }
 },
 "nbformat": 4,
 "nbformat_minor": 2
}
